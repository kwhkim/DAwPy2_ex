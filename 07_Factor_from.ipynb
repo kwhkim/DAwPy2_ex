{
 "cells": [
  {
   "cell_type": "markdown",
   "id": "80173677",
   "metadata": {},
   "source": [
    "# 범주형 데이터"
   ]
  },
  {
   "cell_type": "markdown",
   "id": "564e201f",
   "metadata": {},
   "source": [
    "## 파이썬에서 범주형 데이터 저장하기"
   ]
  },
  {
   "cell_type": "markdown",
   "id": "ae65b689",
   "metadata": {},
   "source": [
    "파이썬의 **내장 클래스** 또는 **표준 모듈**에는 범주형 데이터를 위한 클래스가 없다. **넘파이** 배열에서도 범주형을 위한 dtype(데이터타입)을 지원하지 않는다. 하지만 데이터 분석에서 범주형 자료는 자주 쓰인다. 판다스에서는 범주형 데이터를 위해 `pd.Categorical()`과 `pd.Series([], dtype='category')`를 지원한다."
   ]
  },
  {
   "cell_type": "code",
   "execution_count": 1,
   "id": "3539530a",
   "metadata": {},
   "outputs": [],
   "source": [
    "import numpy as np\n",
    "import pandas as pd"
   ]
  },
  {
   "cell_type": "markdown",
   "id": "328a5623",
   "metadata": {},
   "source": [
    "다음은 동`East`, 서`West`, 남`South`, 북`North`을 범주로 갖는 자료를 `pd.Categorical()`과 `pd.Series()`를 사용하여 객체로 만든다. "
   ]
  },
  {
   "cell_type": "code",
   "execution_count": 2,
   "id": "dbeac26d",
   "metadata": {},
   "outputs": [
    {
     "data": {
      "text/plain": [
       "['North', 'East', 'West', 'East', 'West']\n",
       "Categories (3, object): ['East', 'North', 'West']"
      ]
     },
     "execution_count": 2,
     "metadata": {},
     "output_type": "execute_result"
    }
   ],
   "source": [
    "pd.Categorical(['North', 'East', 'West', 'East', 'West'])"
   ]
  },
  {
   "cell_type": "code",
   "execution_count": 3,
   "id": "a22f788b",
   "metadata": {},
   "outputs": [
    {
     "data": {
      "text/plain": [
       "0    North\n",
       "1     East\n",
       "2     West\n",
       "3     East\n",
       "4     West\n",
       "dtype: category\n",
       "Categories (3, object): ['East', 'North', 'West']"
      ]
     },
     "execution_count": 3,
     "metadata": {},
     "output_type": "execute_result"
    }
   ],
   "source": [
    "pd.Series(['North', 'East', 'West', 'East', 'West'],\n",
    "          dtype='category')"
   ]
  },
  {
   "cell_type": "markdown",
   "id": "4b191bd0",
   "metadata": {},
   "source": [
    "일단 `pd.Categorical()`과 `pd.Series([], dtype='category')`의 차이에 알아보자.\n",
    "\n",
    "`type()`과 `.dtype`으로 둘을 비교해보면 다음과 같다."
   ]
  },
  {
   "cell_type": "code",
   "execution_count": 4,
   "id": "0bb57012",
   "metadata": {},
   "outputs": [
    {
     "data": {
      "text/plain": [
       "(pandas.core.arrays.categorical.Categorical,\n",
       " CategoricalDtype(categories=[], ordered=False))"
      ]
     },
     "execution_count": 4,
     "metadata": {},
     "output_type": "execute_result"
    }
   ],
   "source": [
    "x = pd.Categorical([])\n",
    "type(x), x.dtype"
   ]
  },
  {
   "cell_type": "code",
   "execution_count": 5,
   "id": "6d91768b",
   "metadata": {},
   "outputs": [
    {
     "data": {
      "text/plain": [
       "(pandas.core.series.Series, CategoricalDtype(categories=[], ordered=False))"
      ]
     },
     "execution_count": 5,
     "metadata": {},
     "output_type": "execute_result"
    }
   ],
   "source": [
    "y = pd.Series([], dtype='category')\n",
    "type(y), y.dtype"
   ]
  },
  {
   "cell_type": "markdown",
   "id": "20f06ead",
   "metadata": {},
   "source": [
    "이 둘의 관계는 마치 `np.array()`와 `pd.Series()`의 관계와 비슷하다. 먼저 `.dtype`은 `CategoricalDtype()`으로 동일하다(내용물은 같다고 볼 수 있다).\n",
    "\n",
    "넘파이 배열은 범주형 자료를 지원하지 않기 때문에 판다스에서 새롭게 범주형을 지원하는 새로운 클래스를 만들었다.\n",
    "위의 결과를 보면 클래스는 `pandas.core.arrays.categorical.Categorical`이다. 중간의 `arrays`에서 넘파이 배열(`array`)와의 유사성을 유추해 볼 수 있다. `pd.Categorical()`과 `pd.Series()`의 차이는 배열은 인덱스를 지원하지 않고, `pd.Series()`는 인덱스가 있다는 점이다.\n",
    "\n",
    "`pd.Categorical()`에는 범주형 데이터를 다루는 여러 가지 메소드가 존재한다. 예를 들어 새로운 범주를 추가할 때에는 `.add_categories()` 메소드를 사용한다. 이런 메쏘드는 `pd.Series()`에서는 `.cat` accesor로 접근할 수 있다.  예를 들어, `x=pd.Categorical()`, `y=pd.Series([], dtype='category')`일 때, `x.add_categories([])`, `y.cat.add_cateogries([])`으로 쓴다."
   ]
  },
  {
   "cell_type": "markdown",
   "id": "59e93f5d",
   "metadata": {},
   "source": [
    "## `pd.Categorical()`"
   ]
  },
  {
   "cell_type": "markdown",
   "id": "4aee04e1",
   "metadata": {},
   "source": [
    "`pd.Categorical` 객체를 생성하는 방법은 다음과 같다.[^rpdcategorical]\n",
    "\n",
    "[^rpdcategorical]: 이는 R에서 `x <- factor(c('Alpha', 'Beta', 'Alpha', 'Charley', 'Beta'))`를 한 것과 비슷하다."
   ]
  },
  {
   "cell_type": "code",
   "execution_count": 6,
   "id": "75d0c360",
   "metadata": {
    "lines_to_next_cell": 2
   },
   "outputs": [
    {
     "data": {
      "text/plain": [
       "['Alpha', 'Beta', 'Alpha', 'Charley', 'Beta']\n",
       "Categories (3, object): ['Alpha', 'Beta', 'Charley']"
      ]
     },
     "execution_count": 6,
     "metadata": {},
     "output_type": "execute_result"
    }
   ],
   "source": [
    "x = pd.Categorical(['Alpha', 'Beta', 'Alpha', 'Charley', 'Beta'])\n",
    "x"
   ]
  },
  {
   "cell_type": "markdown",
   "id": "275b2460",
   "metadata": {},
   "source": [
    "위에서 생성한 `x`와 동일한 내용을 담고 있는 넘파이 배열 `y`를 다음과 같이 생성했다."
   ]
  },
  {
   "cell_type": "code",
   "execution_count": 7,
   "id": "0848fa2d",
   "metadata": {},
   "outputs": [
    {
     "data": {
      "text/plain": [
       "(numpy.ndarray, dtype('<U7'))"
      ]
     },
     "execution_count": 7,
     "metadata": {},
     "output_type": "execute_result"
    }
   ],
   "source": [
    "y = np.array(['Alpha', 'Beta', 'Alpha', 'Charley', 'Beta'])\n",
    "type(y), y.dtype"
   ]
  },
  {
   "cell_type": "markdown",
   "id": "4930f398",
   "metadata": {},
   "source": [
    "문자열을 담고 있는 배열은 `dtype='O'` 또는 `dtype='U'`로 생성할 수 있다. `pd.array([], dtype='O')` 또는 `pd.array([], dtype='U')`과 같은 문자열 넘파이 배열과 `pd.Categorical()`의 차이는 데이터를 저장하는 방식에 있다. `pd.Categorical()`은 먼저 범주를 확인한다. `y`를 보면 총 자료는 5개이지만, `Alpha`와 `Beta`가 반복되고 있다. 그래서 총 범주는 3개로 리스트로 나타내면 `['Alpha', 'Beta', 'Charley']`이다. 그리고 이들에 코드를 배정한다. `Alpha`는 0, `Beta`는 1, `Charley`는 2로 코드를 배정한 후, 실제 데이터는 배정된 코드를 사용하여 표현한다. `['Alpha', 'Beta', 'Alpha', 'Charley', 'Beta']`는 코드로 나타내면 `[0,1,0,2,1]`이 된다. \n",
    "\n",
    "`pd.Categorical()`은 이렇게 데이터는 범주(category)와 코드로 분리해 저장하게 된다. 범주와 코드는 `.categories`와 `.codes`로 확인할 수 있다."
   ]
  },
  {
   "cell_type": "code",
   "execution_count": 8,
   "id": "aa3fae11",
   "metadata": {},
   "outputs": [
    {
     "data": {
      "text/plain": [
       "(Index(['Alpha', 'Beta', 'Charley'], dtype='object'),\n",
       " array([0, 1, 0, 2, 1], dtype=int8))"
      ]
     },
     "execution_count": 8,
     "metadata": {},
     "output_type": "execute_result"
    }
   ],
   "source": [
    "x.categories, x.codes"
   ]
  },
  {
   "cell_type": "markdown",
   "id": "503c560b",
   "metadata": {},
   "source": [
    "만약 결측값(`None` 또는 `np.nan`)이 있다면 코드 `-1`로 저장된다."
   ]
  },
  {
   "cell_type": "code",
   "execution_count": 9,
   "id": "493fc84a",
   "metadata": {},
   "outputs": [
    {
     "data": {
      "text/plain": [
       "(array([ 0,  1,  0, -1, -1], dtype=int8),\n",
       " ['Alpha', 'Beta', 'Alpha', NaN, NaN]\n",
       " Categories (2, object): ['Alpha', 'Beta'])"
      ]
     },
     "execution_count": 9,
     "metadata": {},
     "output_type": "execute_result"
    }
   ],
   "source": [
    "x = pd.Categorical(['Alpha', 'Beta', 'Alpha', np.nan, None])\n",
    "x.codes, x"
   ]
  },
  {
   "cell_type": "markdown",
   "id": "6dab66ab",
   "metadata": {},
   "source": [
    "위에서 자료에 `'Charley'`가 포함되어 있지 않기 때문에 결과에 `Categories`를 보면 `'Alpha'`와 `'Beta'`만 있다. 만약 범주를 이미 알고 있다면 `categories=`를 통해 알려줄 수 있다."
   ]
  },
  {
   "cell_type": "code",
   "execution_count": 10,
   "id": "adbdc62c",
   "metadata": {},
   "outputs": [
    {
     "data": {
      "text/plain": [
       "['Alpha', 'Beta', 'Alpha', NaN, NaN]\n",
       "Categories (3, object): ['Alpha', 'Beta', 'Charley']"
      ]
     },
     "execution_count": 10,
     "metadata": {},
     "output_type": "execute_result"
    }
   ],
   "source": [
    "x = pd.Categorical(['Alpha', 'Beta', 'Alpha', np.nan, None],\n",
    "                  categories=['Alpha', 'Beta', 'Charley'])\n",
    "x"
   ]
  },
  {
   "cell_type": "markdown",
   "id": "d785302e",
   "metadata": {},
   "source": [
    "범주형 데이터는 크게 **명목형**과 **순위형**이 있다. 명목형은 서로 독립된 범주형이고, 순위형은 범주 사이에 순위 관계가 존재하는 경우이다. 명목형의 예로 서울, 부산, 대구 등과 같이 단어의 의미에 대소, 우열이 없는 경우이다.[^07seoul] 그와 반대로 리커트 응답 항목의 \"매우 그렇지 **않다**\", \"그렇다\", \"매우 그렇다\" 등은 단어의미가 어떤 명제에 대해 긍정의 정도를 의미한다. 긍정의 강도에서 \"매우 그렇지 **않다**\" < \"그렇다\" < \"매우 그렇다\"임을 누구나 알 수 있다. 이때 순위형의 문제는 각 범주 사이의 크기를 정확하게 결정할 수 없다는 점에 있다. \"매우 그렇지 **않다**\", \"그렇다\", \"매우 그렇다\"를 0,1,2로 코딩할 수 있지만, 이 코딩값의 의미가 \"그렇다\"와 \"매우 그렇지 않다\"의 차이가 1이고, \"매우 그렇다\"와 \"그렇다\"의 차이가 정확하게 1이라는 것을 의미하지 않는다. (사람이 \"매우 그렇다\", \"그렇다\", \"그렇지 않다\"라고 대답하는 경우에 그 차이가 정확히 같다고 말하기 힘들다.)\n",
    "\n",
    "[^07seoul]: 도시의 크기를 생각하면 서울은 부산보다 크지만 이것이 서울과 부산의 본질적인 의미에 담겨 있지 않다. 서울의 크기는 항상 부산보다 큰가? 미래에도 서울이 부산보다 항상 클 것인가?"
   ]
  },
  {
   "cell_type": "markdown",
   "id": "5b00fa85",
   "metadata": {},
   "source": [
    "순위형 데이터를 생성하는 방법은 다음과 같다."
   ]
  },
  {
   "cell_type": "code",
   "execution_count": 11,
   "id": "465a7f99",
   "metadata": {},
   "outputs": [
    {
     "data": {
      "text/plain": [
       "['매우 그렇다', '그렇다', '그렇지 않다', '그렇지 않다', '그렇다']\n",
       "Categories (3, object): ['그렇지 않다' < '그렇다' < '매우 그렇다']"
      ]
     },
     "execution_count": 11,
     "metadata": {},
     "output_type": "execute_result"
    }
   ],
   "source": [
    "y = pd.Categorical(['매우 그렇다', '그렇다', '그렇지 않다', '그렇지 않다', '그렇다'],\n",
    "                  categories=['그렇지 않다', '그렇다', '매우 그렇다'],\n",
    "                  ordered = True)\n",
    "y"
   ]
  },
  {
   "cell_type": "code",
   "execution_count": 12,
   "id": "356dd27b",
   "metadata": {},
   "outputs": [
    {
     "data": {
      "text/plain": [
       "(Index(['그렇지 않다', '그렇다', '매우 그렇다'], dtype='object'),\n",
       " True,\n",
       " array([2, 1, 0, 0, 1], dtype=int8))"
      ]
     },
     "execution_count": 12,
     "metadata": {},
     "output_type": "execute_result"
    }
   ],
   "source": [
    "y.categories, y.ordered, y.codes"
   ]
  },
  {
   "cell_type": "markdown",
   "id": "19f46bb6",
   "metadata": {},
   "source": [
    "순위형에서는 자료에서 범주의 순위를 확인하기 힘들기 때문에 범주의 순위대로 `categories=`를 설정하고, `ordered=True`로 지정한다. 순위형에서는 자료 사이의 대소를 확인할 수 있고, 대소를 통해 계산할 수 있는 메쏘드(`.min()`, `.max()`)를 지원한다."
   ]
  },
  {
   "cell_type": "code",
   "execution_count": 13,
   "id": "454dc9a4",
   "metadata": {},
   "outputs": [
    {
     "data": {
      "text/plain": [
       "('그렇지 않다', '매우 그렇다')"
      ]
     },
     "execution_count": 13,
     "metadata": {},
     "output_type": "execute_result"
    }
   ],
   "source": [
    "y.min(), y.max()"
   ]
  },
  {
   "cell_type": "code",
   "execution_count": 14,
   "id": "e88ce101",
   "metadata": {},
   "outputs": [
    {
     "ename": "TypeError",
     "evalue": "Categorical is not ordered for operation min\nyou can use .as_ordered() to change the Categorical to an ordered one\n",
     "output_type": "error",
     "traceback": [
      "\u001b[0;31m---------------------------------------------------------------------------\u001b[0m",
      "\u001b[0;31mTypeError\u001b[0m                                 Traceback (most recent call last)",
      "Cell \u001b[0;32mIn[14], line 2\u001b[0m\n\u001b[1;32m      1\u001b[0m \u001b[38;5;66;03m#% eval=FALSE\u001b[39;00m\n\u001b[0;32m----> 2\u001b[0m \u001b[43mx\u001b[49m\u001b[38;5;241;43m.\u001b[39;49m\u001b[43mmin\u001b[49m\u001b[43m(\u001b[49m\u001b[43m)\u001b[49m, x\u001b[38;5;241m.\u001b[39mmax()\n\u001b[1;32m      3\u001b[0m \u001b[38;5;66;03m## TypeError: Categorical is not ordered for operation min\u001b[39;00m\n\u001b[1;32m      4\u001b[0m \u001b[38;5;66;03m## you can use .as_ordered() to change the Categorical to an ordered one\u001b[39;00m\n",
      "File \u001b[0;32m~/miniforge3/envs/rtopython4-pip/lib/python3.9/site-packages/pandas/core/arrays/categorical.py:2005\u001b[0m, in \u001b[0;36mCategorical.min\u001b[0;34m(self, skipna, **kwargs)\u001b[0m\n\u001b[1;32m   2003\u001b[0m nv\u001b[38;5;241m.\u001b[39mvalidate_minmax_axis(kwargs\u001b[38;5;241m.\u001b[39mget(\u001b[38;5;124m\"\u001b[39m\u001b[38;5;124maxis\u001b[39m\u001b[38;5;124m\"\u001b[39m, \u001b[38;5;241m0\u001b[39m))\n\u001b[1;32m   2004\u001b[0m nv\u001b[38;5;241m.\u001b[39mvalidate_min((), kwargs)\n\u001b[0;32m-> 2005\u001b[0m \u001b[38;5;28;43mself\u001b[39;49m\u001b[38;5;241;43m.\u001b[39;49m\u001b[43mcheck_for_ordered\u001b[49m\u001b[43m(\u001b[49m\u001b[38;5;124;43m\"\u001b[39;49m\u001b[38;5;124;43mmin\u001b[39;49m\u001b[38;5;124;43m\"\u001b[39;49m\u001b[43m)\u001b[49m\n\u001b[1;32m   2007\u001b[0m \u001b[38;5;28;01mif\u001b[39;00m \u001b[38;5;129;01mnot\u001b[39;00m \u001b[38;5;28mlen\u001b[39m(\u001b[38;5;28mself\u001b[39m\u001b[38;5;241m.\u001b[39m_codes):\n\u001b[1;32m   2008\u001b[0m     \u001b[38;5;28;01mreturn\u001b[39;00m \u001b[38;5;28mself\u001b[39m\u001b[38;5;241m.\u001b[39mdtype\u001b[38;5;241m.\u001b[39mna_value\n",
      "File \u001b[0;32m~/miniforge3/envs/rtopython4-pip/lib/python3.9/site-packages/pandas/core/arrays/categorical.py:1553\u001b[0m, in \u001b[0;36mCategorical.check_for_ordered\u001b[0;34m(self, op)\u001b[0m\n\u001b[1;32m   1551\u001b[0m \u001b[38;5;250m\u001b[39m\u001b[38;5;124;03m\"\"\"assert that we are ordered\"\"\"\u001b[39;00m\n\u001b[1;32m   1552\u001b[0m \u001b[38;5;28;01mif\u001b[39;00m \u001b[38;5;129;01mnot\u001b[39;00m \u001b[38;5;28mself\u001b[39m\u001b[38;5;241m.\u001b[39mordered:\n\u001b[0;32m-> 1553\u001b[0m     \u001b[38;5;28;01mraise\u001b[39;00m \u001b[38;5;167;01mTypeError\u001b[39;00m(\n\u001b[1;32m   1554\u001b[0m         \u001b[38;5;124mf\u001b[39m\u001b[38;5;124m\"\u001b[39m\u001b[38;5;124mCategorical is not ordered for operation \u001b[39m\u001b[38;5;132;01m{\u001b[39;00mop\u001b[38;5;132;01m}\u001b[39;00m\u001b[38;5;130;01m\\n\u001b[39;00m\u001b[38;5;124m\"\u001b[39m\n\u001b[1;32m   1555\u001b[0m         \u001b[38;5;124m\"\u001b[39m\u001b[38;5;124myou can use .as_ordered() to change the \u001b[39m\u001b[38;5;124m\"\u001b[39m\n\u001b[1;32m   1556\u001b[0m         \u001b[38;5;124m\"\u001b[39m\u001b[38;5;124mCategorical to an ordered one\u001b[39m\u001b[38;5;130;01m\\n\u001b[39;00m\u001b[38;5;124m\"\u001b[39m\n\u001b[1;32m   1557\u001b[0m     )\n",
      "\u001b[0;31mTypeError\u001b[0m: Categorical is not ordered for operation min\nyou can use .as_ordered() to change the Categorical to an ordered one\n"
     ]
    }
   ],
   "source": [
    "#% eval=FALSE\n",
    "x.min(), x.max()\n",
    "## TypeError: Categorical is not ordered for operation min\n",
    "## you can use .as_ordered() to change the Categorical to an ordered one"
   ]
  },
  {
   "cell_type": "markdown",
   "id": "0386604a",
   "metadata": {},
   "source": [
    "만약 명목형 자료를 순위형으로 변환하고자 한다면, `.as_ordered()` 메쏘드를 사용할 수 있다."
   ]
  },
  {
   "cell_type": "code",
   "execution_count": 15,
   "id": "78446b07",
   "metadata": {},
   "outputs": [
    {
     "data": {
      "text/plain": [
       "['Alpha', 'Beta', 'Alpha', NaN, NaN]\n",
       "Categories (3, object): ['Alpha' < 'Beta' < 'Charley']"
      ]
     },
     "execution_count": 15,
     "metadata": {},
     "output_type": "execute_result"
    }
   ],
   "source": [
    "x.as_ordered()"
   ]
  },
  {
   "cell_type": "markdown",
   "id": "aff58f10",
   "metadata": {},
   "source": [
    "`x.as_ordered()`를 하면 새로운 객체가 생성되고, `x.as_ordered(inplace=True)`를 하면 `x`가 바로 수정된다. (결과만 보면 `x=x.as_ordered()`와 같다.) "
   ]
  },
  {
   "cell_type": "markdown",
   "id": "6cb25def",
   "metadata": {},
   "source": [
    "이때 범주 순위를 결정하기 위해서는 `.reorder_categories()`를 사용할 필요가 있다."
   ]
  },
  {
   "cell_type": "code",
   "execution_count": 16,
   "id": "230f486d",
   "metadata": {},
   "outputs": [
    {
     "data": {
      "text/plain": [
       "['Alpha', 'Beta', 'Alpha', NaN, NaN]\n",
       "Categories (3, object): ['Charley' < 'Beta' < 'Alpha']"
      ]
     },
     "execution_count": 16,
     "metadata": {},
     "output_type": "execute_result"
    }
   ],
   "source": [
    "x.as_ordered().reorder_categories(['Charley', 'Beta', 'Alpha'])"
   ]
  },
  {
   "cell_type": "markdown",
   "id": "6644cdd9",
   "metadata": {},
   "source": [
    "만약 `.as_ordered(inplace=True)`를 했다면, 마찬가지로 `.reorder_categories([], inplace=True)`를 해준다. 하지만 `.reorder_categories()`에서 `inplace=True`는 판다스 미래 버전에서 허용되지 않는다고 한다. 그러니 미래 판다스 버전까지 염두해 둔다면 `x=x.reorder_categories([])`가 나을 것이다."
   ]
  },
  {
   "cell_type": "code",
   "execution_count": 17,
   "id": "3f091b71",
   "metadata": {},
   "outputs": [
    {
     "ename": "TypeError",
     "evalue": "as_ordered() got an unexpected keyword argument 'inplace'",
     "output_type": "error",
     "traceback": [
      "\u001b[0;31m---------------------------------------------------------------------------\u001b[0m",
      "\u001b[0;31mTypeError\u001b[0m                                 Traceback (most recent call last)",
      "Cell \u001b[0;32mIn[17], line 1\u001b[0m\n\u001b[0;32m----> 1\u001b[0m \u001b[43mx\u001b[49m\u001b[38;5;241;43m.\u001b[39;49m\u001b[43mas_ordered\u001b[49m\u001b[43m(\u001b[49m\u001b[43minplace\u001b[49m\u001b[38;5;241;43m=\u001b[39;49m\u001b[38;5;28;43;01mTrue\u001b[39;49;00m\u001b[43m)\u001b[49m\n",
      "\u001b[0;31mTypeError\u001b[0m: as_ordered() got an unexpected keyword argument 'inplace'"
     ]
    }
   ],
   "source": [
    "x.as_ordered(inplace=True)"
   ]
  },
  {
   "cell_type": "code",
   "execution_count": 18,
   "id": "95fa7dfe",
   "metadata": {},
   "outputs": [
    {
     "data": {
      "text/plain": [
       "['Alpha', 'Beta', 'Alpha', NaN, NaN]\n",
       "Categories (3, object): ['Charley', 'Beta', 'Alpha']"
      ]
     },
     "execution_count": 18,
     "metadata": {},
     "output_type": "execute_result"
    }
   ],
   "source": [
    "x = x.reorder_categories(['Charley', 'Beta', 'Alpha'])\n",
    "x"
   ]
  },
  {
   "cell_type": "markdown",
   "id": "cb7791d7",
   "metadata": {},
   "source": [
    "만약 순위형을 범주형으로 변환하고자 한다면 `.as_unordered()`를 사용한다."
   ]
  },
  {
   "cell_type": "code",
   "execution_count": 19,
   "id": "ad1d3981",
   "metadata": {},
   "outputs": [
    {
     "data": {
      "text/plain": [
       "['Alpha', 'Beta', 'Alpha', NaN, NaN]\n",
       "Categories (3, object): ['Charley', 'Beta', 'Alpha']"
      ]
     },
     "execution_count": 19,
     "metadata": {},
     "output_type": "execute_result"
    }
   ],
   "source": [
    "x.as_unordered()"
   ]
  },
  {
   "cell_type": "markdown",
   "id": "2973227b",
   "metadata": {},
   "source": [
    "### 범주형(`pd.Categorical`) 생성/확인/변환"
   ]
  },
  {
   "cell_type": "markdown",
   "id": "1f7a8fe5",
   "metadata": {},
   "source": [
    "변수가 `x`일 때, \n",
    "\n",
    "|         | 범주형  | 순위형  |\n",
    "|:---|:---------|:---------|\n",
    "|  생성    | `pd.Categorical([...], categories=[...])`| `pd.Categorical([...], categories=[...], ordered=True)` |\n",
    "|  확인    | `isinstance(x, pd.Categorical) and not x.ordered`    | `isinstance(x, pd.Categorical) and x.ordered` |\n",
    "|  변환(~으로)    | `x.as_unordered()` | `x.as_ordered().reorder_categories([...])`|"
   ]
  },
  {
   "cell_type": "markdown",
   "id": "0cee3ba1",
   "metadata": {},
   "source": [
    "## `pd.Series([...], dtype='category')`"
   ]
  },
  {
   "cell_type": "markdown",
   "id": "b869c360",
   "metadata": {},
   "source": [
    "판다스 시리즈는 넘파이 배열과 인덱스를 합쳐 놓은 데이터 형태이다. "
   ]
  },
  {
   "cell_type": "code",
   "execution_count": 20,
   "id": "09fe991a",
   "metadata": {},
   "outputs": [
    {
     "data": {
      "text/plain": [
       "a    Alpha\n",
       "b     Beta\n",
       "c    Alpha\n",
       "d      NaN\n",
       "e      NaN\n",
       "dtype: category\n",
       "Categories (3, object): ['Charley', 'Beta', 'Alpha']"
      ]
     },
     "execution_count": 20,
     "metadata": {},
     "output_type": "execute_result"
    }
   ],
   "source": [
    "s = pd.Series(x, index = ['a', 'b', 'c', 'd', 'e'])\n",
    "s"
   ]
  },
  {
   "cell_type": "markdown",
   "id": "285451ff",
   "metadata": {},
   "source": [
    "위의 출력을 보자. 위의 `a`, `b`, `c` 등은 인덱스를 나타내고, 오른쪽은 값(`Alpha`, `Beta` 등)을 나타낸다. `dtype:`은 자료형을 나타낸다. 그 아래 `Categories`는 범주 목록과 순위 관계를 보여준다. "
   ]
  },
  {
   "cell_type": "markdown",
   "id": "7685e6c0",
   "metadata": {},
   "source": [
    "(예상했겠지만) 데이터 타입이 범주형(명목형 또는 순위형)인 판다스 시리즈는 여러 가지 방식으로 생성할 수 있다."
   ]
  },
  {
   "cell_type": "code",
   "execution_count": 21,
   "id": "9bb9f23e",
   "metadata": {},
   "outputs": [
    {
     "data": {
      "text/plain": [
       "a    Alpha\n",
       "b     Beta\n",
       "c    Alpha\n",
       "d      NaN\n",
       "e      NaN\n",
       "dtype: category\n",
       "Categories (2, object): ['Alpha', 'Beta']"
      ]
     },
     "execution_count": 21,
     "metadata": {},
     "output_type": "execute_result"
    }
   ],
   "source": [
    "pd.Series(['Alpha', 'Beta', 'Alpha', np.nan, None], dtype='category', index=list('abcde'))"
   ]
  },
  {
   "cell_type": "markdown",
   "id": "123a0afa",
   "metadata": {},
   "source": [
    "만약 순위형을 생성하고자 한다면 3장에서 소개했던 방법을 사용하자."
   ]
  },
  {
   "cell_type": "code",
   "execution_count": 22,
   "id": "523a1fda",
   "metadata": {},
   "outputs": [
    {
     "data": {
      "text/plain": [
       "a    Alpha\n",
       "b     Beta\n",
       "c    Alpha\n",
       "d      NaN\n",
       "e      NaN\n",
       "dtype: category\n",
       "Categories (3, object): ['Charley' < 'Beta' < 'Alpha']"
      ]
     },
     "execution_count": 22,
     "metadata": {},
     "output_type": "execute_result"
    }
   ],
   "source": [
    "# 3장에서 정의된 ordered()\n",
    "#def ordered(categories):\n",
    "#    #print(categories)\n",
    "#    from pandas.api.types import CategoricalDtype\n",
    "#    return CategoricalDtype(categories=categories, ordered=True)\n",
    "#from mypack.utils import ordered\n",
    "def ordered(categories):\n",
    "    #print(categories)\n",
    "    from pandas.api.types import CategoricalDtype\n",
    "    return CategoricalDtype(categories=categories, ordered=True)\n",
    "\n",
    "def unordered(categories):\n",
    "    from pandas.api.types import CategoricalDtype\n",
    "    return CategoricalDtype(categories=categories, ordered=False)    \n",
    "\n",
    "\n",
    "pd.Series(['Alpha', 'Beta', 'Alpha', np.nan, None], \n",
    "          dtype=ordered(['Charley', 'Beta', 'Alpha']), \n",
    "          index=list('abcde'))"
   ]
  },
  {
   "cell_type": "markdown",
   "id": "be973d4f",
   "metadata": {},
   "source": [
    "`pandas` 공식 문서에서는 다음과 같은 방법을 제시한다."
   ]
  },
  {
   "cell_type": "code",
   "execution_count": 23,
   "id": "2e66d8a3",
   "metadata": {},
   "outputs": [
    {
     "data": {
      "text/plain": [
       "a    Alpha\n",
       "b     Beta\n",
       "c    Alpha\n",
       "d      NaN\n",
       "e      NaN\n",
       "dtype: category\n",
       "Categories (3, object): ['Charley' < 'Beta' < 'Alpha']"
      ]
     },
     "execution_count": 23,
     "metadata": {},
     "output_type": "execute_result"
    }
   ],
   "source": [
    "from pandas.api.types import CategoricalDtype\n",
    "x = pd.Series(['Alpha', 'Beta', 'Alpha', np.nan, None], \n",
    "            dtype=CategoricalDtype(\n",
    "                categories = ['Charley', 'Beta', 'Alpha'],\n",
    "                ordered = True), \n",
    "            index=list('abcde'))\n",
    "x"
   ]
  },
  {
   "cell_type": "markdown",
   "id": "3b1471c7",
   "metadata": {},
   "source": [
    "다른 사람의 소스코드를 읽을 때에는 기억해 둘 필요가 있다. "
   ]
  },
  {
   "cell_type": "code",
   "execution_count": 24,
   "id": "689ab2e8",
   "metadata": {},
   "outputs": [
    {
     "data": {
      "text/plain": [
       "CategoricalDtype(categories=['Charley', 'Beta', 'Alpha'], ordered=True)"
      ]
     },
     "execution_count": 24,
     "metadata": {},
     "output_type": "execute_result"
    }
   ],
   "source": [
    "x.dtype"
   ]
  },
  {
   "cell_type": "markdown",
   "id": "b4bd210c",
   "metadata": {},
   "source": [
    "범주형의 `dtype`은 다른 `dtype`(예. `dtype('int8')`, `dtype('float')` 등)과 달리 상당히 길다."
   ]
  },
  {
   "cell_type": "code",
   "execution_count": 25,
   "id": "f323bb9b",
   "metadata": {},
   "outputs": [
    {
     "data": {
      "text/plain": [
       "dtype('int64')"
      ]
     },
     "execution_count": 25,
     "metadata": {},
     "output_type": "execute_result"
    }
   ],
   "source": [
    "y = np.array([1,2,3])\n",
    "y.dtype"
   ]
  },
  {
   "cell_type": "markdown",
   "id": "5bbeca3e",
   "metadata": {},
   "source": [
    "두 범주형 데이터의 `dtype`이 같으려면, 범주가 같아야 하고, 그리고 순위형이라면 순위도 같아야 한다. 다음을 보자. "
   ]
  },
  {
   "cell_type": "code",
   "execution_count": 26,
   "id": "b2eb6c36",
   "metadata": {},
   "outputs": [],
   "source": [
    "#from mypack.utils import ordered, unordered"
   ]
  },
  {
   "cell_type": "code",
   "execution_count": 27,
   "id": "c8969be4",
   "metadata": {},
   "outputs": [],
   "source": [
    "u1 = pd.Series(['c', 'b', 'b', 'a'], dtype=ordered(['a', 'b', 'c']))\n",
    "u2 = pd.Series(['c', 'b', 'b', 'a', 'c', 'a'], dtype=ordered(['a', 'b', 'c']))\n",
    "u3 = pd.Series(['c', 'b', 'b', 'a'], dtype=ordered(['c', 'b', 'a'])) \n",
    "u4 = pd.Series(['c', 'b', 'b', 'a'], dtype=ordered(['a', 'b']))\n",
    "x1 = pd.Series(['c', 'b', 'b', 'a'], dtype=unordered(['a', 'b', 'c']))\n",
    "x2 = pd.Series(['c', 'b', 'b', 'a', 'c', 'a'], dtype=unordered(['a', 'b', 'c']))\n",
    "x3 = pd.Series(['c', 'b', 'b', 'a'], dtype=unordered(['c', 'b', 'a']))\n",
    "x4 = pd.Series(['c', 'b', 'b', 'a'], dtype=unordered(['a', 'b']))"
   ]
  },
  {
   "cell_type": "code",
   "execution_count": 28,
   "id": "570e3bdf",
   "metadata": {},
   "outputs": [
    {
     "data": {
      "text/plain": [
       "(CategoricalDtype(categories=['a', 'b', 'c'], ordered=True),\n",
       " CategoricalDtype(categories=['a', 'b', 'c'], ordered=True),\n",
       " CategoricalDtype(categories=['c', 'b', 'a'], ordered=True),\n",
       " CategoricalDtype(categories=['a', 'b'], ordered=True))"
      ]
     },
     "execution_count": 28,
     "metadata": {},
     "output_type": "execute_result"
    }
   ],
   "source": [
    "u1.dtype, u2.dtype, u3.dtype, u4.dtype"
   ]
  },
  {
   "cell_type": "code",
   "execution_count": 29,
   "id": "a9e527cc",
   "metadata": {},
   "outputs": [
    {
     "data": {
      "text/plain": [
       "(CategoricalDtype(categories=['a', 'b', 'c'], ordered=False),\n",
       " CategoricalDtype(categories=['a', 'b', 'c'], ordered=False),\n",
       " CategoricalDtype(categories=['c', 'b', 'a'], ordered=False),\n",
       " CategoricalDtype(categories=['a', 'b'], ordered=False))"
      ]
     },
     "execution_count": 29,
     "metadata": {},
     "output_type": "execute_result"
    }
   ],
   "source": [
    "x1.dtype, x2.dtype, x3.dtype, x4.dtype"
   ]
  },
  {
   "cell_type": "code",
   "execution_count": 30,
   "id": "a1148603",
   "metadata": {},
   "outputs": [
    {
     "data": {
      "text/plain": [
       "(True, False, False, False, False, False)"
      ]
     },
     "execution_count": 30,
     "metadata": {},
     "output_type": "execute_result"
    }
   ],
   "source": [
    "u1.dtype == u2.dtype, u1.dtype == u3.dtype, u1.dtype == u4.dtype, \\\n",
    "u2.dtype == u3.dtype, u2.dtype == u4.dtype, u3.dtype == u4.dtype"
   ]
  },
  {
   "cell_type": "markdown",
   "id": "61ea7ff0",
   "metadata": {},
   "source": [
    "순위형 데이터타입(`dtype`)의 경우는 앞에서 얘기했듯이 **범주와 순위**가 모두 같아야 데이터 타입이 같다. "
   ]
  },
  {
   "cell_type": "code",
   "execution_count": 31,
   "id": "ff3bafe8",
   "metadata": {},
   "outputs": [
    {
     "data": {
      "text/plain": [
       "True"
      ]
     },
     "execution_count": 31,
     "metadata": {},
     "output_type": "execute_result"
    }
   ],
   "source": [
    "u1.dtype == ordered(['a', 'b', 'c'])"
   ]
  },
  {
   "cell_type": "code",
   "execution_count": 32,
   "id": "5e021fad",
   "metadata": {},
   "outputs": [
    {
     "data": {
      "text/plain": [
       "(True, True, False, True, False, False)"
      ]
     },
     "execution_count": 32,
     "metadata": {},
     "output_type": "execute_result"
    }
   ],
   "source": [
    "x1.dtype == x2.dtype, x1.dtype == x3.dtype, x1.dtype == x4.dtype, \\\n",
    "x2.dtype == x3.dtype, x2.dtype == x4.dtype, x3.dtype == x4.dtype"
   ]
  },
  {
   "cell_type": "markdown",
   "id": "17e35018",
   "metadata": {},
   "source": [
    "위의 결과를 보면 범주형의 경우 **범주의 순서는 상관없다**는 것을 확인할 수 있다.[^cat]\n",
    "\n",
    "[^cat]: 예외적으로 모든 범주형 dtype은 \"category\" 또는 `CategoricalDtype(None, ordered=False)`와 `==`이다."
   ]
  },
  {
   "cell_type": "code",
   "execution_count": 33,
   "id": "af6a3ddf",
   "metadata": {},
   "outputs": [
    {
     "data": {
      "text/plain": [
       "CategoricalDtype(categories=['a', 'b', 'c'], ordered=False)"
      ]
     },
     "execution_count": 33,
     "metadata": {},
     "output_type": "execute_result"
    }
   ],
   "source": [
    "x1.dtype"
   ]
  },
  {
   "cell_type": "code",
   "execution_count": 34,
   "id": "b16e3caf",
   "metadata": {},
   "outputs": [
    {
     "data": {
      "text/plain": [
       "(True, True, True, True)"
      ]
     },
     "execution_count": 34,
     "metadata": {},
     "output_type": "execute_result"
    }
   ],
   "source": [
    "x1.dtype == \"category\", x2.dtype == \"category\", x3.dtype == \"category\", x4.dtype == \"category\""
   ]
  },
  {
   "cell_type": "code",
   "execution_count": 35,
   "id": "5272c2e2",
   "metadata": {},
   "outputs": [
    {
     "data": {
      "text/plain": [
       "False"
      ]
     },
     "execution_count": 35,
     "metadata": {},
     "output_type": "execute_result"
    }
   ],
   "source": [
    "x1.dtype == 'cat' # 'category'로 적어줄 경우만 True로 출력된다. "
   ]
  },
  {
   "cell_type": "code",
   "execution_count": 36,
   "id": "5719cc90",
   "metadata": {
    "lines_to_next_cell": 2
   },
   "outputs": [],
   "source": [
    "from pandas.api.types import CategoricalDtype"
   ]
  },
  {
   "cell_type": "markdown",
   "id": "ffe1c6d2",
   "metadata": {
    "lines_to_next_cell": 2
   },
   "source": [
    "판다스 공식 문서에 따르면 다음의 등호도 모두 `True`여야 하지만 실행 결과 모두 `False`로 나온다. 아마 버그인 듯 하다. "
   ]
  },
  {
   "cell_type": "code",
   "execution_count": 37,
   "id": "a9f31a85",
   "metadata": {
    "lines_to_next_cell": 2
   },
   "outputs": [
    {
     "data": {
      "text/plain": [
       "(False, False, False, False)"
      ]
     },
     "execution_count": 37,
     "metadata": {},
     "output_type": "execute_result"
    }
   ],
   "source": [
    "x1.dtype == CategoricalDtype(None, ordered = False), \\\n",
    "x2.dtype == CategoricalDtype(None, ordered = False), \\\n",
    "x3.dtype == CategoricalDtype(None, ordered = False), \\\n",
    "x4.dtype == CategoricalDtype(None, ordered = False)"
   ]
  },
  {
   "cell_type": "code",
   "execution_count": null,
   "id": "cf88239a",
   "metadata": {},
   "outputs": [],
   "source": []
  },
  {
   "cell_type": "markdown",
   "id": "6dc973ea",
   "metadata": {},
   "source": [
    "## 범주형의 중요성"
   ]
  },
  {
   "cell_type": "markdown",
   "id": "1ace8b97",
   "metadata": {},
   "source": [
    "범주형은 데이터 분석에서 중요한 역할을 한다. 특히 어떤 변수가 범주형이냐 연속형이냐에 따라 분석 결과가 판이하게 달라질 수도 있다. 다음의 데이터에서 변수 `x`에는 `1`,`2`,`3` 중 하나의 값이 들어있다. 변수 `x`를 연속형으로 취급할 때와 범주형으로 놓고 분석할 때의 분석 결과를 비교해보자. "
   ]
  },
  {
   "cell_type": "code",
   "execution_count": 38,
   "id": "d3731cf5",
   "metadata": {},
   "outputs": [],
   "source": [
    "n = 30\n",
    "import numpy as np\n",
    "import pandas as pd\n",
    "\n",
    "x = np.random.choice([1,2,3], n) # 1부터 3까지의 정수 중 하나를 무작위로 추출한다(총 30개)."
   ]
  },
  {
   "cell_type": "markdown",
   "id": "a4592ece",
   "metadata": {},
   "source": [
    "`x`에 대응하는 `y` 값은 다음과 같이 생성된다. 만약 `x`가 1이면 `y`는 평균 -1에 무작위 값이 더해지고, `x`가 2라면 `y`는 평균 -2에 무작위 값이 더해지고, `x`가 3이라면 `y`는 평균 3에 무작위 값이 더해진다."
   ]
  },
  {
   "cell_type": "code",
   "execution_count": 39,
   "id": "0dbdd426",
   "metadata": {
    "lines_to_next_cell": 2
   },
   "outputs": [],
   "source": [
    "y = np.where(x > 2, x + np.random.normal(0,1,n), np.random.normal(0, 1, n)-x)"
   ]
  },
  {
   "cell_type": "code",
   "execution_count": 40,
   "id": "d64e8645",
   "metadata": {},
   "outputs": [
    {
     "data": {
      "text/plain": [
       "array([-1.57145899, -2.53258346, -2.86800407,  2.20759339,  2.07035591,\n",
       "       -0.96734709,  3.61424262,  5.18179738, -2.62733075,  3.02604917,\n",
       "       -1.45248837,  0.77837875,  4.43506633,  3.395652  , -0.01050008,\n",
       "       -1.94347056, -0.3005479 , -3.68658965, -2.64579414, -0.62792389,\n",
       "        4.94854585, -3.17534868,  1.49958937, -1.58268759,  4.31623156,\n",
       "       -1.06444556,  2.76225033, -2.6689829 , -2.59023138, -0.60634444])"
      ]
     },
     "execution_count": 40,
     "metadata": {},
     "output_type": "execute_result"
    }
   ],
   "source": [
    "y"
   ]
  },
  {
   "cell_type": "code",
   "execution_count": 41,
   "id": "fa35e127",
   "metadata": {},
   "outputs": [],
   "source": [
    "dat = pd.DataFrame({'x':x, 'y':y}) \n",
    "# x, y로 구성된 데이터프레임을 만든다."
   ]
  },
  {
   "cell_type": "markdown",
   "id": "319976f4",
   "metadata": {},
   "source": [
    "우선 데이터를 시각화 보면 다음과 같다."
   ]
  },
  {
   "cell_type": "code",
   "execution_count": 42,
   "id": "c419ce2e",
   "metadata": {},
   "outputs": [],
   "source": [
    "import seaborn as sns\n",
    "sns.set_theme(context=\"poster\")"
   ]
  },
  {
   "cell_type": "code",
   "execution_count": 43,
   "id": "42128f0a",
   "metadata": {},
   "outputs": [
    {
     "data": {
      "text/plain": [
       "<seaborn.axisgrid.FacetGrid at 0x1061e0a60>"
      ]
     },
     "execution_count": 43,
     "metadata": {},
     "output_type": "execute_result"
    },
    {
     "data": {
      "image/png": "[encoded data removed]",
      "text/plain": [
       "<Figure size 500x500 with 1 Axes>"
      ]
     },
     "metadata": {},
     "output_type": "display_data"
    }
   ],
   "source": [
    "sns.relplot(x='x', y='y', kind='scatter', data=dat)"
   ]
  },
  {
   "cell_type": "code",
   "execution_count": 44,
   "id": "bc8973ed",
   "metadata": {},
   "outputs": [
    {
     "data": {
      "text/plain": [
       "<seaborn.axisgrid.FacetGrid at 0x1577385e0>"
      ]
     },
     "execution_count": 44,
     "metadata": {},
     "output_type": "execute_result"
    },
    {
     "data": {
      "image/png": "[encoded data removed]",
      "text/plain": [
       "<Figure size 500x500 with 1 Axes>"
      ]
     },
     "metadata": {},
     "output_type": "display_data"
    }
   ],
   "source": [
    "sns.catplot(x='x', y='y', data=dat, kind='box', width=0.3)"
   ]
  },
  {
   "cell_type": "markdown",
   "id": "99cc8264",
   "metadata": {},
   "source": [
    "이제 변수 `x`를 연속형으로 취급하면서 회귀분석을 해보자."
   ]
  },
  {
   "cell_type": "code",
   "execution_count": 45,
   "id": "c07e6f65",
   "metadata": {},
   "outputs": [],
   "source": [
    "from statsmodels.formula.api import ols"
   ]
  },
  {
   "cell_type": "code",
   "execution_count": 46,
   "id": "d5231096",
   "metadata": {},
   "outputs": [
    {
     "name": "stdout",
     "output_type": "stream",
     "text": [
      "                            OLS Regression Results                            \n",
      "==============================================================================\n",
      "Dep. Variable:                      y   R-squared:                       0.470\n",
      "Model:                            OLS   Adj. R-squared:                  0.451\n",
      "Method:                 Least Squares   F-statistic:                     24.83\n",
      "Date:                Sun, 22 Oct 2023   Prob (F-statistic):           2.91e-05\n",
      "Time:                        18:57:33   Log-Likelihood:                -63.062\n",
      "No. Observations:                  30   AIC:                             130.1\n",
      "Df Residuals:                      28   BIC:                             132.9\n",
      "Df Model:                           1                                         \n",
      "Covariance Type:            nonrobust                                         \n",
      "==============================================================================\n",
      "                 coef    std err          t      P>|t|      [0.025      0.975]\n",
      "------------------------------------------------------------------------------\n",
      "Intercept     -5.0145      1.107     -4.530      0.000      -7.282      -2.747\n",
      "x              2.3961      0.481      4.983      0.000       1.411       3.381\n",
      "==============================================================================\n",
      "Omnibus:                        5.914   Durbin-Watson:                   1.755\n",
      "Prob(Omnibus):                  0.052   Jarque-Bera (JB):                1.884\n",
      "Skew:                           0.031   Prob(JB):                        0.390\n",
      "Kurtosis:                       1.774   Cond. No.                         7.97\n",
      "==============================================================================\n",
      "\n",
      "Notes:\n",
      "[1] Standard Errors assume that the covariance matrix of the errors is correctly specified.\n"
     ]
    }
   ],
   "source": [
    "mod = ols(\"y ~ x\", data = dat)\n",
    "res = mod.fit()\n",
    "print(res.summary())"
   ]
  },
  {
   "cell_type": "markdown",
   "id": "0cacebdc",
   "metadata": {},
   "source": [
    "분석결과에 따르면 `x`가 1 증가할 때, y의 평균은 `2`가 증가하는 것으로 나온다."
   ]
  },
  {
   "cell_type": "markdown",
   "id": "61cdf499",
   "metadata": {},
   "source": [
    "만약 변수 `x`를 범주형으로 취급한다면(아래 `C(x)`는 **C**ategorical의 **C**인 듯 하다) 분석 결과는 다음과 같다."
   ]
  },
  {
   "cell_type": "code",
   "execution_count": 47,
   "id": "61a2a99c",
   "metadata": {},
   "outputs": [
    {
     "name": "stdout",
     "output_type": "stream",
     "text": [
      "                            OLS Regression Results                            \n",
      "==============================================================================\n",
      "Dep. Variable:                      y   R-squared:                       0.778\n",
      "Model:                            OLS   Adj. R-squared:                  0.762\n",
      "Method:                 Least Squares   F-statistic:                     47.30\n",
      "Date:                Sun, 22 Oct 2023   Prob (F-statistic):           1.50e-09\n",
      "Time:                        18:57:34   Log-Likelihood:                -50.012\n",
      "No. Observations:                  30   AIC:                             106.0\n",
      "Df Residuals:                      27   BIC:                             110.2\n",
      "Df Model:                           2                                         \n",
      "Covariance Type:            nonrobust                                         \n",
      "==============================================================================\n",
      "                 coef    std err          t      P>|t|      [0.025      0.975]\n",
      "------------------------------------------------------------------------------\n",
      "Intercept     -1.0806      0.511     -2.116      0.044      -2.128      -0.033\n",
      "C(x)[T.2]     -1.0987      0.653     -1.682      0.104      -2.439       0.242\n",
      "C(x)[T.3]      4.1516      0.643      6.461      0.000       2.833       5.470\n",
      "==============================================================================\n",
      "Omnibus:                        3.531   Durbin-Watson:                   1.313\n",
      "Prob(Omnibus):                  0.171   Jarque-Bera (JB):                2.214\n",
      "Skew:                          -0.630   Prob(JB):                        0.331\n",
      "Kurtosis:                       3.427   Cond. No.                         4.40\n",
      "==============================================================================\n",
      "\n",
      "Notes:\n",
      "[1] Standard Errors assume that the covariance matrix of the errors is correctly specified.\n"
     ]
    }
   ],
   "source": [
    "mod = ols(\"y ~ C(x)\", data = dat)\n",
    "res = mod.fit()\n",
    "print(res.summary())"
   ]
  },
  {
   "cell_type": "markdown",
   "id": "a3843f11",
   "metadata": {},
   "source": [
    "범주 `1`에서 범주 `2`로 바뀔 때 예상되는 `y` 평균의 감소는 1, 범주 `1`에서 범주 `3`으로 바뀔 때 예상되는 `y`의 평균 감소 5로 추정되었다. 위의 분석결과와 어떻게 다른지 생각해보자. 만약 `x`가 이미 범주형이라면면 `C(x)`로 쓰지 않아도 된다."
   ]
  },
  {
   "cell_type": "code",
   "execution_count": 48,
   "id": "031a32b1",
   "metadata": {},
   "outputs": [],
   "source": [
    "#dat = pd.DataFrame({'x2':pd.Categorical(x), 'y':y})\n",
    "dat['x2'] = pd.Categorical(dat['x'])"
   ]
  },
  {
   "cell_type": "code",
   "execution_count": 49,
   "id": "f846193c",
   "metadata": {},
   "outputs": [
    {
     "name": "stdout",
     "output_type": "stream",
     "text": [
      "                            OLS Regression Results                            \n",
      "==============================================================================\n",
      "Dep. Variable:                      y   R-squared:                       0.778\n",
      "Model:                            OLS   Adj. R-squared:                  0.762\n",
      "Method:                 Least Squares   F-statistic:                     47.30\n",
      "Date:                Sun, 22 Oct 2023   Prob (F-statistic):           1.50e-09\n",
      "Time:                        18:57:35   Log-Likelihood:                -50.012\n",
      "No. Observations:                  30   AIC:                             106.0\n",
      "Df Residuals:                      27   BIC:                             110.2\n",
      "Df Model:                           2                                         \n",
      "Covariance Type:            nonrobust                                         \n",
      "==============================================================================\n",
      "                 coef    std err          t      P>|t|      [0.025      0.975]\n",
      "------------------------------------------------------------------------------\n",
      "Intercept     -1.0806      0.511     -2.116      0.044      -2.128      -0.033\n",
      "x2[T.2]       -1.0987      0.653     -1.682      0.104      -2.439       0.242\n",
      "x2[T.3]        4.1516      0.643      6.461      0.000       2.833       5.470\n",
      "==============================================================================\n",
      "Omnibus:                        3.531   Durbin-Watson:                   1.313\n",
      "Prob(Omnibus):                  0.171   Jarque-Bera (JB):                2.214\n",
      "Skew:                          -0.630   Prob(JB):                        0.331\n",
      "Kurtosis:                       3.427   Cond. No.                         4.40\n",
      "==============================================================================\n",
      "\n",
      "Notes:\n",
      "[1] Standard Errors assume that the covariance matrix of the errors is correctly specified.\n"
     ]
    }
   ],
   "source": [
    "mod = ols(\"y ~ x2\", data = dat)\n",
    "res = mod.fit()\n",
    "print(res.summary())"
   ]
  },
  {
   "cell_type": "markdown",
   "id": "72053cf3",
   "metadata": {},
   "source": [
    "## 데이터 전처리에 있어 범주형"
   ]
  },
  {
   "cell_type": "markdown",
   "id": "8760f0c7",
   "metadata": {},
   "source": [
    "판다스 시리즈를 조작할 때 `dtype`이 범주형이라면 좀더 유의해야 한다. 다음의 예를 보자. "
   ]
  },
  {
   "cell_type": "code",
   "execution_count": 50,
   "id": "0f09b020",
   "metadata": {},
   "outputs": [
    {
     "data": {
      "text/plain": [
       "0    1\n",
       "1    2\n",
       "2    3\n",
       "3    2\n",
       "4    5\n",
       "dtype: int64"
      ]
     },
     "execution_count": 50,
     "metadata": {},
     "output_type": "execute_result"
    }
   ],
   "source": [
    "x = pd.Series([1,2,3,2])\n",
    "x[4] = 5 # dtype('int64')에서는 추가가 어렵지 않다\n",
    "x"
   ]
  },
  {
   "cell_type": "markdown",
   "id": "58807b5c",
   "metadata": {},
   "source": [
    "데이터 타입이 정수라면 `x[4]=5`와 같이 사용해서 `x`에 4-번째 원소를 추가할 수 있다. 하지만 범주형이라면?"
   ]
  },
  {
   "cell_type": "code",
   "execution_count": 51,
   "id": "42c41972",
   "metadata": {},
   "outputs": [
    {
     "data": {
      "text/plain": [
       "0    a\n",
       "1    b\n",
       "2    b\n",
       "3    a\n",
       "4    b\n",
       "dtype: category\n",
       "Categories (2, object): ['a', 'b']"
      ]
     },
     "execution_count": 51,
     "metadata": {},
     "output_type": "execute_result"
    }
   ],
   "source": [
    "s = pd.Series(['a', 'b', 'b', 'a'], dtype='category')\n",
    "s[4] = 'b' # 하지만 dtype이 object로 바뀜\n",
    "s"
   ]
  },
  {
   "cell_type": "markdown",
   "id": "c18fb4c9",
   "metadata": {},
   "source": [
    "정수형 데이터 타입과 마찬가지로 성공적으로 원소를 추가한 듯 보이지만, `dtype`이 `object`으로 바뀌었다. 원한다면 `s.astype('category')`로 다시 범주형으로 돌려 놓을 수 있지만, 왜 그럴까?"
   ]
  },
  {
   "cell_type": "code",
   "execution_count": 52,
   "id": "0d391270",
   "metadata": {},
   "outputs": [
    {
     "data": {
      "text/plain": [
       "0    a\n",
       "1    b\n",
       "2    b\n",
       "3    a\n",
       "4    b\n",
       "dtype: category\n",
       "Categories (2, object): ['a', 'b']"
      ]
     },
     "execution_count": 52,
     "metadata": {},
     "output_type": "execute_result"
    }
   ],
   "source": [
    "s = s.astype('category')\n",
    "s"
   ]
  },
  {
   "cell_type": "markdown",
   "id": "2d515e79",
   "metadata": {},
   "source": [
    "추가되는 원소의 타입을 확인해 볼 필요가 있다."
   ]
  },
  {
   "cell_type": "code",
   "execution_count": 53,
   "id": "e384b81e",
   "metadata": {},
   "outputs": [
    {
     "data": {
      "text/plain": [
       "str"
      ]
     },
     "execution_count": 53,
     "metadata": {},
     "output_type": "execute_result"
    }
   ],
   "source": [
    "type('b')"
   ]
  },
  {
   "cell_type": "markdown",
   "id": "862689b3",
   "metadata": {},
   "source": [
    "추가되는 원소의 타입과 시리즈의 데이터 타입이 다르다. 위에서 dtype이 `int64`인 경우에도 비슷한 경우가 있다."
   ]
  },
  {
   "cell_type": "code",
   "execution_count": 54,
   "id": "5b37422f",
   "metadata": {},
   "outputs": [
    {
     "data": {
      "text/plain": [
       "0    1.0\n",
       "1    2.0\n",
       "2    3.0\n",
       "3    2.0\n",
       "4    5.0\n",
       "5    1.2\n",
       "dtype: float64"
      ]
     },
     "execution_count": 54,
     "metadata": {},
     "output_type": "execute_result"
    }
   ],
   "source": [
    "x[5] = 1.2\n",
    "x"
   ]
  },
  {
   "cell_type": "markdown",
   "id": "b37b933d",
   "metadata": {},
   "source": [
    "기존의 원소는 정수형이고, 새롭게 추가되는 원소가 `float64`일 때, 결과는 dtype이 `float64`로 변경되었다."
   ]
  },
  {
   "cell_type": "markdown",
   "id": "172fd918",
   "metadata": {},
   "source": [
    "그렇다면 이제 dtype을 보존하면서 새로운 원소를 추가하려면 어떻게 해야 할까? 복잡해보이지만 `pd.concat()`을 활용하면 다음과 같다."
   ]
  },
  {
   "cell_type": "code",
   "execution_count": 55,
   "id": "09b547a6",
   "metadata": {},
   "outputs": [
    {
     "data": {
      "text/plain": [
       "0    a\n",
       "1    b\n",
       "2    b\n",
       "3    a\n",
       "4    b\n",
       "0    b\n",
       "dtype: category\n",
       "Categories (2, object): ['a', 'b']"
      ]
     },
     "execution_count": 55,
     "metadata": {},
     "output_type": "execute_result"
    }
   ],
   "source": [
    "pd.concat([s, pd.Series(['b'], dtype=unordered(['a', 'b']))])"
   ]
  },
  {
   "cell_type": "markdown",
   "id": "23fa4a23",
   "metadata": {},
   "source": [
    "이때 추가하는 시리즈의 dtype에 유의해야 한다. 동일한 dtype끼리 합칠 때에는 dtype에 변화가 없다. 하지만 그렇지 않다면?"
   ]
  },
  {
   "cell_type": "code",
   "execution_count": 56,
   "id": "65cb685d",
   "metadata": {},
   "outputs": [
    {
     "data": {
      "text/plain": [
       "0    a\n",
       "1    b\n",
       "2    b\n",
       "3    a\n",
       "4    b\n",
       "0    b\n",
       "dtype: object"
      ]
     },
     "execution_count": 56,
     "metadata": {},
     "output_type": "execute_result"
    }
   ],
   "source": [
    "pd.concat([s, pd.Series(['b'], dtype=unordered(['b']))])"
   ]
  },
  {
   "cell_type": "markdown",
   "id": "734368a6",
   "metadata": {},
   "source": [
    "범주가 많건 적던 dtype이 다르다면 dtype은 `object`로 변경된다. 물론 `.astype('category')`로 다시 범주형으로 변환하거나 다음과 같이 `union_categorical()` 함수를 사용할 수 있다(순위형인 경우, 범주는 같은데 순위가 다르다면 에러가 발생한다. 만약 순위를 무시하고 싶다면 `ignore_order=True`로 설정한다.)"
   ]
  },
  {
   "cell_type": "code",
   "execution_count": 57,
   "id": "51d7d772",
   "metadata": {
    "lines_to_next_cell": 0
   },
   "outputs": [
    {
     "data": {
      "text/plain": [
       "0    a\n",
       "1    b\n",
       "2    b\n",
       "3    a\n",
       "4    b\n",
       "dtype: category\n",
       "Categories (2, object): ['a', 'b']"
      ]
     },
     "execution_count": 57,
     "metadata": {},
     "output_type": "execute_result"
    }
   ],
   "source": [
    "from pandas.api.types import union_categoricals\n",
    "union_categoricals([s, pd.Series(['b'], dtype=unordered(['b']))])\n",
    "s"
   ]
  },
  {
   "cell_type": "markdown",
   "id": "09196933",
   "metadata": {
    "lines_to_next_cell": 2
   },
   "source": [
    "한 가지 아쉬운 점은 판다스 시리즈의 경우 인덱스가 보존되지 않는다는 점이다. 인덱스를 보존하고자 한다면 다음과 같이 사용할 수 있다."
   ]
  },
  {
   "cell_type": "code",
   "execution_count": 58,
   "id": "a0e08c9d",
   "metadata": {
    "lines_to_next_cell": 2
   },
   "outputs": [
    {
     "data": {
      "text/plain": [
       "0    a\n",
       "1    b\n",
       "2    b\n",
       "3    a\n",
       "4    b\n",
       "0    b\n",
       "dtype: category\n",
       "Categories (2, object): ['a', 'b']"
      ]
     },
     "execution_count": 58,
     "metadata": {},
     "output_type": "execute_result"
    }
   ],
   "source": [
    "s2 = pd.Series(['b'], dtype=unordered(['b']))\n",
    "pd.Series(union_categoricals([s, s2]),\n",
    "          index = s.index.tolist() + s2.index.tolist())"
   ]
  },
  {
   "cell_type": "markdown",
   "id": "b213cc57",
   "metadata": {},
   "source": [
    "## 범주형 다루기"
   ]
  },
  {
   "cell_type": "markdown",
   "id": "f06f1157",
   "metadata": {},
   "source": [
    "위에서 확인했듯이 범주형 dtype은 다른 dtype과 조금 다른 부분이 있다. 일단 가능한 범주가 다른 범주형은 다른 dtype으로 취급된다. 여기서는 범주형 dtype을 관리하는 여러 방법을 안내한다. 주요 내용은 다음과 같다.\n",
    "\n",
    "1. 범주 추가하기 : `.add_categories()`\n",
    "2. 범주 삭제하기 : `.remove_categories()`, `.remove_unused_categories()`\n",
    "3. 범주 이름 바꾸기 : `.rename_categories()`\n",
    "4. 범주 순서 바꾸기 : `.reorder_categories()`, `.set_categories()`\n",
    "5. 범주 합치기 : `from mypack.utils`, `cat_combine()`, `cat_collapse()`, `cat_collapse_cum()`\n"
   ]
  },
  {
   "cell_type": "markdown",
   "id": "c58a51b5",
   "metadata": {},
   "source": [
    "먼저 메쏘드 이름에서 그 기능을 충분히 유추할 수 있는 경우부터 살펴보자. 범주를 추가하거나(`.add_categories()`), 범주를 삭제하고(`.remove_categories()`), 사용되지 않는 범주를 삭제하는(`.remove_unused_categories()`)는 메쏘드를 사용해보자."
   ]
  },
  {
   "cell_type": "code",
   "execution_count": 59,
   "id": "eb396e0c",
   "metadata": {},
   "outputs": [
    {
     "data": {
      "text/plain": [
       "(['b', 'a', 'b', 'b']\n",
       " Categories (3, object): ['a', 'b', 'c'],\n",
       " 0    b\n",
       " 1    a\n",
       " 2    b\n",
       " 3    b\n",
       " dtype: category\n",
       " Categories (3, object): ['a', 'b', 'c'])"
      ]
     },
     "execution_count": 59,
     "metadata": {},
     "output_type": "execute_result"
    }
   ],
   "source": [
    "# x = pd.Categorical(['b', 'a', 'b', 'b'], dtype=CategoricalDtype(['a', 'b', 'c'], False))\n",
    "x = pd.Categorical(['b', 'a', 'b', 'b'], dtype=unordered(['a', 'b', 'c']))\n",
    "# y = pd.Series(['b', 'a', 'b', 'b'], dtype=CategoricalDtype(['a', 'b', 'c'], False))\n",
    "y = pd.Series(['b', 'a', 'b', 'b'], dtype=unordered(['a', 'b', 'c']))\n",
    "x, y"
   ]
  },
  {
   "cell_type": "code",
   "execution_count": 60,
   "id": "386a077f",
   "metadata": {},
   "outputs": [
    {
     "data": {
      "text/plain": [
       "['b', 'a', 'b', 'b']\n",
       "Categories (5, object): ['a', 'b', 'c', 'd', 'e']"
      ]
     },
     "execution_count": 60,
     "metadata": {},
     "output_type": "execute_result"
    }
   ],
   "source": [
    "x2 = x.add_categories(['d', 'e'])\n",
    "x2"
   ]
  },
  {
   "cell_type": "code",
   "execution_count": 61,
   "id": "6f4e8b44",
   "metadata": {},
   "outputs": [
    {
     "ename": "AttributeError",
     "evalue": "'Series' object has no attribute 'add_categories'",
     "output_type": "error",
     "traceback": [
      "\u001b[0;31m---------------------------------------------------------------------------\u001b[0m",
      "\u001b[0;31mAttributeError\u001b[0m                            Traceback (most recent call last)",
      "\u001b[0;32m/var/folders/dm/056phx_92xd5nmb07f_gty8m0000gn/T/ipykernel_73390/232970141.py\u001b[0m in \u001b[0;36m?\u001b[0;34m()\u001b[0m\n\u001b[0;32m----> 2\u001b[0;31m \u001b[0;31m#% eval=FALSE\u001b[0m\u001b[0;34m\u001b[0m\u001b[0;34m\u001b[0m\u001b[0m\n\u001b[0m\u001b[1;32m      3\u001b[0m \u001b[0my\u001b[0m\u001b[0;34m.\u001b[0m\u001b[0madd_categories\u001b[0m\u001b[0;34m(\u001b[0m\u001b[0;34m[\u001b[0m\u001b[0;34m'd'\u001b[0m\u001b[0;34m,\u001b[0m \u001b[0;34m'e'\u001b[0m\u001b[0;34m]\u001b[0m\u001b[0;34m)\u001b[0m\u001b[0;34m\u001b[0m\u001b[0;34m\u001b[0m\u001b[0m\n\u001b[1;32m      4\u001b[0m \u001b[0;31m## AttributeError: 'Series' object has no attribute 'add_categories'\u001b[0m\u001b[0;34m\u001b[0m\u001b[0;34m\u001b[0m\u001b[0m\n",
      "\u001b[0;32m~/miniforge3/envs/rtopython4-pip/lib/python3.9/site-packages/pandas/core/generic.py\u001b[0m in \u001b[0;36m?\u001b[0;34m(self, name)\u001b[0m\n\u001b[1;32m   5985\u001b[0m             \u001b[0;32mand\u001b[0m \u001b[0mname\u001b[0m \u001b[0;32mnot\u001b[0m \u001b[0;32min\u001b[0m \u001b[0mself\u001b[0m\u001b[0;34m.\u001b[0m\u001b[0m_accessors\u001b[0m\u001b[0;34m\u001b[0m\u001b[0;34m\u001b[0m\u001b[0m\n\u001b[1;32m   5986\u001b[0m             \u001b[0;32mand\u001b[0m \u001b[0mself\u001b[0m\u001b[0;34m.\u001b[0m\u001b[0m_info_axis\u001b[0m\u001b[0;34m.\u001b[0m\u001b[0m_can_hold_identifiers_and_holds_name\u001b[0m\u001b[0;34m(\u001b[0m\u001b[0mname\u001b[0m\u001b[0;34m)\u001b[0m\u001b[0;34m\u001b[0m\u001b[0;34m\u001b[0m\u001b[0m\n\u001b[1;32m   5987\u001b[0m         ):\n\u001b[1;32m   5988\u001b[0m             \u001b[0;32mreturn\u001b[0m \u001b[0mself\u001b[0m\u001b[0;34m[\u001b[0m\u001b[0mname\u001b[0m\u001b[0;34m]\u001b[0m\u001b[0;34m\u001b[0m\u001b[0;34m\u001b[0m\u001b[0m\n\u001b[0;32m-> 5989\u001b[0;31m         \u001b[0;32mreturn\u001b[0m \u001b[0mobject\u001b[0m\u001b[0;34m.\u001b[0m\u001b[0m__getattribute__\u001b[0m\u001b[0;34m(\u001b[0m\u001b[0mself\u001b[0m\u001b[0;34m,\u001b[0m \u001b[0mname\u001b[0m\u001b[0;34m)\u001b[0m\u001b[0;34m\u001b[0m\u001b[0;34m\u001b[0m\u001b[0m\n\u001b[0m",
      "\u001b[0;31mAttributeError\u001b[0m: 'Series' object has no attribute 'add_categories'"
     ]
    }
   ],
   "source": [
    "#% eval=FALSE\n",
    "y.add_categories(['d', 'e'])\n",
    "## AttributeError: 'Series' object has no attribute 'add_categories'"
   ]
  },
  {
   "cell_type": "markdown",
   "id": "7c52600d",
   "metadata": {},
   "source": [
    "`pd.Categorical()`에도 사용 가능하고 `pd.Series()`에 대해서도 dtype이 범주형이라면 `.cat`을 통해 사용가능하다."
   ]
  },
  {
   "cell_type": "code",
   "execution_count": 62,
   "id": "ecb5ba46",
   "metadata": {},
   "outputs": [
    {
     "data": {
      "text/plain": [
       "0    b\n",
       "1    a\n",
       "2    b\n",
       "3    b\n",
       "dtype: category\n",
       "Categories (5, object): ['a', 'b', 'c', 'd', 'e']"
      ]
     },
     "execution_count": 62,
     "metadata": {},
     "output_type": "execute_result"
    }
   ],
   "source": [
    "y2 = y.cat.add_categories(['d', 'e'])\n",
    "y2"
   ]
  },
  {
   "cell_type": "markdown",
   "id": "1a015c19",
   "metadata": {},
   "source": [
    "추가를 했으니 다시 삭제해보자."
   ]
  },
  {
   "cell_type": "code",
   "execution_count": 63,
   "id": "7dca76f6",
   "metadata": {},
   "outputs": [
    {
     "data": {
      "text/plain": [
       "(['b', 'a', 'b', 'b']\n",
       " Categories (3, object): ['a', 'b', 'c'],\n",
       " 0    b\n",
       " 1    a\n",
       " 2    b\n",
       " 3    b\n",
       " dtype: category\n",
       " Categories (3, object): ['a', 'b', 'c'])"
      ]
     },
     "execution_count": 63,
     "metadata": {},
     "output_type": "execute_result"
    }
   ],
   "source": [
    "x2.remove_categories(['d', 'e']), y2.cat.remove_categories(['d', 'e'])"
   ]
  },
  {
   "cell_type": "markdown",
   "id": "d8ab2652",
   "metadata": {},
   "source": [
    "사용되지 않는(데이터에 존재하지 않는) 범주를 삭제하려면 다음과 같다."
   ]
  },
  {
   "cell_type": "code",
   "execution_count": 64,
   "id": "46503a2f",
   "metadata": {},
   "outputs": [
    {
     "data": {
      "text/plain": [
       "(['b', 'a', 'b', 'b']\n",
       " Categories (2, object): ['a', 'b'],\n",
       " 0    b\n",
       " 1    a\n",
       " 2    b\n",
       " 3    b\n",
       " dtype: category\n",
       " Categories (2, object): ['a', 'b'])"
      ]
     },
     "execution_count": 64,
     "metadata": {},
     "output_type": "execute_result"
    }
   ],
   "source": [
    "x.remove_unused_categories(), \\\n",
    "y.cat.remove_unused_categories()"
   ]
  },
  {
   "cell_type": "markdown",
   "id": "c601a4c7",
   "metadata": {},
   "source": [
    "범주 이름을 바꿀 때는 딕을 사용해서 바꾸기 전 이름과 바뀐 후 이름을 대응해 준다. 'a'를 'Alpha', 'b'를 'Big'으로 바꿔보자."
   ]
  },
  {
   "cell_type": "code",
   "execution_count": 65,
   "id": "d71b467d",
   "metadata": {},
   "outputs": [
    {
     "data": {
      "text/plain": [
       "(['Beta', 'Alpha', 'Beta', 'Beta']\n",
       " Categories (3, object): ['Alpha', 'Beta', 'c'],\n",
       " 0     Beta\n",
       " 1    Alpha\n",
       " 2     Beta\n",
       " 3     Beta\n",
       " dtype: category\n",
       " Categories (3, object): ['Alpha', 'Beta', 'c'])"
      ]
     },
     "execution_count": 65,
     "metadata": {},
     "output_type": "execute_result"
    }
   ],
   "source": [
    "x.rename_categories({'a':'Alpha', 'b':'Beta'}), \\\n",
    "y.cat.rename_categories({'a':'Alpha', 'b':'Beta'})"
   ]
  },
  {
   "cell_type": "markdown",
   "id": "81dadb77",
   "metadata": {},
   "source": [
    "모든 범주 이름을 바꾸려면 다음과 같이 새로운 범주 이름만 리스트로 제공해도 된다."
   ]
  },
  {
   "cell_type": "code",
   "execution_count": 66,
   "id": "b7061b03",
   "metadata": {},
   "outputs": [
    {
     "data": {
      "text/plain": [
       "(['Beta', 'Alpha', 'Beta', 'Beta']\n",
       " Categories (3, object): ['Alpha', 'Beta', 'Charley'],\n",
       " 0     Beta\n",
       " 1    Alpha\n",
       " 2     Beta\n",
       " 3     Beta\n",
       " dtype: category\n",
       " Categories (3, object): ['Alpha', 'Beta', 'c'])"
      ]
     },
     "execution_count": 66,
     "metadata": {},
     "output_type": "execute_result"
    }
   ],
   "source": [
    "x.rename_categories(['Alpha', 'Beta', 'Charley']), \\\n",
    "y.cat.rename_categories({'a':'Alpha', 'b':'Beta'})"
   ]
  },
  {
   "cell_type": "markdown",
   "id": "9629090d",
   "metadata": {},
   "source": [
    "범주의 순서를 바꾸기 위해서는 `.reorder_categories()`와 `.set_categories()`를 사용할 수 있다. `.reorder_categories()`의 경우 기존의 범주를 재배치(`reorder`)하여 순서를 결정한다. 기존의 범주가 빠지거나, 새로운 범주가 추가될 수 없다. 반면 `.set_categories()`는 범주를 새롭게 지정하면서 순서까지 바꾼다. 기존의 범주가 빠지거나 새로운 범주가 추가될 수도 있다."
   ]
  },
  {
   "cell_type": "code",
   "execution_count": 67,
   "id": "fd8674fb",
   "metadata": {},
   "outputs": [
    {
     "data": {
      "text/plain": [
       "0    b\n",
       "1    a\n",
       "2    b\n",
       "3    b\n",
       "dtype: category\n",
       "Categories (3, object): ['c', 'b', 'a']"
      ]
     },
     "execution_count": 67,
     "metadata": {},
     "output_type": "execute_result"
    }
   ],
   "source": [
    "x.reorder_categories(['c', 'b', 'a']) # 원래 순서는 ['a', 'b', 'c']\n",
    "y.cat.reorder_categories(['c', 'b', 'a'])"
   ]
  },
  {
   "cell_type": "code",
   "execution_count": 68,
   "id": "c488f1c1",
   "metadata": {},
   "outputs": [
    {
     "data": {
      "text/plain": [
       "0    b\n",
       "1    a\n",
       "2    b\n",
       "3    b\n",
       "dtype: category\n",
       "Categories (3, object): ['c', 'b', 'a']"
      ]
     },
     "execution_count": 68,
     "metadata": {},
     "output_type": "execute_result"
    }
   ],
   "source": [
    "x.set_categories(['c', 'b', 'a']),\n",
    "y.cat.set_categories(['c', 'b', 'a'])"
   ]
  },
  {
   "cell_type": "markdown",
   "id": "234f4bc7",
   "metadata": {},
   "source": [
    "이제 범주 `a`를 빼고, `d`를 추가해보자."
   ]
  },
  {
   "cell_type": "code",
   "execution_count": 69,
   "id": "1df60e48",
   "metadata": {},
   "outputs": [
    {
     "data": {
      "text/plain": [
       "(['b', NaN, 'b', 'b']\n",
       " Categories (3, object): ['b', 'c', 'd'],\n",
       " 0      b\n",
       " 1    NaN\n",
       " 2      b\n",
       " 3      b\n",
       " dtype: category\n",
       " Categories (3, object): ['b', 'c', 'd'])"
      ]
     },
     "execution_count": 69,
     "metadata": {},
     "output_type": "execute_result"
    }
   ],
   "source": [
    "x.set_categories(['b', 'c', 'd']), \\\n",
    "y.cat.set_categories(['b', 'c', 'd'])"
   ]
  },
  {
   "cell_type": "markdown",
   "id": "0adc257a",
   "metadata": {},
   "source": [
    "삭제된 범주였던 곳은 `np.nan`이 되었음을 확인하자."
   ]
  },
  {
   "cell_type": "markdown",
   "id": "e3393519",
   "metadata": {},
   "source": [
    "### 범주 합치기"
   ]
  },
  {
   "cell_type": "markdown",
   "id": "20aed7a9",
   "metadata": {},
   "source": [
    "범주를 합치는 방법은 판다스에서 지원하지 않는 것으로 보인다. (!!! 혹시 제3자 패키지라도 발견하게 되면 알려주세요) 다음에서 저자가 만든 함수를 소개한다."
   ]
  },
  {
   "cell_type": "code",
   "execution_count": 70,
   "id": "cf2f7f9a",
   "metadata": {},
   "outputs": [],
   "source": [
    "# from mypack.utils import cat_combine, cat_collapse, cat_collapse_cum\n",
    "def cat_combine(x, lst_a, b):\n",
    "    typ = type(x)\n",
    "    if isinstance(x, pd.Categorical):\n",
    "        if b not in x.categories:\n",
    "            x2 = pd.Series(x.add_categories(b), index = x.add_categories(b),\n",
    "                          dtype = \"category\")\n",
    "        else:\n",
    "            x2 = pd.Series(x, index = x,\n",
    "                          dtype = \"category\")\n",
    "    elif isinstance(x, pd.Series) and hasattr(x, \"cat\"):\n",
    "        if b not in x.cat.categories:\n",
    "            x2 = x.cat.add_categories(b)\n",
    "            x2.index = x2\n",
    "        else:\n",
    "            x2 = x\n",
    "            x2.index = x2\n",
    "    else:\n",
    "        raise ValueError(\"x should be either pd.Categorical or pd.Series([], dtype='category')\")\n",
    "        \n",
    "    #print(x2)\n",
    "    #print(type(x2))\n",
    "    #print('*'*10)\n",
    "    for cat in lst_a:\n",
    "        x2.loc[cat] = b\n",
    "    \n",
    "    #print(x2.index)\n",
    "    #print(x2)\n",
    "    #print(type(x2))\n",
    "        \n",
    "    return typ(x2.cat.remove_categories(list(set(lst_a)-set([b]))))\n",
    "        \n",
    "\n",
    "def cat_collapse_cum(x, min_freq = None, min_pct = None, others = 'others'):\n",
    "    if min_freq is not None and min_pct is not None:\n",
    "        raise ValueError(\"Only one of min_freq or min_pct should be set\")\n",
    "    if min_freq is None and min_pct is None:\n",
    "        min_pct = 0.01\n",
    "    typ = type(x)\n",
    "    if isinstance(x, pd.Categorical):\n",
    "        if others in x.categories:\n",
    "            raise ValueError(f\"others({others}) already in the categories\")\n",
    "    elif isinstance(x, pd.Series) and hasattr(x, \"cat\"):\n",
    "        if others in x.cat.categories:\n",
    "            raise ValueError(f\"others({others}) already in the categories\")\n",
    "    else:\n",
    "        raise ValueError(\"x should be either pd.Categorical or pd.Series([], dtype='category')\")\n",
    "    \n",
    "    cats = x.value_counts()\n",
    "    cats_sum = cats.sum()\n",
    "    cats_cumsum = cats.sort_values().cumsum()\n",
    "    if min_freq is not None:\n",
    "        cats_below = cats_cumsum < min_freq\n",
    "    else:\n",
    "        cats_below = cats_cumsum/cats_sum < min_pct\n",
    "    cats_remain = set(cats.index) - set(cats[cats_below].index)\n",
    "    if isinstance(x, pd.Categorical):\n",
    "        x2 = x.set_categories(list(cats_remain)+[others])\n",
    "    else:\n",
    "        x2 = x.cat.set_categories(list(cats_remain)+[others])\n",
    "    # x3 = x2.value_counts(dropna = False)\n",
    "    x2[x2.isna()] = others\n",
    "    if isinstance(x, pd.Categorical):\n",
    "        x2 = x2.remove_unused_categories()\n",
    "    else:\n",
    "        x2 = x2.cat.remove_unused_categories()\n",
    "    \n",
    "    return typ(x2)\n",
    "\n",
    "def cat_collapse(x, min_freq = None, min_pct = None, others = 'others'):\n",
    "    if min_freq is not None and min_pct is not None:\n",
    "        raise ValueError(\"Only one of min_freq or min_pct should be set\")\n",
    "    if min_freq is None and min_pct is None:\n",
    "        min_pct = 0.01\n",
    "    typ = type(x)\n",
    "    if isinstance(x, pd.Categorical):\n",
    "        if others in x.categories:\n",
    "            raise ValueError(f\"others({others}) already in the categories\")\n",
    "    elif isinstance(x, pd.Series) and hasattr(x, \"cat\"):\n",
    "        if others in x.cat.categories:\n",
    "            raise ValueError(f\"others({others}) already in the categories\")\n",
    "    else:\n",
    "        raise ValueError(\"x should be either pd.Categorical or pd.Series([], dtype='category')\")\n",
    "    \n",
    "    cats = x.value_counts()\n",
    "    if min_freq is not None:\n",
    "        cats_below = cats < min_freq\n",
    "    else:\n",
    "        cats_below = cats/cats.sum() < min_pct\n",
    "    cats_remain = set(cats.index) - set(cats[cats_below].index)\n",
    "    if isinstance(x, pd.Categorical):\n",
    "        x2 = x.set_categories(list(cats_remain)+[others])\n",
    "    else:\n",
    "        x2 = x.cat.set_categories(list(cats_remain)+[others])\n",
    "    # x3 = x2.value_counts(dropna = False)\n",
    "    x2[x2.isna()] = others\n",
    "    if isinstance(x, pd.Categorical):\n",
    "        x2 = x2.remove_unused_categories()\n",
    "    else:\n",
    "        x2 = x2.cat.remove_unused_categories()\n",
    "    \n",
    "    return typ(x2)\n",
    "\n"
   ]
  },
  {
   "cell_type": "markdown",
   "id": "f19dfce9",
   "metadata": {},
   "source": [
    "`cat_combine()` 함수는 범주형 데이터에서 2개 이상의 범주를 하나로 합친다. `pd.Categorical()`과 dtype이 `category`인 판다스 시리즈 모두 사용 가능하다."
   ]
  },
  {
   "cell_type": "code",
   "execution_count": 71,
   "id": "2b73212d",
   "metadata": {},
   "outputs": [],
   "source": [
    "import numpy as np\n",
    "import pandas as pd"
   ]
  },
  {
   "cell_type": "code",
   "execution_count": 72,
   "id": "9650b613",
   "metadata": {},
   "outputs": [],
   "source": [
    "x0 = np.random.choice(list('abcdefg'), size=100, p=[0.6, 0.18, 0.07, 0.05, 0.05, 0.03, 0.02])"
   ]
  },
  {
   "cell_type": "code",
   "execution_count": 73,
   "id": "14671f16",
   "metadata": {},
   "outputs": [],
   "source": [
    "x = pd.Categorical(x0)\n",
    "y = pd.Series(x0, dtype='category')"
   ]
  },
  {
   "cell_type": "code",
   "execution_count": 74,
   "id": "cbc94a06",
   "metadata": {},
   "outputs": [
    {
     "data": {
      "text/plain": [
       "a    62\n",
       "b    16\n",
       "c     7\n",
       "d     7\n",
       "e     4\n",
       "f     2\n",
       "g     2\n",
       "Name: count, dtype: int64"
      ]
     },
     "execution_count": 74,
     "metadata": {},
     "output_type": "execute_result"
    }
   ],
   "source": [
    "y.value_counts()"
   ]
  },
  {
   "cell_type": "code",
   "execution_count": 75,
   "id": "63b7ab0a",
   "metadata": {},
   "outputs": [
    {
     "data": {
      "text/plain": [
       "['c', 'c', 'c', 'c', 'c', ..., 'e', 'c', 'c', 'g', 'c']\n",
       "Length: 100\n",
       "Categories (5, object): ['c', 'd', 'e', 'f', 'g']"
      ]
     },
     "execution_count": 75,
     "metadata": {},
     "output_type": "execute_result"
    }
   ],
   "source": [
    "cat_combine(x, ['a', 'b'], 'c')"
   ]
  },
  {
   "cell_type": "code",
   "execution_count": 76,
   "id": "52d8c902",
   "metadata": {},
   "outputs": [
    {
     "data": {
      "text/plain": [
       "0     c\n",
       "1     c\n",
       "2     c\n",
       "3     c\n",
       "4     c\n",
       "     ..\n",
       "95    e\n",
       "96    c\n",
       "97    c\n",
       "98    g\n",
       "99    c\n",
       "Length: 100, dtype: category\n",
       "Categories (5, object): ['c', 'd', 'e', 'f', 'g']"
      ]
     },
     "execution_count": 76,
     "metadata": {},
     "output_type": "execute_result"
    }
   ],
   "source": [
    "cat_combine(y, ['a', 'b'], 'c')"
   ]
  },
  {
   "cell_type": "markdown",
   "id": "319ca2a3",
   "metadata": {},
   "source": [
    "`cat_collapse(x, min_freq)`와 `cat_collapse(x, min_pct)`은 모두 빈도 또는 비율이 작은 범주를 하나(예. `others`)로 묶어준다."
   ]
  },
  {
   "cell_type": "code",
   "execution_count": 77,
   "id": "d06eb6d5",
   "metadata": {},
   "outputs": [
    {
     "data": {
      "text/plain": [
       "<function __main__.cat_collapse(x, min_freq=None, min_pct=None, others='others')>"
      ]
     },
     "execution_count": 77,
     "metadata": {},
     "output_type": "execute_result"
    }
   ],
   "source": [
    "cat_collapse"
   ]
  },
  {
   "cell_type": "code",
   "execution_count": 78,
   "id": "9c88dbf9",
   "metadata": {},
   "outputs": [
    {
     "data": {
      "text/plain": [
       "['a', 'b', 'b', 'b', 'a', ..., 'insignificant', 'a', 'insignificant', 'insignificant', 'a']\n",
       "Length: 100\n",
       "Categories (3, object): ['a', 'b', 'insignificant']"
      ]
     },
     "execution_count": 78,
     "metadata": {},
     "output_type": "execute_result"
    }
   ],
   "source": [
    "res1 = cat_collapse(x, min_pct=0.1, others='insignificant') \n",
    "# 0.1보다 작은 비율의 범주는 모두 'insignificant'로 묶는다.\n",
    "res1"
   ]
  },
  {
   "cell_type": "code",
   "execution_count": 79,
   "id": "4ca80082",
   "metadata": {},
   "outputs": [
    {
     "data": {
      "text/plain": [
       "['a', 'b', 'b', 'b', 'a', ..., '<0.1', 'a', 'c', '<0.1', 'a']\n",
       "Length: 100\n",
       "Categories (5, object): ['c', 'a', 'd', 'b', '<0.1']"
      ]
     },
     "execution_count": 79,
     "metadata": {},
     "output_type": "execute_result"
    }
   ],
   "source": [
    "res2 = cat_collapse_cum(x, min_pct=0.1, others='<0.1') \n",
    "# 합쳐서 0.1보다 작은 비율의 범주는 모두 '<0.1'로 묶는다.\n",
    "res2"
   ]
  },
  {
   "cell_type": "markdown",
   "id": "55ecde9e",
   "metadata": {},
   "source": [
    "둘의 차이는 다음의 결과에서 확인할 수 있다. 아쉽게도 위의 함수들은 순위형 자료형을 적절하게 처리하지 못한다. 순위형도 명목형으로 취급한다."
   ]
  },
  {
   "cell_type": "code",
   "execution_count": 80,
   "id": "dae7fe8e",
   "metadata": {},
   "outputs": [
    {
     "data": {
      "text/plain": [
       "a    62\n",
       "b    16\n",
       "c     7\n",
       "d     7\n",
       "e     4\n",
       "f     2\n",
       "g     2\n",
       "Name: count, dtype: int64"
      ]
     },
     "execution_count": 80,
     "metadata": {},
     "output_type": "execute_result"
    }
   ],
   "source": [
    "x.value_counts()"
   ]
  },
  {
   "cell_type": "code",
   "execution_count": 81,
   "id": "1bf93249",
   "metadata": {},
   "outputs": [
    {
     "data": {
      "text/plain": [
       "a                0.62\n",
       "b                0.16\n",
       "insignificant    0.22\n",
       "Name: count, dtype: float64"
      ]
     },
     "execution_count": 81,
     "metadata": {},
     "output_type": "execute_result"
    }
   ],
   "source": [
    "res1.value_counts()/len(res1)"
   ]
  },
  {
   "cell_type": "code",
   "execution_count": 82,
   "id": "0d8d24f1",
   "metadata": {},
   "outputs": [
    {
     "data": {
      "text/plain": [
       "c       0.07\n",
       "a       0.62\n",
       "d       0.07\n",
       "b       0.16\n",
       "<0.1    0.08\n",
       "Name: count, dtype: float64"
      ]
     },
     "execution_count": 82,
     "metadata": {},
     "output_type": "execute_result"
    }
   ],
   "source": [
    "res2.value_counts()/len(res1)"
   ]
  },
  {
   "cell_type": "code",
   "execution_count": null,
   "id": "26ab4cc4",
   "metadata": {},
   "outputs": [],
   "source": []
  },
  {
   "cell_type": "code",
   "execution_count": null,
   "id": "ab9b41e0",
   "metadata": {},
   "outputs": [],
   "source": []
  }
 ],
 "metadata": {
  "jupytext": {
   "cell_metadata_filter": "-all",
   "encoding": "# -*- coding: utf-8 -*-",
   "formats": "ipynb,auto:percent",
   "main_language": "python",
   "notebook_metadata_filter": "-all"
  },
  "kernelspec": {
   "display_name": "Python 3 (ipykernel)",
   "language": "python",
   "name": "python3"
  },
  "language_info": {
   "codemirror_mode": {
    "name": "ipython",
    "version": 3
   },
   "file_extension": ".py",
   "mimetype": "text/x-python",
   "name": "python",
   "nbconvert_exporter": "python",
   "pygments_lexer": "ipython3",
   "version": "3.9.18"
  }
 },
 "nbformat": 4,
 "nbformat_minor": 5
}
