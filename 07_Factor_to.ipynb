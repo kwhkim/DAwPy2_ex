{
 "cells": [
  {
   "cell_type": "markdown",
   "id": "36fd843a",
   "metadata": {},
   "source": [
    "# 범주형 데이터 {#ch:cat}"
   ]
  },
  {
   "cell_type": "markdown",
   "id": "ee9a4dab",
   "metadata": {},
   "source": [
    "## 목차 {#sec:toc-cat}\n",
    "\n",
    "* 들어가기 문제\n",
    "\n",
    "* 핵심 요약 \n",
    "    * 파이썬에서 범주형 데이터\n",
    "    * 명목형데이터와 순위형 데이터\n",
    "    * 범주형(`pd.Categorical`) 생성/확인/변환\n",
    "    * 범주형 데이터의 중요성\n",
    "    * 범주형 데이터 전처리\n",
    "    * 범주형 데이터 다루기\n",
    "    \n",
    "* 세부내용 - 저자가 제공하는 함수\n",
    "    * 범주형 데이터 합치기\n",
    "    * 범주형 데이터의 순위 부분수정하기\n",
    "    \n",
    "* 들어가기 문제 답안"
   ]
  },
  {
   "cell_type": "markdown",
   "id": "aae654fe",
   "metadata": {},
   "source": [
    "## 들어가기 문제 {#sec:cat-prob-intro}"
   ]
  },
  {
   "cell_type": "markdown",
   "id": "3b1b0cdf",
   "metadata": {},
   "source": [
    "|영화 | 장르| 등급 |\n",
    "|:---|:---|:---|\n",
    "|Die Hard| Action|R |\n",
    "|Shawshank Redemption| Drama |R |\n",
    "|Seven | Thriller |R|\n",
    "|Gone Girl | Thriller |R|\n",
    "|The Italian Job | Crime |PG-13|\n",
    "|Scarface | Crime |R|\n",
    "\n",
    "|영화 | 장르| 등급 |\n",
    "|:---|:---|:---|\n",
    "|Toy Story | Animation |G|\n",
    "|The Lion King | Animation |G|\n",
    "|When Harry Met Sally| Comedy |R|\n",
    "|Groundhog Day| Comedy |PG|\n",
    "\n",
    "\n",
    "* MPA film rating system in the US\n",
    "  - G(General Audiences)\n",
    "  - PG(Parental Guidance Suggested)\n",
    "  - PG-13(Parents Strongly Cautioned)\n",
    "  - R(Restricted)\n",
    "  - NC-17(No Child 17 and under admitted)"
   ]
  },
  {
   "cell_type": "code",
   "execution_count": 1,
   "id": "bfc9a58f",
   "metadata": {},
   "outputs": [],
   "source": [
    "import numpy as np\n",
    "import pandas as pd\n",
    "\n",
    "df_mov1 = pd.read_csv(\"data/movies1.csv\",\n",
    "                      dtype = \n",
    "                      {\"genre\": pd.api.types.CategoricalDtype(\n",
    "                          ['Action', 'Crime', 'Drama', 'Thriller']),\n",
    "                       \"rating\": pd.api.types.CategoricalDtype(\n",
    "                          ['PG', 'G', 'PG-13', 'R', 'NC-13'],\n",
    "                                   ordered = True)})"
   ]
  },
  {
   "cell_type": "code",
   "execution_count": 2,
   "id": "3af3eaff",
   "metadata": {},
   "outputs": [],
   "source": [
    "df_mov2 = pd.read_csv(\"data/movies2.csv\",\n",
    "                      dtype = \n",
    "                      {\"genre\": \"category\",\n",
    "                       \"rating\": pd.api.types.CategoricalDtype(\n",
    "                          ['PG', 'G', 'PG-13', 'R', 'NC-13'],\n",
    "                                   ordered = True)})"
   ]
  },
  {
   "cell_type": "code",
   "execution_count": 3,
   "id": "34ca9081",
   "metadata": {},
   "outputs": [
    {
     "data": {
      "text/html": [
       "<div>\n",
       "<style scoped>\n",
       "    .dataframe tbody tr th:only-of-type {\n",
       "        vertical-align: middle;\n",
       "    }\n",
       "\n",
       "    .dataframe tbody tr th {\n",
       "        vertical-align: top;\n",
       "    }\n",
       "\n",
       "    .dataframe thead th {\n",
       "        text-align: right;\n",
       "    }\n",
       "</style>\n",
       "<table border=\"1\" class=\"dataframe\">\n",
       "  <thead>\n",
       "    <tr style=\"text-align: right;\">\n",
       "      <th></th>\n",
       "      <th>name</th>\n",
       "      <th>genre</th>\n",
       "      <th>rating</th>\n",
       "    </tr>\n",
       "  </thead>\n",
       "  <tbody>\n",
       "    <tr>\n",
       "      <th>0</th>\n",
       "      <td>Die Hard</td>\n",
       "      <td>Action</td>\n",
       "      <td>R</td>\n",
       "    </tr>\n",
       "    <tr>\n",
       "      <th>1</th>\n",
       "      <td>Shawshank Redemption</td>\n",
       "      <td>Drama</td>\n",
       "      <td>R</td>\n",
       "    </tr>\n",
       "    <tr>\n",
       "      <th>2</th>\n",
       "      <td>Seven</td>\n",
       "      <td>Thriller</td>\n",
       "      <td>R</td>\n",
       "    </tr>\n",
       "    <tr>\n",
       "      <th>3</th>\n",
       "      <td>Gone Girl</td>\n",
       "      <td>Thriller</td>\n",
       "      <td>R</td>\n",
       "    </tr>\n",
       "    <tr>\n",
       "      <th>4</th>\n",
       "      <td>The Italian Job</td>\n",
       "      <td>Crime</td>\n",
       "      <td>PG-13</td>\n",
       "    </tr>\n",
       "    <tr>\n",
       "      <th>5</th>\n",
       "      <td>Scarface</td>\n",
       "      <td>Crime</td>\n",
       "      <td>R</td>\n",
       "    </tr>\n",
       "  </tbody>\n",
       "</table>\n",
       "</div>"
      ],
      "text/plain": [
       "                   name     genre rating\n",
       "0              Die Hard    Action      R\n",
       "1  Shawshank Redemption     Drama      R\n",
       "2                 Seven  Thriller      R\n",
       "3             Gone Girl  Thriller      R\n",
       "4       The Italian Job     Crime  PG-13\n",
       "5              Scarface     Crime      R"
      ]
     },
     "execution_count": 3,
     "metadata": {},
     "output_type": "execute_result"
    }
   ],
   "source": [
    "df_mov1"
   ]
  },
  {
   "cell_type": "code",
   "execution_count": 4,
   "id": "ec20a50a",
   "metadata": {
    "lines_to_next_cell": 2
   },
   "outputs": [
    {
     "data": {
      "text/html": [
       "<div>\n",
       "<style scoped>\n",
       "    .dataframe tbody tr th:only-of-type {\n",
       "        vertical-align: middle;\n",
       "    }\n",
       "\n",
       "    .dataframe tbody tr th {\n",
       "        vertical-align: top;\n",
       "    }\n",
       "\n",
       "    .dataframe thead th {\n",
       "        text-align: right;\n",
       "    }\n",
       "</style>\n",
       "<table border=\"1\" class=\"dataframe\">\n",
       "  <thead>\n",
       "    <tr style=\"text-align: right;\">\n",
       "      <th></th>\n",
       "      <th>name</th>\n",
       "      <th>genre</th>\n",
       "      <th>rating</th>\n",
       "    </tr>\n",
       "  </thead>\n",
       "  <tbody>\n",
       "    <tr>\n",
       "      <th>0</th>\n",
       "      <td>Toy Story</td>\n",
       "      <td>Animation</td>\n",
       "      <td>G</td>\n",
       "    </tr>\n",
       "    <tr>\n",
       "      <th>1</th>\n",
       "      <td>The Lion King</td>\n",
       "      <td>Animation</td>\n",
       "      <td>G</td>\n",
       "    </tr>\n",
       "    <tr>\n",
       "      <th>2</th>\n",
       "      <td>When Harry Met Sally</td>\n",
       "      <td>Comedy</td>\n",
       "      <td>R</td>\n",
       "    </tr>\n",
       "    <tr>\n",
       "      <th>3</th>\n",
       "      <td>Groundhog Day</td>\n",
       "      <td>Comedy</td>\n",
       "      <td>PG</td>\n",
       "    </tr>\n",
       "  </tbody>\n",
       "</table>\n",
       "</div>"
      ],
      "text/plain": [
       "                   name      genre rating\n",
       "0             Toy Story  Animation      G\n",
       "1         The Lion King  Animation      G\n",
       "2  When Harry Met Sally     Comedy      R\n",
       "3         Groundhog Day     Comedy     PG"
      ]
     },
     "execution_count": 4,
     "metadata": {},
     "output_type": "execute_result"
    }
   ],
   "source": [
    "df_mov2"
   ]
  },
  {
   "cell_type": "markdown",
   "id": "a998684c",
   "metadata": {},
   "source": [
    "위의 데이터에서 영화 장르는 크게 `Action`,  `Drama`,  `Thriller`, `Crime`로 나눌 수 있고, \n",
    "영화 등급은 크게 `PG`<`G`<`PG-13`<`R`<`NC-13`로 나눌 수 있다. 다음을 쉽게 풀 수 있다면 \n",
    "\n",
    "1. 순서를 알파벳 순인 `Action`, `Crime`, `Drama`, `Thriller`로 바꾼다\n",
    "1. `Animation`, `Comedy` 추가\n",
    "1. `Crime`는 `Thriller`에 포함시킨다\n",
    "1. `Romance`추가\n",
    "1. `Comedy`와 `Romance`는 `Drama`에 포함시킨다\n",
    "1. 약어로 표시한다 : `Act`, `Dra`, `Thr`, `Ani`\n",
    "1. 등급을 `PG`<`G`<`PG-13`<`R`<`NC-13`순의 순위형으로 변환한다\n",
    "1. 등급을 `G`<`PG`로 바꾼다.\n",
    "1. 등급에 `NC-17` 추가한다\n",
    "1. 새로운 장르 `experimental`를 추가한다\n",
    "1. 새로운 장르 `experimental`을 `Exp`로 바꾼다."
   ]
  },
  {
   "cell_type": "markdown",
   "id": "bbcc76e8",
   "metadata": {},
   "source": []
  },
  {
   "cell_type": "markdown",
   "id": "b4814a12",
   "metadata": {},
   "source": [
    "### 해답 및 찾아가기"
   ]
  },
  {
   "cell_type": "markdown",
   "id": "6f5a9411",
   "metadata": {},
   "source": [
    "* 순서를 알파벳 순인 `Action`, `Crime`, `Drama`, `Thriller`로 바꾼다(-> 범주형 데이터 - 범주형 데이터에 대한 전처리 - 범주 순서 바꾸기)"
   ]
  },
  {
   "cell_type": "code",
   "execution_count": 5,
   "id": "efcb7efd",
   "metadata": {},
   "outputs": [
    {
     "data": {
      "text/plain": [
       "0      Action\n",
       "1       Drama\n",
       "2    Thriller\n",
       "3    Thriller\n",
       "4       Crime\n",
       "5       Crime\n",
       "Name: genre, dtype: category\n",
       "Categories (4, object): ['Action', 'Crime', 'Drama', 'Thriller']"
      ]
     },
     "execution_count": 5,
     "metadata": {},
     "output_type": "execute_result"
    }
   ],
   "source": [
    "# 알파벳 순을 직접 작성하거나\n",
    "df_mov1['genre'].cat.reorder_categories(['Action', 'Crime', 'Drama', 'Thriller'])"
   ]
  },
  {
   "cell_type": "code",
   "execution_count": 6,
   "id": "d6f4b246",
   "metadata": {},
   "outputs": [
    {
     "data": {
      "text/plain": [
       "0      Action\n",
       "1       Drama\n",
       "2    Thriller\n",
       "3    Thriller\n",
       "4       Crime\n",
       "5       Crime\n",
       "Name: genre, dtype: category\n",
       "Categories (4, object): ['Action', 'Crime', 'Drama', 'Thriller']"
      ]
     },
     "execution_count": 6,
     "metadata": {},
     "output_type": "execute_result"
    }
   ],
   "source": [
    "# .sort_values()로 정렬을 할 수도 있다: 이 방법은 임의의 범주형 데이터에 대해 알파벳 순으로 범주 순서를 바꾼다\n",
    "genre2 = df_mov1['genre'].cat.reorder_categories(df_mov1['genre'].cat.categories.sort_values())\n",
    "genre2"
   ]
  },
  {
   "cell_type": "code",
   "execution_count": null,
   "id": "fd405c2b",
   "metadata": {},
   "outputs": [],
   "source": []
  },
  {
   "cell_type": "markdown",
   "id": "ea770c12",
   "metadata": {},
   "source": [
    "* `Animation`, `Comedy` 추가"
   ]
  },
  {
   "cell_type": "code",
   "execution_count": 7,
   "id": "be0f002f",
   "metadata": {},
   "outputs": [
    {
     "data": {
      "text/plain": [
       "0      Action\n",
       "1       Drama\n",
       "2    Thriller\n",
       "3    Thriller\n",
       "4       Crime\n",
       "5       Crime\n",
       "Name: genre, dtype: category\n",
       "Categories (6, object): ['Action', 'Crime', 'Drama', 'Thriller', 'Animation', 'Comedy']"
      ]
     },
     "execution_count": 7,
     "metadata": {},
     "output_type": "execute_result"
    }
   ],
   "source": [
    "# genre2 = df_mov1['genre']\n",
    "genre3 = genre2.cat.add_categories(['Animation', 'Comedy'])\n",
    "genre3\n",
    "# .set_categories() 메소드를 활용한다면 다음과 같이 할 수 있을 것이다\n",
    "# genre3 = genre2.cat.set_categories(genre2.cat.categories.tolist() + ['Animation', 'Comedy'])"
   ]
  },
  {
   "cell_type": "markdown",
   "id": "1bba1e12",
   "metadata": {},
   "source": [
    "* `Crime`는 `Thriller`에 포함시킨다"
   ]
  },
  {
   "cell_type": "code",
   "execution_count": 9,
   "id": "a2d59205",
   "metadata": {
    "lines_to_next_cell": 2
   },
   "outputs": [
    {
     "data": {
      "text/plain": [
       "0      Action\n",
       "1       Drama\n",
       "2    Thriller\n",
       "3    Thriller\n",
       "4    Thriller\n",
       "5    Thriller\n",
       "Name: genre, dtype: category\n",
       "Categories (5, object): ['Action', 'Drama', 'Thriller', 'Animation', 'Comedy']"
      ]
     },
     "execution_count": 9,
     "metadata": {},
     "output_type": "execute_result"
    }
   ],
   "source": [
    "# from mypack.utils import cat_combine\n",
    "\n",
    "genre4 = genre3.replace(\"Crime\", \"Thriller\")\n",
    "# cat_combine(genre3, ['Thriller'], 'Crime')\n",
    "genre4"
   ]
  },
  {
   "cell_type": "markdown",
   "id": "d34713d9",
   "metadata": {},
   "source": [
    "* `Romance`추가"
   ]
  },
  {
   "cell_type": "code",
   "execution_count": 10,
   "id": "9451c09d",
   "metadata": {},
   "outputs": [
    {
     "data": {
      "text/plain": [
       "0      Action\n",
       "1       Drama\n",
       "2    Thriller\n",
       "3    Thriller\n",
       "4    Thriller\n",
       "5    Thriller\n",
       "Name: genre, dtype: category\n",
       "Categories (6, object): ['Action', 'Drama', 'Thriller', 'Animation', 'Comedy', 'Romance']"
      ]
     },
     "execution_count": 10,
     "metadata": {},
     "output_type": "execute_result"
    }
   ],
   "source": [
    "genre5 = genre4.cat.add_categories('Romance')\n",
    "genre5"
   ]
  },
  {
   "cell_type": "markdown",
   "id": "6cdaa36d",
   "metadata": {},
   "source": [
    "* `Comedy`와 `Romance`는 `Drama`에 포함시킨다"
   ]
  },
  {
   "cell_type": "code",
   "execution_count": 11,
   "id": "f2c048f3",
   "metadata": {},
   "outputs": [
    {
     "data": {
      "text/plain": [
       "0      Action\n",
       "1       Drama\n",
       "2    Thriller\n",
       "3    Thriller\n",
       "4    Thriller\n",
       "5    Thriller\n",
       "Name: genre, dtype: category\n",
       "Categories (4, object): ['Action', 'Drama', 'Thriller', 'Animation']"
      ]
     },
     "execution_count": 11,
     "metadata": {},
     "output_type": "execute_result"
    }
   ],
   "source": [
    "genre6 = genre5.replace(['Comedy', 'Romance'], 'Drama')\n",
    "#genre6 = cat_combine(genre5, ['Comedy', 'Romance'], 'Drama')\n",
    "genre6"
   ]
  },
  {
   "cell_type": "markdown",
   "id": "e42bc9c5",
   "metadata": {},
   "source": [
    "* 약어로 표시한다 : `Act`, `Dra`, `Thr`, `Ani`, `Cri`, `Com`, `Rom`"
   ]
  },
  {
   "cell_type": "code",
   "execution_count": 12,
   "id": "02016809",
   "metadata": {},
   "outputs": [
    {
     "data": {
      "text/plain": [
       "0    Act\n",
       "1    Dra\n",
       "2    Thr\n",
       "3    Thr\n",
       "4    Thr\n",
       "5    Thr\n",
       "Name: genre, dtype: category\n",
       "Categories (6, object): ['Act', 'Dra', 'Thr', 'Ani', 'Com', 'Rom']"
      ]
     },
     "execution_count": 12,
     "metadata": {},
     "output_type": "execute_result"
    }
   ],
   "source": [
    "genre6 = genre5.cat.rename_categories(\n",
    "    {'Action':'Act', 'Drama':'Dra', 'Thriller':'Thr', 'Animation':'Ani', \n",
    "     'Crime':'Cri', 'Comedy':'Com', 'Romance':'Rom'})\n",
    "genre6"
   ]
  },
  {
   "cell_type": "markdown",
   "id": "ee4b10e7",
   "metadata": {},
   "source": [
    "전체 카테고리 순서에 맞춰 새로운 이름을 리스트로 `rename_categories()`에 전달할 수도 있다."
   ]
  },
  {
   "cell_type": "code",
   "execution_count": 13,
   "id": "5eb57ab6",
   "metadata": {},
   "outputs": [
    {
     "data": {
      "text/plain": [
       "Index(['Action', 'Drama', 'Thriller', 'Animation', 'Comedy', 'Romance'], dtype='object')"
      ]
     },
     "execution_count": 13,
     "metadata": {},
     "output_type": "execute_result"
    }
   ],
   "source": [
    "genre5.cat.categories"
   ]
  },
  {
   "cell_type": "code",
   "execution_count": 14,
   "id": "11dd9f4f",
   "metadata": {},
   "outputs": [
    {
     "data": {
      "text/plain": [
       "0    Act\n",
       "1    Ani\n",
       "2    Com\n",
       "3    Com\n",
       "4    Com\n",
       "5    Com\n",
       "Name: genre, dtype: category\n",
       "Categories (6, object): ['Act', 'Ani', 'Com', 'Cri', 'Dra', 'Rom']"
      ]
     },
     "execution_count": 14,
     "metadata": {},
     "output_type": "execute_result"
    }
   ],
   "source": [
    "genre6 = genre5.cat.rename_categories(['Act', 'Ani', 'Com', 'Cri', 'Dra', 'Rom'])\n",
    "genre6"
   ]
  },
  {
   "cell_type": "markdown",
   "id": "32c031bb",
   "metadata": {},
   "source": [
    "참고로 다음과 같이 기존 이름과 새로운 이름의 딕셔너리는 다음과 같이 만들 수 있다(딕셔너리 컴프리헨션)."
   ]
  },
  {
   "cell_type": "code",
   "execution_count": 15,
   "id": "1286f41b",
   "metadata": {},
   "outputs": [
    {
     "data": {
      "text/plain": [
       "{'Action': 'Act',\n",
       " 'Drama': 'Ani',\n",
       " 'Thriller': 'Com',\n",
       " 'Animation': 'Cri',\n",
       " 'Comedy': 'Dra',\n",
       " 'Romance': 'Rom'}"
      ]
     },
     "execution_count": 15,
     "metadata": {},
     "output_type": "execute_result"
    }
   ],
   "source": [
    "{gen_old:gen_new for gen_old, gen_new in zip(genre5.cat.categories, ['Act', 'Ani', 'Com', 'Cri', 'Dra', 'Rom'])}"
   ]
  },
  {
   "cell_type": "markdown",
   "id": "b0bf11b9",
   "metadata": {},
   "source": [
    "* 등급을 `PG`<`G`<`PG-13`<`R`<`NC-13`순의 순위형으로 변환한다"
   ]
  },
  {
   "cell_type": "code",
   "execution_count": 16,
   "id": "8a9e81ba",
   "metadata": {},
   "outputs": [
    {
     "data": {
      "text/plain": [
       "0        R\n",
       "1        R\n",
       "2        R\n",
       "3        R\n",
       "4    PG-13\n",
       "5        R\n",
       "Name: rating, dtype: category\n",
       "Categories (5, object): ['PG' < 'G' < 'PG-13' < 'R' < 'NC-13']"
      ]
     },
     "execution_count": 16,
     "metadata": {},
     "output_type": "execute_result"
    }
   ],
   "source": [
    "rating = df_mov1['rating'].cat.as_ordered().cat.set_categories(['PG', 'G', 'PG-13', 'R', 'NC-13'])\n",
    "rating"
   ]
  },
  {
   "cell_type": "markdown",
   "id": "8c0701c2",
   "metadata": {},
   "source": [
    "* 등급을 `G`<`PG`로 바꾼다."
   ]
  },
  {
   "cell_type": "code",
   "execution_count": 19,
   "id": "7ba2c1c6",
   "metadata": {
    "lines_to_next_cell": 2
   },
   "outputs": [],
   "source": [
    "# from mypack.utils import reorder_cat_partial\n",
    "\n",
    "def reorder_cat_partial(x, orders_new):\n",
    "    if isinstance(x, pd.Series):\n",
    "        cat_remains = ~(x.cat.categories.isin(orders_new))\n",
    "        cat_new = x.cat.categories.values.copy()\n",
    "        cat_new[~cat_remains] = orders_new\n",
    "        return x.cat.reorder_categories(cat_new)\n",
    "    elif isinstance(x, pd.Categorical):\n",
    "        cat_remains = ~(x.categories.isin(orders_new))\n",
    "        cat_new = x.categories.values.copy()\n",
    "        cat_new[~cat_remains] = orders_new\n",
    "        return x.reorder_categories(cat_new)"
   ]
  },
  {
   "cell_type": "code",
   "execution_count": null,
   "id": "d3aba42a",
   "metadata": {},
   "outputs": [],
   "source": []
  },
  {
   "cell_type": "code",
   "execution_count": 20,
   "id": "3676a153",
   "metadata": {},
   "outputs": [
    {
     "data": {
      "text/plain": [
       "0        R\n",
       "1        R\n",
       "2        R\n",
       "3        R\n",
       "4    PG-13\n",
       "5        R\n",
       "Name: rating, dtype: category\n",
       "Categories (5, object): ['G' < 'PG' < 'PG-13' < 'R' < 'NC-13']"
      ]
     },
     "execution_count": 20,
     "metadata": {},
     "output_type": "execute_result"
    }
   ],
   "source": [
    "rating2 = reorder_cat_partial(rating, ['G', 'PG'])\n",
    "rating2"
   ]
  },
  {
   "cell_type": "markdown",
   "id": "0386a96f",
   "metadata": {},
   "source": [
    "* 등급에 `NC-17` 추가한다"
   ]
  },
  {
   "cell_type": "code",
   "execution_count": 21,
   "id": "1fd6e663",
   "metadata": {},
   "outputs": [
    {
     "data": {
      "text/plain": [
       "0        R\n",
       "1        R\n",
       "2        R\n",
       "3        R\n",
       "4    PG-13\n",
       "5        R\n",
       "Name: rating, dtype: category\n",
       "Categories (6, object): ['G' < 'PG' < 'PG-13' < 'R' < 'NC-13' < 'NC-17']"
      ]
     },
     "execution_count": 21,
     "metadata": {},
     "output_type": "execute_result"
    }
   ],
   "source": [
    "rating2.cat.add_categories('NC-17')"
   ]
  },
  {
   "cell_type": "markdown",
   "id": "d07b18d7",
   "metadata": {},
   "source": [
    "* 새로운 장르 `experimental`를 추가한다"
   ]
  },
  {
   "cell_type": "code",
   "execution_count": 22,
   "id": "f2eeab18",
   "metadata": {},
   "outputs": [
    {
     "data": {
      "text/plain": [
       "0    Act\n",
       "1    Ani\n",
       "2    Com\n",
       "3    Com\n",
       "4    Com\n",
       "5    Com\n",
       "Name: genre, dtype: category\n",
       "Categories (7, object): ['Act', 'Ani', 'Com', 'Cri', 'Dra', 'Rom', 'experimental']"
      ]
     },
     "execution_count": 22,
     "metadata": {},
     "output_type": "execute_result"
    }
   ],
   "source": [
    "genre7 = genre6.cat.add_categories('experimental')\n",
    "genre7"
   ]
  },
  {
   "cell_type": "markdown",
   "id": "3496733d",
   "metadata": {},
   "source": [
    "* 새로운 장르 `experimental`을 `Exp`로 바꾼다."
   ]
  },
  {
   "cell_type": "code",
   "execution_count": 23,
   "id": "91bbfabc",
   "metadata": {},
   "outputs": [
    {
     "data": {
      "text/plain": [
       "0    Act\n",
       "1    Ani\n",
       "2    Com\n",
       "3    Com\n",
       "4    Com\n",
       "5    Com\n",
       "Name: genre, dtype: category\n",
       "Categories (7, object): ['Act', 'Ani', 'Com', 'Cri', 'Dra', 'Rom', 'Exp']"
      ]
     },
     "execution_count": 23,
     "metadata": {},
     "output_type": "execute_result"
    }
   ],
   "source": [
    "genre8 = genre7.cat.rename_categories({'experimental':'Exp'})\n",
    "genre8"
   ]
  },
  {
   "cell_type": "code",
   "execution_count": null,
   "id": "5b652ba5",
   "metadata": {},
   "outputs": [],
   "source": []
  },
  {
   "cell_type": "code",
   "execution_count": null,
   "id": "bf8d1b25",
   "metadata": {},
   "outputs": [],
   "source": []
  },
  {
   "cell_type": "markdown",
   "id": "06c80877",
   "metadata": {},
   "source": [
    "## 범주형 데이터 개괄: 명목형 데이터와 순위형 데이터\n",
    "\n",
    "범주형 데이터란 관찰 가능한 값이 한정되어 있는 데이터이다. 예를 들어 어떤 모임의 구성원 주소를 생각해보자. 주소 중에서 광역시을 생각하면 관찰할 수 있는 값은 2023년 현재 부산, 인천, 대구, 대전, 광주, 울산뿐이다. \n",
    "\n",
    "범주형 데이터는 크게 **명목형**과 **순위형**이 있다. 명목형은 서로 독립된 범주형이고, 순위형은 범주 사이에 순위 관계가 존재하는 경우이다. 명목형의 예로 서울, 부산, 대구 등과 같이 대소, 우열이 없는 경우이다.[^07seoul] 그와 반대로 리커트 응답 항목의 \"매우 그렇지 **않다**\", \"그렇다\", \"매우 그렇다\" 등은 단어의미가 어떤 명제에 대해 긍정의 정도를 의미한다. 긍정의 강도에서 \"매우 그렇지 **않다**\" < \"그렇다\" < \"매우 그렇다\"임을 누구나 알 수 있다. 하지만 각 범주 사이의 크기를 정확하게 결정할 수는 없다 \"매우 그렇지 **않다**\", \"그렇다\", \"매우 그렇다\"를 0,1,2로 코딩할 수 있지만, 이 코딩값의 의미가 \"그렇다\"와 \"매우 그렇지 않다\"의 차이가 1이고, \"매우 그렇다\"와 \"그렇다\"의 차이가 정확하게 1이라는 것을 의미하지 않는다. **순위형**은 이렇게 대소는 분명하지만, 차이의 정도에 대해서는 누구도 알 수 없는 경우이다. 앞에서 사람이 \"매우 그렇다\", \"그렇다\", \"그렇지 않다\"라고 대답하는 경우에 \"매우 그렇다\"와 \"그렇다\", 그리고 \"그렇다\"와 \"그렇지 않다\"의 차이가 정확히 같다고 말하기 힘들다. \n",
    "\n",
    "[^07seoul]: 도시의 크기를 생각하면 서울은 부산보다 크지만 이것이 서울과 부산의 본질적인 의미에 담겨 있지 않다. 서울의 크기는 항상 부산보다 큰가? 미래에도 서울이 부산보다 항상 클 것인가?"
   ]
  },
  {
   "cell_type": "markdown",
   "id": "81239995",
   "metadata": {},
   "source": [
    "#### 범주형 배열"
   ]
  },
  {
   "cell_type": "markdown",
   "id": "b9c866f8",
   "metadata": {},
   "source": [
    "범주형 데이터를 생성하는 방법은 다음과 같다. 먼저 명목형 데이터를 생성하는 방법이다."
   ]
  },
  {
   "cell_type": "code",
   "execution_count": 24,
   "id": "34e7132c",
   "metadata": {},
   "outputs": [
    {
     "data": {
      "text/plain": [
       "['세종', '서울', '부산', '부산', '세종', '서울', '서울']\n",
       "Categories (3, object): ['부산', '서울', '세종']"
      ]
     },
     "execution_count": 24,
     "metadata": {},
     "output_type": "execute_result"
    }
   ],
   "source": [
    "x = pd.Categorical(['세종', '서울', '부산', '부산', '세종', '서울', '서울'])\n",
    "x"
   ]
  },
  {
   "cell_type": "code",
   "execution_count": 25,
   "id": "a8dee888",
   "metadata": {},
   "outputs": [
    {
     "data": {
      "text/plain": [
       "pandas.core.arrays.categorical.Categorical"
      ]
     },
     "execution_count": 25,
     "metadata": {},
     "output_type": "execute_result"
    }
   ],
   "source": [
    "type(x)"
   ]
  },
  {
   "cell_type": "markdown",
   "id": "0ac2ce17",
   "metadata": {},
   "source": [
    "이렇게 생성된 범주형 배열[^cat_array]은 속성 `.categories`, `.ordered`, `.codes`로 가능한 범주, 범주형의 일종인 순위형인지, 그리고 내부에 값이 어떻게 저장되는지를 확인할 수 있다.\n",
    "\n",
    "[^cat_array]: `type()`의 결과 pandas.core.**arrays**.categorical.Categorical로 출력되므로 범주형 배열이라고 부르겠다."
   ]
  },
  {
   "cell_type": "code",
   "execution_count": 26,
   "id": "3dac03be",
   "metadata": {},
   "outputs": [
    {
     "data": {
      "text/plain": [
       "(Index(['부산', '서울', '세종'], dtype='object'),\n",
       " False,\n",
       " array([2, 1, 0, 0, 2, 1, 1], dtype=int8))"
      ]
     },
     "execution_count": 26,
     "metadata": {},
     "output_type": "execute_result"
    }
   ],
   "source": [
    "x.categories, x.ordered, x.codes"
   ]
  },
  {
   "cell_type": "markdown",
   "id": "ababf9ea",
   "metadata": {},
   "source": [
    "순위형 배열은 다음과 같이 만들 수 있다. 순위형에서는 자료에서 범주의 순위를 확인하기 힘들기 때문에 범주의 순위대로 `categories=`를 설정하고, `ordered=True`로 지정한다. "
   ]
  },
  {
   "cell_type": "code",
   "execution_count": 27,
   "id": "d612b3c1",
   "metadata": {},
   "outputs": [
    {
     "data": {
      "text/plain": [
       "['매우 그렇다', '그렇다', '그렇지 않다', '그렇지 않다', '그렇다']\n",
       "Categories (3, object): ['그렇지 않다' < '그렇다' < '매우 그렇다']"
      ]
     },
     "execution_count": 27,
     "metadata": {},
     "output_type": "execute_result"
    }
   ],
   "source": [
    "y = pd.Categorical(['매우 그렇다', '그렇다', '그렇지 않다', '그렇지 않다', '그렇다'],\n",
    "                  categories=['그렇지 않다', '그렇다', '매우 그렇다'],\n",
    "                  ordered = True)\n",
    "y"
   ]
  },
  {
   "cell_type": "code",
   "execution_count": 28,
   "id": "97106d53",
   "metadata": {},
   "outputs": [
    {
     "data": {
      "text/plain": [
       "(Index(['그렇지 않다', '그렇다', '매우 그렇다'], dtype='object'),\n",
       " True,\n",
       " array([2, 1, 0, 0, 1], dtype=int8))"
      ]
     },
     "execution_count": 28,
     "metadata": {},
     "output_type": "execute_result"
    }
   ],
   "source": [
    "y.categories, y.ordered, y.codes"
   ]
  },
  {
   "cell_type": "markdown",
   "id": "43aa3025",
   "metadata": {},
   "source": [
    "순위형에서는 자료 사이의 대소를 확인할 수 있고, 대소를 통해 계산할 수 있는 메쏘드(`.min()`, `.max()`)를 지원한다."
   ]
  },
  {
   "cell_type": "code",
   "execution_count": 29,
   "id": "e9cbd4eb",
   "metadata": {},
   "outputs": [
    {
     "data": {
      "text/plain": [
       "('그렇지 않다', '매우 그렇다')"
      ]
     },
     "execution_count": 29,
     "metadata": {},
     "output_type": "execute_result"
    }
   ],
   "source": [
    "y.min(), y.max()"
   ]
  },
  {
   "cell_type": "markdown",
   "id": "f87c42ab",
   "metadata": {},
   "source": [
    "반면 명목형 배열에는 `.min()` 또는 `.max()`를 쓸 수 없다."
   ]
  },
  {
   "cell_type": "code",
   "execution_count": 30,
   "id": "c678492b",
   "metadata": {},
   "outputs": [
    {
     "name": "stdout",
     "output_type": "stream",
     "text": [
      "Categorical is not ordered for operation min\n",
      "you can use .as_ordered() to change the Categorical to an ordered one\n",
      "\n"
     ]
    }
   ],
   "source": [
    "#% eval=FALSE\n",
    "try:\n",
    "    x.min(), x.max()\n",
    "except Exception as e:\n",
    "    print(e)\n",
    "## TypeError: Categorical is not ordered for operation min\n",
    "## you can use .as_ordered() to change the Categorical to an ordered one"
   ]
  },
  {
   "cell_type": "markdown",
   "id": "c92a13b3",
   "metadata": {},
   "source": [
    "만약 명목형 자료를 순위형으로 변환하고자 한다면, `.as_ordered()` 메쏘드를 사용할 수 있다."
   ]
  },
  {
   "cell_type": "code",
   "execution_count": 31,
   "id": "10d895cc",
   "metadata": {},
   "outputs": [
    {
     "data": {
      "text/plain": [
       "['세종', '서울', '부산', '부산', '세종', '서울', '서울']\n",
       "Categories (3, object): ['부산' < '서울' < '세종']"
      ]
     },
     "execution_count": 31,
     "metadata": {},
     "output_type": "execute_result"
    }
   ],
   "source": [
    "x.as_ordered()"
   ]
  },
  {
   "cell_type": "markdown",
   "id": "8613d156",
   "metadata": {},
   "source": [
    "이때 범주 순위를 결정하기 위해서는 `.reorder_categories()`를 사용할 필요가 있다."
   ]
  },
  {
   "cell_type": "code",
   "execution_count": 32,
   "id": "74c0db21",
   "metadata": {},
   "outputs": [
    {
     "data": {
      "text/plain": [
       "['세종', '서울', '부산', '부산', '세종', '서울', '서울']\n",
       "Categories (3, object): ['부산' < '세종' < '서울']"
      ]
     },
     "execution_count": 32,
     "metadata": {},
     "output_type": "execute_result"
    }
   ],
   "source": [
    "x = x.as_ordered().reorder_categories(['부산', '세종', '서울'])\n",
    "x"
   ]
  },
  {
   "cell_type": "markdown",
   "id": "7923e42e",
   "metadata": {},
   "source": [
    "만약 순위형을 범주형으로 변환하고자 한다면 `.as_unordered()`를 사용한다."
   ]
  },
  {
   "cell_type": "code",
   "execution_count": 33,
   "id": "6d826a57",
   "metadata": {},
   "outputs": [
    {
     "data": {
      "text/plain": [
       "['세종', '서울', '부산', '부산', '세종', '서울', '서울']\n",
       "Categories (3, object): ['부산', '세종', '서울']"
      ]
     },
     "execution_count": 33,
     "metadata": {},
     "output_type": "execute_result"
    }
   ],
   "source": [
    "x.as_unordered()"
   ]
  },
  {
   "cell_type": "markdown",
   "id": "ba2a4ba0",
   "metadata": {},
   "source": [
    "##### 명목(Nominal)형 배열와 순위(Ordinal)형 배열의 생성/확인/변환"
   ]
  },
  {
   "cell_type": "markdown",
   "id": "a1379103",
   "metadata": {},
   "source": [
    "변수가 `x`일 때, \n",
    "\n",
    "|         | 명목형(Nominal)  | 순위형(Ordinal)  |\n",
    "|:---|:---------|:---------|\n",
    "|  생성    | `pd.Categorical([...], categories=[...])`| `pd.Categorical([...], categories=[...], ordered=True)` |\n",
    "|  확인    | `isinstance(x, pd.Categorical) and not x.ordered`    | `isinstance(x, pd.Categorical) and x.ordered` |\n",
    "|  변환(~으로)    | `x.as_unordered()` | `x.as_ordered().reorder_categories([...])`|"
   ]
  },
  {
   "cell_type": "markdown",
   "id": "d69969a4",
   "metadata": {},
   "source": [
    "### 범주형 시리즈 "
   ]
  },
  {
   "cell_type": "markdown",
   "id": "cc52567d",
   "metadata": {},
   "source": [
    "* 명목형\n",
    "```\n",
    "pd.Series([...],\n",
    "          index = [...],\n",
    "          dtype='category')\n",
    "```\n",
    "* 순위형\n",
    "```\n",
    "pd.Series([...],\n",
    "          index = [...],\n",
    "          dtype=CategoricalDtype(categories = ,\n",
    "                                 ordered = True))\n",
    "```\n"
   ]
  },
  {
   "cell_type": "markdown",
   "id": "f9464024",
   "metadata": {},
   "source": [
    "판다스 시리즈는 넘파이 배열과 인덱스를 합쳐 놓은 데이터 형태이다."
   ]
  },
  {
   "cell_type": "code",
   "execution_count": 34,
   "id": "e32204d5",
   "metadata": {},
   "outputs": [
    {
     "data": {
      "text/plain": [
       "a    세종\n",
       "b    서울\n",
       "c    부산\n",
       "d    부산\n",
       "e    세종\n",
       "f    서울\n",
       "g    서울\n",
       "dtype: category\n",
       "Categories (3, object): ['부산' < '세종' < '서울']"
      ]
     },
     "execution_count": 34,
     "metadata": {},
     "output_type": "execute_result"
    }
   ],
   "source": [
    "s = pd.Series(x, index = ['a', 'b', 'c', 'd', 'e', 'f', 'g'])\n",
    "s"
   ]
  },
  {
   "cell_type": "markdown",
   "id": "68bc468b",
   "metadata": {},
   "source": [
    "위의 출력을 보자. 위의 `a`, `b`, `c` 등은 인덱스를 나타내고, 오른쪽은 값(`서울`, `세종` 등)을 나타낸다. `dtype:`은 자료형을 나타낸다. 그 아래 `Categories`는 범주 목록과 순위 관계를 보여준다."
   ]
  },
  {
   "cell_type": "markdown",
   "id": "c4274e6f",
   "metadata": {},
   "source": [
    "데이터 타입이 범주형(명목형 또는 순위형)인 판다스 시리즈는 여러 가지 방식으로 생성할 수 있다. "
   ]
  },
  {
   "cell_type": "markdown",
   "id": "dab517ab",
   "metadata": {},
   "source": [
    "먼저 명목형을 보자. 앞에서 설명한 `pd.Categorical()`로 범주형 배열을 생성한 후, `pd.Series()`로 판다스 시리즈로 변환하면 범주형 시리즈가 된다."
   ]
  },
  {
   "cell_type": "code",
   "execution_count": 35,
   "id": "bc166c7d",
   "metadata": {},
   "outputs": [
    {
     "data": {
      "text/plain": [
       "0    Alpha\n",
       "1     Beta\n",
       "2    Alpha\n",
       "3      NaN\n",
       "4      NaN\n",
       "dtype: category\n",
       "Categories (2, object): ['Alpha', 'Beta']"
      ]
     },
     "execution_count": 35,
     "metadata": {},
     "output_type": "execute_result"
    }
   ],
   "source": [
    "pd.Series(\n",
    "    pd.Categorical(['Alpha', 'Beta', 'Alpha', np.nan, None])\n",
    ")"
   ]
  },
  {
   "cell_type": "markdown",
   "id": "ebdf9876",
   "metadata": {},
   "source": [
    "리스트에서 바로 범주형 시리즈를 만들 수도 있다. 이때 `dtype='category'`을 써서 범주형 데이터라는 것을 명시해 줘야 한다. (`dtype=`을 생략하면 `dtype = 'object'`가 된다.)"
   ]
  },
  {
   "cell_type": "code",
   "execution_count": 36,
   "id": "e0221504",
   "metadata": {},
   "outputs": [
    {
     "data": {
      "text/plain": [
       "a    Alpha\n",
       "b     Beta\n",
       "c    Alpha\n",
       "d      NaN\n",
       "e      NaN\n",
       "dtype: category\n",
       "Categories (2, object): ['Alpha', 'Beta']"
      ]
     },
     "execution_count": 36,
     "metadata": {},
     "output_type": "execute_result"
    }
   ],
   "source": [
    "pd.Series(['Alpha', 'Beta', 'Alpha', np.nan, None], \n",
    "          dtype='category', \n",
    "          index=list('abcde'))"
   ]
  },
  {
   "cell_type": "markdown",
   "id": "250e7957",
   "metadata": {},
   "source": [
    "순위형을 생성하고자 한다면 3장에서 소개했던 방법이 편하다."
   ]
  },
  {
   "cell_type": "code",
   "execution_count": 39,
   "id": "d5ab52b6",
   "metadata": {},
   "outputs": [
    {
     "data": {
      "text/plain": [
       "a    Alpha\n",
       "b     Beta\n",
       "c    Alpha\n",
       "d      NaN\n",
       "e      NaN\n",
       "dtype: category\n",
       "Categories (3, object): ['Charley' < 'Beta' < 'Alpha']"
      ]
     },
     "execution_count": 39,
     "metadata": {},
     "output_type": "execute_result"
    }
   ],
   "source": [
    "# 3장에서 정의된 ordered()\n",
    "#def ordered(categories):\n",
    "#    #print(categories)\n",
    "#    from pandas.api.types import CategoricalDtype\n",
    "#    return CategoricalDtype(categories=categories, ordered=True)\n",
    "# from mypack.utils import ordered\n",
    "def ordered(categories):\n",
    "    #print(categories)\n",
    "    from pandas.api.types import CategoricalDtype\n",
    "    return CategoricalDtype(categories=categories, ordered=True)\n",
    "\n",
    "def unordered(categories):\n",
    "    from pandas.api.types import CategoricalDtype\n",
    "    return CategoricalDtype(categories=categories, ordered=False)  \n",
    "\n",
    "pd.Series(['Alpha', 'Beta', 'Alpha', np.nan, None],\n",
    "          dtype=ordered(['Charley', 'Beta', 'Alpha']),\n",
    "          index=list('abcde'))"
   ]
  },
  {
   "cell_type": "markdown",
   "id": "004fe20f",
   "metadata": {},
   "source": [
    "`pandas` 공식 문서에서는 다음과 같은 방법을 제시한다."
   ]
  },
  {
   "cell_type": "code",
   "execution_count": 40,
   "id": "d9efaa95",
   "metadata": {},
   "outputs": [
    {
     "data": {
      "text/plain": [
       "a    Alpha\n",
       "b     Beta\n",
       "c    Alpha\n",
       "d      NaN\n",
       "e      NaN\n",
       "dtype: category\n",
       "Categories (3, object): ['Charley' < 'Beta' < 'Alpha']"
      ]
     },
     "execution_count": 40,
     "metadata": {},
     "output_type": "execute_result"
    }
   ],
   "source": [
    "from pandas.api.types import CategoricalDtype\n",
    "x = pd.Series(['Alpha', 'Beta', 'Alpha', np.nan, None],\n",
    "            dtype=CategoricalDtype(\n",
    "                categories = ['Charley', 'Beta', 'Alpha'],\n",
    "                ordered = True),\n",
    "            index=list('abcde'))\n",
    "x"
   ]
  },
  {
   "cell_type": "markdown",
   "id": "cce2d1f3",
   "metadata": {},
   "source": [
    "`CategoricalDtype(categories = , ordered=True)`가 길어서 기억하기 쉽지 않겠지만 다른 사람의 소스코드를 읽을 때에는 어떤 의미인지 알아둘 필요가 있다."
   ]
  },
  {
   "cell_type": "markdown",
   "id": "ba2d752b",
   "metadata": {},
   "source": [
    "### 범주형데이터의 중요성"
   ]
  },
  {
   "cell_type": "markdown",
   "id": "dd002783",
   "metadata": {},
   "source": [
    "범주형은 데이터 분석에서 중요한 역할을 한다. 특히 어떤 변수가 범주형이냐 연속형이냐에 따라 분석 결과가 판이하게 달라질 수도 있다. 다음의 데이터에서 변수 `x`에는 `1`,`2`,`3` 중 하나의 값이 들어있다. 변수 `x`를 연속형으로 취급할 때와 범주형으로 놓고 분석할 때의 분석 결과를 비교해보자."
   ]
  },
  {
   "cell_type": "code",
   "execution_count": 41,
   "id": "adf41a46",
   "metadata": {},
   "outputs": [],
   "source": [
    "n = 30\n",
    "x = np.random.choice([1,2,3], n) # 1부터 3까지의 정수 중 하나를 무작위로 추출한다(총 30개)."
   ]
  },
  {
   "cell_type": "markdown",
   "id": "4b16ed45",
   "metadata": {},
   "source": [
    "`x`에 대응하는 `y` 값은 다음과 같이 생성된다. 만약 `x`가 1이면 `y`는 평균 -1에 무작위 값이 더해지고, `x`가 2라면 `y`는 평균 -2에 무작위 값이 더해지고, `x`가 3이라면 `y`는 평균 3에 무작위 값이 더해진다."
   ]
  },
  {
   "cell_type": "code",
   "execution_count": 42,
   "id": "9ab63eaa",
   "metadata": {
    "lines_to_next_cell": 2
   },
   "outputs": [],
   "source": [
    "y = np.where(x > 2, x + np.random.normal(0,1,n), np.random.normal(0, 1, n)-x)"
   ]
  },
  {
   "cell_type": "code",
   "execution_count": 43,
   "id": "d3aaccee",
   "metadata": {},
   "outputs": [
    {
     "data": {
      "text/plain": [
       "array([ 3.77614526,  1.71937974, -1.93556426,  3.3238453 , -0.38531752,\n",
       "       -1.1459505 , -1.25488339,  3.57473118,  3.32913427, -2.11770909,\n",
       "        4.02075579, -1.79161954,  3.36836575, -2.0688777 , -1.5966342 ,\n",
       "        1.98594751, -2.73578226, -1.03245001, -0.7875549 ,  4.2484404 ,\n",
       "       -1.65040991, -1.40775312, -2.07659718,  3.2346213 , -1.34777898,\n",
       "       -1.8081728 ,  2.27047232, -1.83232821, -3.26982511, -2.18932157])"
      ]
     },
     "execution_count": 43,
     "metadata": {},
     "output_type": "execute_result"
    }
   ],
   "source": [
    "y"
   ]
  },
  {
   "cell_type": "code",
   "execution_count": 44,
   "id": "405cfffa",
   "metadata": {},
   "outputs": [],
   "source": [
    "dat = pd.DataFrame({'x':x, 'y':y})\n",
    "# x, y로 구성된 데이터프레임을 만든다."
   ]
  },
  {
   "cell_type": "markdown",
   "id": "45effeed",
   "metadata": {},
   "source": [
    "우선 데이터를 시각화 보면 다음과 같다."
   ]
  },
  {
   "cell_type": "code",
   "execution_count": 45,
   "id": "3173248c",
   "metadata": {},
   "outputs": [],
   "source": [
    "import seaborn as sns\n",
    "sns.set_theme(context=\"poster\")"
   ]
  },
  {
   "cell_type": "code",
   "execution_count": 46,
   "id": "910d1dbc",
   "metadata": {},
   "outputs": [
    {
     "data": {
      "text/plain": [
       "<seaborn.axisgrid.FacetGrid at 0x1112872b0>"
      ]
     },
     "execution_count": 46,
     "metadata": {},
     "output_type": "execute_result"
    },
    {
     "data": {
      "image/png": "[encoded data removed]",
      "text/plain": [
       "<Figure size 500x500 with 1 Axes>"
      ]
     },
     "metadata": {},
     "output_type": "display_data"
    }
   ],
   "source": [
    "sns.relplot(x='x', y='y', kind='scatter', data=dat)"
   ]
  },
  {
   "cell_type": "code",
   "execution_count": 47,
   "id": "548abfc2",
   "metadata": {},
   "outputs": [
    {
     "data": {
      "text/plain": [
       "<seaborn.axisgrid.FacetGrid at 0x283380580>"
      ]
     },
     "execution_count": 47,
     "metadata": {},
     "output_type": "execute_result"
    },
    {
     "data": {
      "image/png": "[encoded data removed]",
      "text/plain": [
       "<Figure size 500x500 with 1 Axes>"
      ]
     },
     "metadata": {},
     "output_type": "display_data"
    }
   ],
   "source": [
    "sns.catplot(x='x', y='y', data=dat, kind='box', width=0.3)"
   ]
  },
  {
   "cell_type": "markdown",
   "id": "60b5be5e",
   "metadata": {},
   "source": [
    "이제 변수 `x`를 연속형으로 취급하면서 회귀분석을 해보자."
   ]
  },
  {
   "cell_type": "code",
   "execution_count": 48,
   "id": "94da73d6",
   "metadata": {},
   "outputs": [],
   "source": [
    "from statsmodels.formula.api import ols"
   ]
  },
  {
   "cell_type": "code",
   "execution_count": 49,
   "id": "318daaf0",
   "metadata": {},
   "outputs": [
    {
     "name": "stdout",
     "output_type": "stream",
     "text": [
      "                            OLS Regression Results                            \n",
      "==============================================================================\n",
      "Dep. Variable:                      y   R-squared:                       0.660\n",
      "Model:                            OLS   Adj. R-squared:                  0.648\n",
      "Method:                 Least Squares   F-statistic:                     54.28\n",
      "Date:                Sun, 22 Oct 2023   Prob (F-statistic):           5.06e-08\n",
      "Time:                        18:32:32   Log-Likelihood:                -53.316\n",
      "No. Observations:                  30   AIC:                             110.6\n",
      "Df Residuals:                      28   BIC:                             113.4\n",
      "Df Model:                           1                                         \n",
      "Covariance Type:            nonrobust                                         \n",
      "==============================================================================\n",
      "                 coef    std err          t      P>|t|      [0.025      0.975]\n",
      "------------------------------------------------------------------------------\n",
      "Intercept     -5.2182      0.768     -6.791      0.000      -6.792      -3.644\n",
      "x              2.5232      0.342      7.367      0.000       1.822       3.225\n",
      "==============================================================================\n",
      "Omnibus:                       11.415   Durbin-Watson:                   2.012\n",
      "Prob(Omnibus):                  0.003   Jarque-Bera (JB):                2.542\n",
      "Skew:                          -0.125   Prob(JB):                        0.281\n",
      "Kurtosis:                       1.596   Cond. No.                         7.51\n",
      "==============================================================================\n",
      "\n",
      "Notes:\n",
      "[1] Standard Errors assume that the covariance matrix of the errors is correctly specified.\n"
     ]
    }
   ],
   "source": [
    "mod = ols(\"y ~ x\", data = dat)\n",
    "res = mod.fit()\n",
    "print(res.summary())"
   ]
  },
  {
   "cell_type": "markdown",
   "id": "acc12e54",
   "metadata": {},
   "source": [
    "분석결과에 따르면 `x`가 1 증가할 때, y의 평균은 `2`가 증가하는 것으로 나온다."
   ]
  },
  {
   "cell_type": "markdown",
   "id": "61ad3235",
   "metadata": {},
   "source": [
    "만약 변수 `x`를 범주형으로 취급한다면(아래 `C(x)`는 **C**ategorical의 **C**인 듯 하다) 분석 결과는 다음과 같다."
   ]
  },
  {
   "cell_type": "code",
   "execution_count": 50,
   "id": "c3956605",
   "metadata": {},
   "outputs": [
    {
     "name": "stdout",
     "output_type": "stream",
     "text": [
      "                            OLS Regression Results                            \n",
      "==============================================================================\n",
      "Dep. Variable:                      y   R-squared:                       0.919\n",
      "Model:                            OLS   Adj. R-squared:                  0.913\n",
      "Method:                 Least Squares   F-statistic:                     153.1\n",
      "Date:                Sun, 22 Oct 2023   Prob (F-statistic):           1.86e-15\n",
      "Time:                        18:32:38   Log-Likelihood:                -31.795\n",
      "No. Observations:                  30   AIC:                             69.59\n",
      "Df Residuals:                      27   BIC:                             73.79\n",
      "Df Model:                           2                                         \n",
      "Covariance Type:            nonrobust                                         \n",
      "==============================================================================\n",
      "                 coef    std err          t      P>|t|      [0.025      0.975]\n",
      "------------------------------------------------------------------------------\n",
      "Intercept     -1.5718      0.260     -6.040      0.000      -2.106      -1.038\n",
      "C(x)[T.2]     -0.2336      0.342     -0.683      0.500      -0.935       0.468\n",
      "C(x)[T.3]      4.7402      0.342     13.859      0.000       4.038       5.442\n",
      "==============================================================================\n",
      "Omnibus:                        2.657   Durbin-Watson:                   1.483\n",
      "Prob(Omnibus):                  0.265   Jarque-Bera (JB):                1.987\n",
      "Skew:                          -0.630   Prob(JB):                        0.370\n",
      "Kurtosis:                       2.940   Cond. No.                         4.13\n",
      "==============================================================================\n",
      "\n",
      "Notes:\n",
      "[1] Standard Errors assume that the covariance matrix of the errors is correctly specified.\n"
     ]
    }
   ],
   "source": [
    "mod = ols(\"y ~ C(x)\", data = dat)\n",
    "res = mod.fit()\n",
    "print(res.summary())"
   ]
  },
  {
   "cell_type": "markdown",
   "id": "78eb6215",
   "metadata": {},
   "source": [
    "범주 `1`에서 범주 `2`로 바뀔 때 예상되는 `y` 평균의 감소는 1, 범주 `1`에서 범주 `3`으로 바뀔 때 예상되는 `y`의 평균 증가는 4로 추정되었다. 위의 분석결과와 어떻게 다른지 생각해보자. 만약 `x`가 이미 범주형이라면면 `C(x)`로 쓰지 않아도 된다는 점이 편하다."
   ]
  },
  {
   "cell_type": "code",
   "execution_count": 51,
   "id": "995362ed",
   "metadata": {},
   "outputs": [],
   "source": [
    "#dat = pd.DataFrame({'x2':pd.Categorical(x), 'y':y})\n",
    "dat['x2'] = pd.Categorical(dat['x'])"
   ]
  },
  {
   "cell_type": "code",
   "execution_count": 52,
   "id": "d3212156",
   "metadata": {},
   "outputs": [
    {
     "name": "stdout",
     "output_type": "stream",
     "text": [
      "                            OLS Regression Results                            \n",
      "==============================================================================\n",
      "Dep. Variable:                      y   R-squared:                       0.919\n",
      "Model:                            OLS   Adj. R-squared:                  0.913\n",
      "Method:                 Least Squares   F-statistic:                     153.1\n",
      "Date:                Sun, 22 Oct 2023   Prob (F-statistic):           1.86e-15\n",
      "Time:                        18:32:40   Log-Likelihood:                -31.795\n",
      "No. Observations:                  30   AIC:                             69.59\n",
      "Df Residuals:                      27   BIC:                             73.79\n",
      "Df Model:                           2                                         \n",
      "Covariance Type:            nonrobust                                         \n",
      "==============================================================================\n",
      "                 coef    std err          t      P>|t|      [0.025      0.975]\n",
      "------------------------------------------------------------------------------\n",
      "Intercept     -1.5718      0.260     -6.040      0.000      -2.106      -1.038\n",
      "x2[T.2]       -0.2336      0.342     -0.683      0.500      -0.935       0.468\n",
      "x2[T.3]        4.7402      0.342     13.859      0.000       4.038       5.442\n",
      "==============================================================================\n",
      "Omnibus:                        2.657   Durbin-Watson:                   1.483\n",
      "Prob(Omnibus):                  0.265   Jarque-Bera (JB):                1.987\n",
      "Skew:                          -0.630   Prob(JB):                        0.370\n",
      "Kurtosis:                       2.940   Cond. No.                         4.13\n",
      "==============================================================================\n",
      "\n",
      "Notes:\n",
      "[1] Standard Errors assume that the covariance matrix of the errors is correctly specified.\n"
     ]
    }
   ],
   "source": [
    "mod = ols(\"y ~ x2\", data = dat)\n",
    "res = mod.fit()\n",
    "print(res.summary())"
   ]
  },
  {
   "cell_type": "markdown",
   "id": "2f42f6f5",
   "metadata": {},
   "source": [
    "## 범주형 데이터에 대한 전처리 {#sec:preprocess-cat}"
   ]
  },
  {
   "cell_type": "markdown",
   "id": "2777da2a",
   "metadata": {},
   "source": [
    "###  범주형 데이터 다루기 {#subsec:dealing-cat-toc}"
   ]
  },
  {
   "cell_type": "markdown",
   "id": "29782e97",
   "metadata": {},
   "source": [
    "\n",
    "\n",
    "1. 범주 추가하기 : `.add_categories()`\n",
    "2. 범주 삭제하기 : `.remove_categories()`, `.remove_unused_categories()`\n",
    "3. 범주 이름 바꾸기 : `.rename_categories()`\n",
    "4. 범주 순서 바꾸기 : `.reorder_categories()`, `.set_categories()`\n",
    "5. 범주 합치기 : `from mypack.utils`, `cat_combine()`, `cat_collapse()`, `cat_collapse_cum()`\n"
   ]
  },
  {
   "cell_type": "markdown",
   "id": "4a07f6ba",
   "metadata": {},
   "source": [
    "### 범주 추가 {#subsec:cat-add}"
   ]
  },
  {
   "cell_type": "markdown",
   "id": "8369348f",
   "metadata": {},
   "source": [
    "먼저 메쏘드 이름에서 그 기능을 충분히 유추할 수 있는 경우부터 살펴보자. 범주를 추가하거나(`.add_categories()`), 범주를 삭제하고(`.remove_categories()`), 사용되지 않는 범주를 삭제하는(`.remove_unused_categories()`)는 메쏘드를 사용해보자.\n",
    "\n",
    "이때 `type()`이 `pd.Series`인 경우는 `.cat`을 중간에 추가에 해야 하는 점을 잊지 말자."
   ]
  },
  {
   "cell_type": "code",
   "execution_count": 56,
   "id": "c5d37bbc",
   "metadata": {},
   "outputs": [
    {
     "data": {
      "text/plain": [
       "(['b', 'a', 'b', 'b']\n",
       " Categories (3, object): ['a', 'b', 'c'],\n",
       " 0    b\n",
       " 1    a\n",
       " 2    b\n",
       " 3    b\n",
       " dtype: category\n",
       " Categories (3, object): ['a', 'b', 'c'])"
      ]
     },
     "execution_count": 56,
     "metadata": {},
     "output_type": "execute_result"
    }
   ],
   "source": [
    "#from mypack.utils import ordered\n",
    "#from mypack.utils import unordered\n",
    "\n",
    "# x = pd.Categorical(['b', 'a', 'b', 'b'], dtype=CategoricalDtype(['a', 'b', 'c'], False))\n",
    "x = pd.Categorical(['b', 'a', 'b', 'b'], dtype=unordered(['a', 'b', 'c']))\n",
    "# y = pd.Series(['b', 'a', 'b', 'b'], dtype=CategoricalDtype(['a', 'b', 'c'], False))\n",
    "y = pd.Series(['b', 'a', 'b', 'b'], dtype=unordered(['a', 'b', 'c']))\n",
    "x, y"
   ]
  },
  {
   "cell_type": "code",
   "execution_count": 57,
   "id": "b7c9542d",
   "metadata": {},
   "outputs": [
    {
     "data": {
      "text/plain": [
       "['b', 'a', 'b', 'b']\n",
       "Categories (5, object): ['a', 'b', 'c', 'd', 'e']"
      ]
     },
     "execution_count": 57,
     "metadata": {},
     "output_type": "execute_result"
    }
   ],
   "source": [
    "x2 = x.add_categories(['d', 'e'])\n",
    "x2"
   ]
  },
  {
   "cell_type": "code",
   "execution_count": 58,
   "id": "cb42eb35",
   "metadata": {},
   "outputs": [
    {
     "name": "stdout",
     "output_type": "stream",
     "text": [
      "AttributeError: 'Series' object has no attribute 'add_categories'\n"
     ]
    }
   ],
   "source": [
    "#% eval=FALSE\n",
    "try:\n",
    "    y.add_categories(['d', 'e'])\n",
    "except Exception as e:\n",
    "    print(f\"{type(e).__name__}: {e}\")\n",
    "## AttributeError: 'Series' object has no attribute 'add_categories'"
   ]
  },
  {
   "cell_type": "markdown",
   "id": "7182097b",
   "metadata": {},
   "source": [
    "`pd.Categorical()`에도 사용 가능하고 `pd.Series()`에 대해서도 dtype이 범주형이라면 `.cat`을 통해 사용가능하다."
   ]
  },
  {
   "cell_type": "code",
   "execution_count": 59,
   "id": "6fdd8d0c",
   "metadata": {},
   "outputs": [
    {
     "data": {
      "text/plain": [
       "0    b\n",
       "1    a\n",
       "2    b\n",
       "3    b\n",
       "dtype: category\n",
       "Categories (5, object): ['a', 'b', 'c', 'd', 'e']"
      ]
     },
     "execution_count": 59,
     "metadata": {},
     "output_type": "execute_result"
    }
   ],
   "source": [
    "y2 = y.cat.add_categories(['d', 'e'])\n",
    "y2"
   ]
  },
  {
   "cell_type": "markdown",
   "id": "55435b0b",
   "metadata": {},
   "source": [
    "### 범주 삭제 {#subsec:cat-remove}"
   ]
  },
  {
   "cell_type": "markdown",
   "id": "2c4c8186",
   "metadata": {},
   "source": [
    "추가를 했으니 다시 삭제해보자."
   ]
  },
  {
   "cell_type": "code",
   "execution_count": 60,
   "id": "1a443596",
   "metadata": {},
   "outputs": [
    {
     "data": {
      "text/plain": [
       "(['b', 'a', 'b', 'b']\n",
       " Categories (3, object): ['a', 'b', 'c'],\n",
       " 0    b\n",
       " 1    a\n",
       " 2    b\n",
       " 3    b\n",
       " dtype: category\n",
       " Categories (3, object): ['a', 'b', 'c'])"
      ]
     },
     "execution_count": 60,
     "metadata": {},
     "output_type": "execute_result"
    }
   ],
   "source": [
    "x2.remove_categories(['d', 'e']), y2.cat.remove_categories(['d', 'e'])"
   ]
  },
  {
   "cell_type": "markdown",
   "id": "0af86dad",
   "metadata": {},
   "source": [
    "사용되지 않는(데이터에 존재하지 않는) 범주를 모두 삭제하려면 다음과 같다."
   ]
  },
  {
   "cell_type": "code",
   "execution_count": 61,
   "id": "2cd7fa99",
   "metadata": {},
   "outputs": [
    {
     "data": {
      "text/plain": [
       "(['b', 'a', 'b', 'b']\n",
       " Categories (2, object): ['a', 'b'],\n",
       " 0    b\n",
       " 1    a\n",
       " 2    b\n",
       " 3    b\n",
       " dtype: category\n",
       " Categories (2, object): ['a', 'b'])"
      ]
     },
     "execution_count": 61,
     "metadata": {},
     "output_type": "execute_result"
    }
   ],
   "source": [
    "x.remove_unused_categories(), \\\n",
    "y.cat.remove_unused_categories()"
   ]
  },
  {
   "cell_type": "markdown",
   "id": "11ee2941",
   "metadata": {},
   "source": [
    "### 범주 이름 바꾸기 {#subsec:cat-rename}"
   ]
  },
  {
   "cell_type": "markdown",
   "id": "ddd8328e",
   "metadata": {},
   "source": [
    "범주 이름을 바꿀 때는 딕셔너리를 사용해서 바꾸기 전 이름과 바뀐 후 이름을 대응해 준다. 'a'를 'Alpha', 'b'를 'Big'으로 바꿔보자."
   ]
  },
  {
   "cell_type": "code",
   "execution_count": 62,
   "id": "389bf8c7",
   "metadata": {},
   "outputs": [
    {
     "data": {
      "text/plain": [
       "(['Beta', 'Alpha', 'Beta', 'Beta']\n",
       " Categories (3, object): ['Alpha', 'Beta', 'c'],\n",
       " 0     Beta\n",
       " 1    Alpha\n",
       " 2     Beta\n",
       " 3     Beta\n",
       " dtype: category\n",
       " Categories (3, object): ['Alpha', 'Beta', 'c'])"
      ]
     },
     "execution_count": 62,
     "metadata": {},
     "output_type": "execute_result"
    }
   ],
   "source": [
    "x.rename_categories({'a':'Alpha', 'b':'Beta'}), \\\n",
    "y.cat.rename_categories({'a':'Alpha', 'b':'Beta'})"
   ]
  },
  {
   "cell_type": "markdown",
   "id": "8a6d25e0",
   "metadata": {},
   "source": [
    "모든 범주 이름을 바꾸려면 다음과 같이 새로운 범주 이름만 리스트로 제공해도 된다."
   ]
  },
  {
   "cell_type": "code",
   "execution_count": 63,
   "id": "e12cad37",
   "metadata": {},
   "outputs": [
    {
     "data": {
      "text/plain": [
       "(['Beta', 'Alpha', 'Beta', 'Beta']\n",
       " Categories (3, object): ['Alpha', 'Beta', 'Charley'],\n",
       " 0     Beta\n",
       " 1    Alpha\n",
       " 2     Beta\n",
       " 3     Beta\n",
       " dtype: category\n",
       " Categories (3, object): ['Alpha', 'Beta', 'c'])"
      ]
     },
     "execution_count": 63,
     "metadata": {},
     "output_type": "execute_result"
    }
   ],
   "source": [
    "x.rename_categories(['Alpha', 'Beta', 'Charley']), \\\n",
    "y.cat.rename_categories({'a':'Alpha', 'b':'Beta'})"
   ]
  },
  {
   "cell_type": "markdown",
   "id": "116fd4c4",
   "metadata": {},
   "source": [
    "### 범주 순서 바꾸기 {#subsec:cat-reorder}"
   ]
  },
  {
   "cell_type": "markdown",
   "id": "8cf13878",
   "metadata": {},
   "source": [
    "범주의 순서를 바꾸기 위해서는 `.reorder_categories()`와 `.set_categories()`를 사용할 수 있다. `.reorder_categories()`의 경우 기존의 범주를 재배치(`reorder`)하여 순서를 결정한다. 기존의 범주가 빠지거나, 새로운 범주가 추가될 수 없다. 반면 `.set_categories()`는 범주를 새롭게 지정하면서 순서까지 바꾼다. 기존의 범주가 빠지거나 새로운 범주가 추가될 수도 있다."
   ]
  },
  {
   "cell_type": "code",
   "execution_count": 64,
   "id": "0acd7c46",
   "metadata": {},
   "outputs": [
    {
     "data": {
      "text/plain": [
       "0    b\n",
       "1    a\n",
       "2    b\n",
       "3    b\n",
       "dtype: category\n",
       "Categories (3, object): ['c', 'b', 'a']"
      ]
     },
     "execution_count": 64,
     "metadata": {},
     "output_type": "execute_result"
    }
   ],
   "source": [
    "x.reorder_categories(['c', 'b', 'a']) # 원래 순서는 ['a', 'b', 'c']\n",
    "y.cat.reorder_categories(['c', 'b', 'a'])"
   ]
  },
  {
   "cell_type": "code",
   "execution_count": 65,
   "id": "f62a3e7b",
   "metadata": {},
   "outputs": [
    {
     "data": {
      "text/plain": [
       "0    b\n",
       "1    a\n",
       "2    b\n",
       "3    b\n",
       "dtype: category\n",
       "Categories (3, object): ['c', 'b', 'a']"
      ]
     },
     "execution_count": 65,
     "metadata": {},
     "output_type": "execute_result"
    }
   ],
   "source": [
    "x.set_categories(['c', 'b', 'a']),\n",
    "y.cat.set_categories(['c', 'b', 'a'])"
   ]
  },
  {
   "cell_type": "markdown",
   "id": "90022e22",
   "metadata": {},
   "source": [
    "이제 범주 `a`를 빼고, `d`를 추가해보자."
   ]
  },
  {
   "cell_type": "code",
   "execution_count": 66,
   "id": "9da22299",
   "metadata": {},
   "outputs": [
    {
     "data": {
      "text/plain": [
       "(['b', NaN, 'b', 'b']\n",
       " Categories (3, object): ['b', 'c', 'd'],\n",
       " 0      b\n",
       " 1    NaN\n",
       " 2      b\n",
       " 3      b\n",
       " dtype: category\n",
       " Categories (3, object): ['b', 'c', 'd'])"
      ]
     },
     "execution_count": 66,
     "metadata": {},
     "output_type": "execute_result"
    }
   ],
   "source": [
    "x.set_categories(['b', 'c', 'd']), \\\n",
    "y.cat.set_categories(['b', 'c', 'd'])"
   ]
  },
  {
   "cell_type": "markdown",
   "id": "390f2361",
   "metadata": {},
   "source": [
    "삭제된 범주였던 곳은 `np.nan`이 되었음을 확인하자."
   ]
  },
  {
   "cell_type": "markdown",
   "id": "9f0c4fe7",
   "metadata": {},
   "source": [
    "범주형 데이터 중 순위형의 일부를 수정하는 방법은 판다스에서 지원하지 않는 것으로 보인다. (!!! 혹시 제3자 패키지라도 발견하게 되면 알려주세요) 다음에서 저자가 만든 함수를 소개한다(`mypack.utils`에 포함되어 있다)."
   ]
  },
  {
   "cell_type": "code",
   "execution_count": 67,
   "id": "b615365e",
   "metadata": {},
   "outputs": [
    {
     "data": {
      "text/plain": [
       "0    a\n",
       "1    b\n",
       "2    3\n",
       "3    4\n",
       "dtype: category\n",
       "Categories (4, object): ['b', 4, 'a', 3]"
      ]
     },
     "execution_count": 67,
     "metadata": {},
     "output_type": "execute_result"
    }
   ],
   "source": [
    "def reorder_cat_partial(x, orders_new):\n",
    "    if isinstance(x, pd.Series):\n",
    "        cat_remains = ~(x.cat.categories.isin(orders_new))\n",
    "        cat_new = x.cat.categories.values.copy()\n",
    "        cat_new[~cat_remains] = orders_new\n",
    "        return x.cat.reorder_categories(cat_new)\n",
    "    elif isinstance(x, pd.Categorical):\n",
    "        cat_remains = ~(x.categories.isin(orders_new))\n",
    "        cat_new = x.categories.values.copy()\n",
    "        cat_new[~cat_remains] = orders_new\n",
    "        return x.reorder_categories(cat_new)\n",
    "\n",
    "x0 = pd.Series(['a', 'b', 3, 4], dtype = 'category')\n",
    "reorder_cat_partial(x0, ['b',3])"
   ]
  },
  {
   "cell_type": "code",
   "execution_count": 68,
   "id": "8448f345",
   "metadata": {},
   "outputs": [
    {
     "data": {
      "text/plain": [
       "0     a\n",
       "1     b\n",
       "2     b\n",
       "3     d\n",
       "4     e\n",
       "5     e\n",
       "6     d\n",
       "7     f\n",
       "8     a\n",
       "9     b\n",
       "10    c\n",
       "11    d\n",
       "12    e\n",
       "13    f\n",
       "dtype: category\n",
       "Categories (6, object): ['a' < 'f' < 'c' < 'b' < 'e' < 'd']"
      ]
     },
     "execution_count": 68,
     "metadata": {},
     "output_type": "execute_result"
    }
   ],
   "source": [
    "x  = pd.Series(list('abbdeedfabcdef'),\n",
    "               dtype = 'category').cat.as_ordered()\n",
    "reorder_cat_partial(x, ['f', 'b', 'd'])"
   ]
  },
  {
   "cell_type": "markdown",
   "id": "7683e78a",
   "metadata": {},
   "source": [
    "### 범주 합치기 {#subsec:cat-combine}"
   ]
  },
  {
   "cell_type": "markdown",
   "id": "97be515a",
   "metadata": {},
   "source": [
    "범주를 합치는 방법은 판다스에서 지원하지 않는 것으로 보인다. (!!! 혹시 제3자 패키지라도 발견하게 되면 알려주세요) 다음에서 저자가 만든 함수를 소개한다."
   ]
  },
  {
   "cell_type": "code",
   "execution_count": 75,
   "id": "bb6cb7fd",
   "metadata": {},
   "outputs": [],
   "source": [
    "#from mypack.utils import cat_combine, cat_collapse, cat_collapse_cum\n",
    "\n",
    "def cat_combine(x, lst_a, b):\n",
    "    typ = type(x)\n",
    "    if isinstance(x, pd.Categorical):\n",
    "        if b not in x.categories:\n",
    "            x2 = pd.Series(x.add_categories(b), index = x.add_categories(b),\n",
    "                          dtype = \"category\")\n",
    "        else:\n",
    "            x2 = pd.Series(x, index = x,\n",
    "                          dtype = \"category\")\n",
    "    elif isinstance(x, pd.Series) and hasattr(x, \"cat\"):\n",
    "        if b not in x.cat.categories:\n",
    "            x2 = x.cat.add_categories(b)\n",
    "            x2.index = x2\n",
    "        else:\n",
    "            x2 = x\n",
    "            x2.index = x2\n",
    "    else:\n",
    "        raise ValueError(\"x should be either pd.Categorical or pd.Series([], dtype='category')\")\n",
    "        \n",
    "    #print(x2)\n",
    "    #print(type(x2))\n",
    "    #print('*'*10)\n",
    "    for cat in lst_a:\n",
    "        x2.loc[cat] = b\n",
    "    \n",
    "    #print(x2.index)\n",
    "    #print(x2)\n",
    "    #print(type(x2))\n",
    "        \n",
    "    return typ(x2.cat.remove_categories(list(set(lst_a)-set([b]))))\n",
    "        \n",
    "\n",
    "def cat_collapse_cum(x, min_freq = None, min_pct = None, others = 'others'):\n",
    "    if min_freq is not None and min_pct is not None:\n",
    "        raise ValueError(\"Only one of min_freq or min_pct should be set\")\n",
    "    if min_freq is None and min_pct is None:\n",
    "        min_pct = 0.01\n",
    "    typ = type(x)\n",
    "    if isinstance(x, pd.Categorical):\n",
    "        if others in x.categories:\n",
    "            raise ValueError(f\"others({others}) already in the categories\")\n",
    "    elif isinstance(x, pd.Series) and hasattr(x, \"cat\"):\n",
    "        if others in x.cat.categories:\n",
    "            raise ValueError(f\"others({others}) already in the categories\")\n",
    "    else:\n",
    "        raise ValueError(\"x should be either pd.Categorical or pd.Series([], dtype='category')\")\n",
    "    \n",
    "    cats = x.value_counts()\n",
    "    cats_sum = cats.sum()\n",
    "    cats_cumsum = cats.sort_values().cumsum()\n",
    "    if min_freq is not None:\n",
    "        cats_below = cats_cumsum < min_freq\n",
    "    else:\n",
    "        cats_below = cats_cumsum/cats_sum < min_pct\n",
    "    cats_remain = set(cats.index) - set(cats[cats_below].index)\n",
    "    if isinstance(x, pd.Categorical):\n",
    "        x2 = x.set_categories(list(cats_remain)+[others])\n",
    "    else:\n",
    "        x2 = x.cat.set_categories(list(cats_remain)+[others])\n",
    "    # x3 = x2.value_counts(dropna = False)\n",
    "    x2[x2.isna()] = others\n",
    "    if isinstance(x, pd.Categorical):\n",
    "        x2 = x2.remove_unused_categories()\n",
    "    else:\n",
    "        x2 = x2.cat.remove_unused_categories()\n",
    "    \n",
    "    return typ(x2)\n",
    "\n",
    "def cat_collapse(x, min_freq = None, min_pct = None, others = 'others'):\n",
    "    if min_freq is not None and min_pct is not None:\n",
    "        raise ValueError(\"Only one of min_freq or min_pct should be set\")\n",
    "    if min_freq is None and min_pct is None:\n",
    "        min_pct = 0.01\n",
    "    typ = type(x)\n",
    "    if isinstance(x, pd.Categorical):\n",
    "        if others in x.categories:\n",
    "            raise ValueError(f\"others({others}) already in the categories\")\n",
    "    elif isinstance(x, pd.Series) and hasattr(x, \"cat\"):\n",
    "        if others in x.cat.categories:\n",
    "            raise ValueError(f\"others({others}) already in the categories\")\n",
    "    else:\n",
    "        raise ValueError(\"x should be either pd.Categorical or pd.Series([], dtype='category')\")\n",
    "    \n",
    "    cats = x.value_counts()\n",
    "    if min_freq is not None:\n",
    "        cats_below = cats < min_freq\n",
    "    else:\n",
    "        cats_below = cats/cats.sum() < min_pct\n",
    "    cats_remain = set(cats.index) - set(cats[cats_below].index)\n",
    "    if isinstance(x, pd.Categorical):\n",
    "        x2 = x.set_categories(list(cats_remain)+[others])\n",
    "    else:\n",
    "        x2 = x.cat.set_categories(list(cats_remain)+[others])\n",
    "    # x3 = x2.value_counts(dropna = False)\n",
    "    x2[x2.isna()] = others\n",
    "    if isinstance(x, pd.Categorical):\n",
    "        x2 = x2.remove_unused_categories()\n",
    "    else:\n",
    "        x2 = x2.cat.remove_unused_categories()\n",
    "    \n",
    "    return typ(x2)"
   ]
  },
  {
   "cell_type": "markdown",
   "id": "e6addfd2",
   "metadata": {},
   "source": [
    "`cat_combine()` 함수는 범주형 데이터에서 2개 이상의 범주를 하나로 합친다. `pd.Categorical()`과 dtype이 `category`인 판다스 시리즈 모두 사용 가능하다."
   ]
  },
  {
   "cell_type": "code",
   "execution_count": 76,
   "id": "4b4c3740",
   "metadata": {},
   "outputs": [],
   "source": [
    "import numpy as np\n",
    "import pandas as pd"
   ]
  },
  {
   "cell_type": "code",
   "execution_count": 77,
   "id": "110984ae",
   "metadata": {},
   "outputs": [
    {
     "data": {
      "text/plain": [
       "a    60\n",
       "b    23\n",
       "c     8\n",
       "e     4\n",
       "d     2\n",
       "g     2\n",
       "f     1\n",
       "Name: count, dtype: int64"
      ]
     },
     "execution_count": 77,
     "metadata": {},
     "output_type": "execute_result"
    }
   ],
   "source": [
    "x0 = np.random.choice(list('abcdefg'), size=100, p=[0.6, 0.18, 0.07, 0.05, 0.05, 0.03, 0.02])\n",
    "\n",
    "x = pd.Categorical(x0)\n",
    "y = pd.Series(x0, dtype='category')\n",
    "\n",
    "y.value_counts()"
   ]
  },
  {
   "cell_type": "code",
   "execution_count": 78,
   "id": "725bc03a",
   "metadata": {},
   "outputs": [
    {
     "data": {
      "text/plain": [
       "0     a\n",
       "1     a\n",
       "2     b\n",
       "3     a\n",
       "4     a\n",
       "     ..\n",
       "95    a\n",
       "96    a\n",
       "97    a\n",
       "98    a\n",
       "99    a\n",
       "Length: 100, dtype: category\n",
       "Categories (7, object): ['a', 'b', 'c', 'd', 'e', 'f', 'g']"
      ]
     },
     "execution_count": 78,
     "metadata": {},
     "output_type": "execute_result"
    }
   ],
   "source": [
    "y"
   ]
  },
  {
   "cell_type": "code",
   "execution_count": 79,
   "id": "b21ac6f7",
   "metadata": {},
   "outputs": [
    {
     "data": {
      "text/plain": [
       "['c', 'c', 'c', 'c', 'c', ..., 'c', 'c', 'c', 'c', 'c']\n",
       "Length: 100\n",
       "Categories (5, object): ['c', 'd', 'e', 'f', 'g']"
      ]
     },
     "execution_count": 79,
     "metadata": {},
     "output_type": "execute_result"
    }
   ],
   "source": [
    "cat_combine(x, ['a', 'b'], 'c')"
   ]
  },
  {
   "cell_type": "code",
   "execution_count": 80,
   "id": "b2ef2b88",
   "metadata": {},
   "outputs": [
    {
     "data": {
      "text/plain": [
       "0     c\n",
       "1     c\n",
       "2     c\n",
       "3     c\n",
       "4     c\n",
       "     ..\n",
       "95    c\n",
       "96    c\n",
       "97    c\n",
       "98    c\n",
       "99    c\n",
       "Length: 100, dtype: category\n",
       "Categories (5, object): ['c', 'd', 'e', 'f', 'g']"
      ]
     },
     "execution_count": 80,
     "metadata": {},
     "output_type": "execute_result"
    }
   ],
   "source": [
    "cat_combine(y, ['a', 'b'], 'c')"
   ]
  },
  {
   "cell_type": "markdown",
   "id": "e9fdad98",
   "metadata": {},
   "source": [
    "`pd.Series`의 메소드 `.replace()`를 활용할 수도 있다"
   ]
  },
  {
   "cell_type": "code",
   "execution_count": 81,
   "id": "625c1b6d",
   "metadata": {},
   "outputs": [
    {
     "data": {
      "text/plain": [
       "0     c\n",
       "1     c\n",
       "2     c\n",
       "3     c\n",
       "4     c\n",
       "     ..\n",
       "95    c\n",
       "96    c\n",
       "97    c\n",
       "98    c\n",
       "99    c\n",
       "Length: 100, dtype: category\n",
       "Categories (5, object): ['c', 'd', 'e', 'f', 'g']"
      ]
     },
     "execution_count": 81,
     "metadata": {},
     "output_type": "execute_result"
    }
   ],
   "source": [
    "pd.Series(x).replace(['a', 'b'], 'c')"
   ]
  },
  {
   "cell_type": "markdown",
   "id": "db8c8826",
   "metadata": {},
   "source": [
    "`cat_collapse(x, min_freq)`와 `cat_collapse(x, min_pct)`은 모두 빈도 또는 비율이 작은 범주를 하나(예. `others`)로 묶어준다."
   ]
  },
  {
   "cell_type": "code",
   "execution_count": 82,
   "id": "c71ed33d",
   "metadata": {},
   "outputs": [
    {
     "data": {
      "text/plain": [
       "<function __main__.cat_collapse(x, min_freq=None, min_pct=None, others='others')>"
      ]
     },
     "execution_count": 82,
     "metadata": {},
     "output_type": "execute_result"
    }
   ],
   "source": [
    "cat_collapse"
   ]
  },
  {
   "cell_type": "code",
   "execution_count": 83,
   "id": "d206b8f0",
   "metadata": {},
   "outputs": [
    {
     "data": {
      "text/plain": [
       "['a', 'a', 'b', 'a', 'a', ..., 'a', 'a', 'a', 'a', 'a']\n",
       "Length: 100\n",
       "Categories (3, object): ['b', 'a', 'insignificant']"
      ]
     },
     "execution_count": 83,
     "metadata": {},
     "output_type": "execute_result"
    }
   ],
   "source": [
    "res1 = cat_collapse(x, min_pct=0.1, others='insignificant')\n",
    "# 0.1보다 작은 비율의 범주는 모두 'insignificant'로 묶는다.\n",
    "res1"
   ]
  },
  {
   "cell_type": "code",
   "execution_count": 84,
   "id": "ac413bb9",
   "metadata": {},
   "outputs": [
    {
     "data": {
      "text/plain": [
       "['a', 'a', 'b', 'a', 'a', ..., 'a', 'a', 'a', 'a', 'a']\n",
       "Length: 100\n",
       "Categories (4, object): ['b', 'a', 'c', '<0.1']"
      ]
     },
     "execution_count": 84,
     "metadata": {},
     "output_type": "execute_result"
    }
   ],
   "source": [
    "res2 = cat_collapse_cum(x, min_pct=0.1, others='<0.1')\n",
    "# 합쳐서 0.1보다 작은 비율의 범주는 모두 '<0.1'로 묶는다.\n",
    "res2"
   ]
  },
  {
   "cell_type": "markdown",
   "id": "e3781cb5",
   "metadata": {},
   "source": [
    "둘의 차이는 다음의 결과에서 확인할 수 있다. 아쉽게도 위의 함수들은 순위형 자료형을 적절하게 처리하지 못한다. 순위형도 명목형으로 취급한다."
   ]
  },
  {
   "cell_type": "code",
   "execution_count": 85,
   "id": "2551a336",
   "metadata": {},
   "outputs": [
    {
     "data": {
      "text/plain": [
       "a    60\n",
       "b    23\n",
       "c     8\n",
       "d     2\n",
       "e     4\n",
       "f     1\n",
       "g     2\n",
       "Name: count, dtype: int64"
      ]
     },
     "execution_count": 85,
     "metadata": {},
     "output_type": "execute_result"
    }
   ],
   "source": [
    "x.value_counts()"
   ]
  },
  {
   "cell_type": "code",
   "execution_count": 86,
   "id": "86ce81bc",
   "metadata": {},
   "outputs": [
    {
     "data": {
      "text/plain": [
       "b                0.23\n",
       "a                0.60\n",
       "insignificant    0.17\n",
       "Name: count, dtype: float64"
      ]
     },
     "execution_count": 86,
     "metadata": {},
     "output_type": "execute_result"
    }
   ],
   "source": [
    "res1.value_counts()/len(res1)"
   ]
  },
  {
   "cell_type": "code",
   "execution_count": 87,
   "id": "2a2e3b42",
   "metadata": {},
   "outputs": [
    {
     "data": {
      "text/plain": [
       "b       0.23\n",
       "a       0.60\n",
       "c       0.08\n",
       "<0.1    0.09\n",
       "Name: count, dtype: float64"
      ]
     },
     "execution_count": 87,
     "metadata": {},
     "output_type": "execute_result"
    }
   ],
   "source": [
    "res2.value_counts()/len(res1)"
   ]
  },
  {
   "cell_type": "markdown",
   "id": "2e5fbe0c",
   "metadata": {},
   "source": [
    "## 고급"
   ]
  },
  {
   "cell_type": "code",
   "execution_count": null,
   "id": "ad0271a9",
   "metadata": {},
   "outputs": [],
   "source": []
  },
  {
   "cell_type": "markdown",
   "id": "2f571b00",
   "metadata": {},
   "source": [
    "### 판다스에서 범주형 데이터 \n",
    "\n",
    "파이썬의 **내장 클래스** 또는 **표준 모듈**에는 범주형 데이터를 위한 클래스가 없다. **넘파이** 배열에서도 범주형을 위한 dtype(데이터타입)을 지원하지 않는다. 하지만 데이터 분석에서 범주형 자료는 자주 쓰인다. 범주형 데이터를 위해 넘파이 배열 또는 판다스 시리즈의 `object` dtype(데이터타입)을 쓰기도 하지만, 몇 가지 단점이 있다. 데이터에 존재하지 않는 범주 정보를 저장할 수 없고, 순위형의 순위 정보도 저장할 수 없다. 그리고 남자, 여자처럼 소수의 범주를 가진 변수를 저장하기 위해서 `object` dtype은 값 하나 당 보통 4바이트가 필요하지만 남자, 여자를 정수 0, 1로 저장하면 1바이트로도 충분하다. 따라서 연산 속도가 느릴 것이라고 예상할 수 있다.\n",
    "\n",
    "판다스에서는 범주형 데이터를 위해 `pd.Categorical()`과 `pd.Series([], dtype='category')`를 지원한다."
   ]
  },
  {
   "cell_type": "markdown",
   "id": "49ac33fb",
   "metadata": {},
   "source": [
    "다음은 동`East`, 서`West`, 남`South`, 북`North`을 범주로 갖는 자료를 `pd.Categorical()`과 `pd.Series()`를 사용하여 객체로 만든다."
   ]
  },
  {
   "cell_type": "code",
   "execution_count": 88,
   "id": "f08979ae",
   "metadata": {},
   "outputs": [
    {
     "data": {
      "text/plain": [
       "['North', 'East', 'West', 'East', 'West']\n",
       "Categories (3, object): ['East', 'North', 'West']"
      ]
     },
     "execution_count": 88,
     "metadata": {},
     "output_type": "execute_result"
    }
   ],
   "source": [
    "zc = pd.Categorical(['North', 'East', 'West', 'East', 'West'])\n",
    "zc"
   ]
  },
  {
   "cell_type": "code",
   "execution_count": 89,
   "id": "5a192ce1",
   "metadata": {},
   "outputs": [
    {
     "data": {
      "text/plain": [
       "0    North\n",
       "1     East\n",
       "2     West\n",
       "3     East\n",
       "4     West\n",
       "dtype: category\n",
       "Categories (3, object): ['East', 'North', 'West']"
      ]
     },
     "execution_count": 89,
     "metadata": {},
     "output_type": "execute_result"
    }
   ],
   "source": [
    "zs = pd.Series(['North', 'East', 'West', 'East', 'West'],\n",
    "               dtype='category')\n",
    "zs"
   ]
  },
  {
   "cell_type": "markdown",
   "id": "f9b4a2f6",
   "metadata": {},
   "source": [
    "일단 `pd.Categorical()`과 `pd.Series([], dtype='category')`의 차이에 알아보자.\n",
    "\n",
    "`type()`과 `.dtype`으로 둘을 비교해보면 다음과 같다."
   ]
  },
  {
   "cell_type": "code",
   "execution_count": 90,
   "id": "2695e63e",
   "metadata": {},
   "outputs": [
    {
     "data": {
      "text/plain": [
       "(pandas.core.arrays.categorical.Categorical,\n",
       " CategoricalDtype(categories=[], ordered=False))"
      ]
     },
     "execution_count": 90,
     "metadata": {},
     "output_type": "execute_result"
    }
   ],
   "source": [
    "x = pd.Categorical([])\n",
    "type(x), x.dtype"
   ]
  },
  {
   "cell_type": "code",
   "execution_count": 91,
   "id": "cdb14c40",
   "metadata": {},
   "outputs": [
    {
     "data": {
      "text/plain": [
       "(pandas.core.series.Series, CategoricalDtype(categories=[], ordered=False))"
      ]
     },
     "execution_count": 91,
     "metadata": {},
     "output_type": "execute_result"
    }
   ],
   "source": [
    "y = pd.Series([], dtype='category')\n",
    "type(y), y.dtype"
   ]
  },
  {
   "cell_type": "markdown",
   "id": "05c23f57",
   "metadata": {},
   "source": [
    "이 둘의 관계는 마치 `np.array()`와 `pd.Series()`의 관계와 비슷하다. 먼저 `.dtype`은 `CategoricalDtype()`으로 동일하다(내용물은 같다고 볼 수 있다).\n",
    "\n",
    "넘파이 배열은 범주형 자료를 지원하지 않기 때문에 판다스에서 새롭게 범주형을 지원하는 새로운 클래스를 만들었다.\n",
    "위의 결과를 보면 클래스는 `pandas.core.arrays.categorical.Categorical`이다. 중간의 `arrays`에서 넘파이 배열(`array`)와의 유사성을 유추해 볼 수 있다. `pd.Categorical()`과 `pd.Series()`의 차이는 배열은 인덱스를 지원하지 않고, `pd.Series()`는 인덱스가 있다는 점이다.\n",
    "\n",
    "`pd.Categorical()`에는 범주형 데이터를 다루는 여러 가지 메소드가 존재한다. 예를 들어 새로운 범주를 추가할 때에는 `.add_categories()` 메소드를 사용한다. 이런 메소드는 `pd.Series()`에서는 `.cat` accesor로 접근할 수 있다.  예를 들어, `x=pd.Categorical()`, `y=pd.Series([], dtype='category')`일 때, `x.add_categories([])`, `y.cat.add_cateogries([])`으로 쓴다."
   ]
  },
  {
   "cell_type": "code",
   "execution_count": null,
   "id": "1f5f2817",
   "metadata": {},
   "outputs": [],
   "source": []
  },
  {
   "cell_type": "markdown",
   "id": "472527e6",
   "metadata": {},
   "source": [
    "마지막으로 `pd.Categorical`과 `pd.Series`는 다음과 같이 서로 변환할 수 있다. \n",
    "* `pd.Series()` : `pd.Categorical`을 `pd.Series`로 변환\n",
    "* `.values` : `pd.Series`를 `pd.Categorical`로 변환"
   ]
  },
  {
   "cell_type": "code",
   "execution_count": 92,
   "id": "be7a5cfd",
   "metadata": {},
   "outputs": [],
   "source": [
    "x = pd.Categorical(['North', 'East', 'West', 'East', 'West'])"
   ]
  },
  {
   "cell_type": "code",
   "execution_count": 93,
   "id": "f09cec75",
   "metadata": {},
   "outputs": [
    {
     "data": {
      "text/plain": [
       "0    North\n",
       "1     East\n",
       "2     West\n",
       "3     East\n",
       "4     West\n",
       "dtype: category\n",
       "Categories (3, object): ['East', 'North', 'West']"
      ]
     },
     "execution_count": 93,
     "metadata": {},
     "output_type": "execute_result"
    }
   ],
   "source": [
    "y = pd.Series(x.copy())\n",
    "# from copy import deepcopy\n",
    "# y = pd.Series(deepcopy(x))\n",
    "y.head()"
   ]
  },
  {
   "cell_type": "code",
   "execution_count": 94,
   "id": "950c83e5",
   "metadata": {},
   "outputs": [
    {
     "data": {
      "text/plain": [
       "['North', 'East', 'West', 'East', 'West']\n",
       "Categories (3, object): ['East', 'North', 'West']"
      ]
     },
     "execution_count": 94,
     "metadata": {},
     "output_type": "execute_result"
    }
   ],
   "source": [
    "# deepcopy(y.values)\n",
    "y.values.copy()"
   ]
  },
  {
   "cell_type": "markdown",
   "id": "fd785c55",
   "metadata": {},
   "source": [
    "만약 위에서처럼 `.copy()`를 쓰지 않으면 다음과 같이 서로 값을 공유하기 때문에 주의할 필요가 있다. 왠만한 경우는 `.copy()`(또는 `deepcopy.copy()`)를 쓰면 혼란의 여지가 별로 없다."
   ]
  },
  {
   "cell_type": "code",
   "execution_count": 95,
   "id": "57a8ed28",
   "metadata": {},
   "outputs": [],
   "source": [
    "y[0] = 'East'"
   ]
  },
  {
   "cell_type": "code",
   "execution_count": 96,
   "id": "044a4ff3",
   "metadata": {},
   "outputs": [
    {
     "data": {
      "text/plain": [
       "['North', 'East', 'West', 'East', 'West']\n",
       "Categories (3, object): ['East', 'North', 'West']"
      ]
     },
     "execution_count": 96,
     "metadata": {},
     "output_type": "execute_result"
    }
   ],
   "source": [
    "x"
   ]
  },
  {
   "cell_type": "code",
   "execution_count": null,
   "id": "710e624f",
   "metadata": {},
   "outputs": [],
   "source": []
  },
  {
   "cell_type": "code",
   "execution_count": null,
   "id": "15364903",
   "metadata": {},
   "outputs": [],
   "source": []
  },
  {
   "cell_type": "markdown",
   "id": "ef9b8a6f",
   "metadata": {},
   "source": [
    "### `pd.Categorical()`"
   ]
  },
  {
   "cell_type": "markdown",
   "id": "d64c3250",
   "metadata": {},
   "source": [
    "`pd.Categorical` 객체를 생성하는 방법은 다음과 같다.[^rpdcategorical]\n",
    "\n",
    "[^rpdcategorical]: 이는 R에서 `x <- factor(c('Alpha', 'Beta', 'Alpha', 'Charley', 'Beta'))`를 한 것과 비슷하다."
   ]
  },
  {
   "cell_type": "code",
   "execution_count": 97,
   "id": "cae21741",
   "metadata": {
    "lines_to_next_cell": 2
   },
   "outputs": [
    {
     "data": {
      "text/plain": [
       "['Alpha', 'Beta', 'Alpha', 'Charley', 'Beta']\n",
       "Categories (3, object): ['Alpha', 'Beta', 'Charley']"
      ]
     },
     "execution_count": 97,
     "metadata": {},
     "output_type": "execute_result"
    }
   ],
   "source": [
    "x = pd.Categorical(['Alpha', 'Beta', 'Alpha', 'Charley', 'Beta'])\n",
    "x"
   ]
  },
  {
   "cell_type": "markdown",
   "id": "db4c5edf",
   "metadata": {},
   "source": [
    "위에서 생성한 `x`와 동일한 내용을 담고 있는 넘파이 배열 `y`를 다음과 같이 생성했다."
   ]
  },
  {
   "cell_type": "code",
   "execution_count": 98,
   "id": "4fe85c74",
   "metadata": {},
   "outputs": [
    {
     "data": {
      "text/plain": [
       "(numpy.ndarray, dtype('<U7'))"
      ]
     },
     "execution_count": 98,
     "metadata": {},
     "output_type": "execute_result"
    }
   ],
   "source": [
    "y = np.array(['Alpha', 'Beta', 'Alpha', 'Charley', 'Beta'])\n",
    "type(y), y.dtype"
   ]
  },
  {
   "cell_type": "markdown",
   "id": "e2073387",
   "metadata": {},
   "source": [
    "문자열을 담고 있는 배열은 `dtype='O'` 또는 `dtype='U'`로 생성할 수 있다. `pd.array([], dtype='O')` 또는 `pd.array([], dtype='U')`과 같은 문자열 넘파이 배열과 `pd.Categorical()`의 차이는 데이터를 저장하는 방식에 있다. `pd.Categorical()`은 먼저 범주를 확인한다. `y`를 보면 총 자료는 5개이지만, `Alpha`와 `Beta`가 반복되고 있다. 그래서 총 범주는 3개로 리스트로 나타내면 `['Alpha', 'Beta', 'Charley']`이다. 그리고 이들에 코드를 배정한다. `Alpha`는 0, `Beta`는 1, `Charley`는 2로 코드를 배정한 후, 실제 데이터는 배정된 코드를 사용하여 표현한다. `['Alpha', 'Beta', 'Alpha', 'Charley', 'Beta']`는 코드로 나타내면 `[0,1,0,2,1]`이 된다.\n",
    "\n",
    "`pd.Categorical()`은 이렇게 데이터는 범주(category)와 코드로 분리해 저장하게 된다. 범주와 코드는 `.categories`와 `.codes`로 확인할 수 있다."
   ]
  },
  {
   "cell_type": "code",
   "execution_count": 99,
   "id": "b72241c0",
   "metadata": {},
   "outputs": [
    {
     "data": {
      "text/plain": [
       "(Index(['Alpha', 'Beta', 'Charley'], dtype='object'),\n",
       " array([0, 1, 0, 2, 1], dtype=int8))"
      ]
     },
     "execution_count": 99,
     "metadata": {},
     "output_type": "execute_result"
    }
   ],
   "source": [
    "x.categories, x.codes "
   ]
  },
  {
   "cell_type": "markdown",
   "id": "34a0b9ef",
   "metadata": {},
   "source": [
    "만약 결측값(`None` 또는 `np.nan`)이 있다면 코드 `-1`로 저장된다."
   ]
  },
  {
   "cell_type": "code",
   "execution_count": 100,
   "id": "50faf7c8",
   "metadata": {},
   "outputs": [
    {
     "data": {
      "text/plain": [
       "(array([ 0,  1,  0, -1, -1], dtype=int8),\n",
       " ['Alpha', 'Beta', 'Alpha', NaN, NaN]\n",
       " Categories (2, object): ['Alpha', 'Beta'])"
      ]
     },
     "execution_count": 100,
     "metadata": {},
     "output_type": "execute_result"
    }
   ],
   "source": [
    "x = pd.Categorical(['Alpha', 'Beta', 'Alpha', np.nan, None])\n",
    "x.codes, x"
   ]
  },
  {
   "cell_type": "markdown",
   "id": "d6181cf5",
   "metadata": {},
   "source": [
    "위에서 자료에 `'Charley'`가 포함되어 있지 않기 때문에 결과에 `Categories`를 보면 `'Alpha'`와 `'Beta'`만 있다. 만약 범주를 이미 알고 있다면 `categories=`를 통해 알려줄 수 있다."
   ]
  },
  {
   "cell_type": "code",
   "execution_count": 101,
   "id": "b7ad7621",
   "metadata": {},
   "outputs": [
    {
     "data": {
      "text/plain": [
       "['Alpha', 'Beta', 'Alpha', NaN, NaN]\n",
       "Categories (3, object): ['Alpha', 'Beta', 'Charley']"
      ]
     },
     "execution_count": 101,
     "metadata": {},
     "output_type": "execute_result"
    }
   ],
   "source": [
    "x = pd.Categorical(['Alpha', 'Beta', 'Alpha', np.nan, None],\n",
    "                  categories=['Alpha', 'Beta', 'Charley'])\n",
    "x"
   ]
  },
  {
   "cell_type": "markdown",
   "id": "7edcb282",
   "metadata": {},
   "source": [
    "### 범주형 데이터를 다룰 때 유의할 점"
   ]
  },
  {
   "cell_type": "code",
   "execution_count": null,
   "id": "fed7ac80",
   "metadata": {},
   "outputs": [],
   "source": []
  },
  {
   "cell_type": "markdown",
   "id": "e8330a69",
   "metadata": {},
   "source": [
    "판다스 시리즈를 조작할 때 `dtype`이 범주형이라면 좀더 유의해야 한다. 다음의 예를 보자."
   ]
  },
  {
   "cell_type": "code",
   "execution_count": 102,
   "id": "582477eb",
   "metadata": {},
   "outputs": [
    {
     "data": {
      "text/plain": [
       "0    1\n",
       "1    2\n",
       "2    3\n",
       "3    2\n",
       "4    5\n",
       "dtype: int64"
      ]
     },
     "execution_count": 102,
     "metadata": {},
     "output_type": "execute_result"
    }
   ],
   "source": [
    "x = pd.Series([1,2,3,2])\n",
    "x[4] = 5 # dtype('int64')에서는 추가가 어렵지 않다\n",
    "x"
   ]
  },
  {
   "cell_type": "markdown",
   "id": "d98fd2a7",
   "metadata": {},
   "source": [
    "데이터 타입이 정수라면 `x[4]=5`와 같이 사용해서 `x`에 4-번째 원소를 추가할 수 있다. 하지만 범주형이라면?"
   ]
  },
  {
   "cell_type": "code",
   "execution_count": 103,
   "id": "cebc2925",
   "metadata": {},
   "outputs": [
    {
     "data": {
      "text/plain": [
       "0    a\n",
       "1    b\n",
       "2    b\n",
       "3    a\n",
       "4    b\n",
       "dtype: category\n",
       "Categories (2, object): ['a', 'b']"
      ]
     },
     "execution_count": 103,
     "metadata": {},
     "output_type": "execute_result"
    }
   ],
   "source": [
    "s = pd.Series(['a', 'b', 'b', 'a'], dtype='category')\n",
    "s[4] = 'b' # 하지만 dtype이 object로 바뀜\n",
    "s"
   ]
  },
  {
   "cell_type": "markdown",
   "id": "5224d8cc",
   "metadata": {},
   "source": [
    "정수형 데이터 타입과 마찬가지로 성공적으로 원소를 추가한 듯 보이지만, `dtype`이 `object`으로 바뀌었다. 원한다면 `s.astype('category')`로 다시 범주형으로 돌려 놓을 수 있지만, 왜 그럴까?"
   ]
  },
  {
   "cell_type": "code",
   "execution_count": 104,
   "id": "f1ba79cd",
   "metadata": {},
   "outputs": [
    {
     "data": {
      "text/plain": [
       "0    a\n",
       "1    b\n",
       "2    b\n",
       "3    a\n",
       "4    b\n",
       "dtype: category\n",
       "Categories (2, object): ['a', 'b']"
      ]
     },
     "execution_count": 104,
     "metadata": {},
     "output_type": "execute_result"
    }
   ],
   "source": [
    "s = s.astype('category')\n",
    "s"
   ]
  },
  {
   "cell_type": "markdown",
   "id": "d387782a",
   "metadata": {},
   "source": [
    "추가되는 원소의 타입을 확인해 볼 필요가 있다."
   ]
  },
  {
   "cell_type": "code",
   "execution_count": 105,
   "id": "0920347c",
   "metadata": {},
   "outputs": [
    {
     "data": {
      "text/plain": [
       "str"
      ]
     },
     "execution_count": 105,
     "metadata": {},
     "output_type": "execute_result"
    }
   ],
   "source": [
    "type('b')"
   ]
  },
  {
   "cell_type": "markdown",
   "id": "23a906d6",
   "metadata": {},
   "source": [
    "추가되는 원소의 타입과 시리즈의 데이터 타입이 다르다. 위에서 dtype이 `int64`인 경우에도 비슷한 경우가 있다."
   ]
  },
  {
   "cell_type": "code",
   "execution_count": 106,
   "id": "dd8b12ae",
   "metadata": {},
   "outputs": [
    {
     "data": {
      "text/plain": [
       "0    1.0\n",
       "1    2.0\n",
       "2    3.0\n",
       "3    2.0\n",
       "4    5.0\n",
       "5    1.2\n",
       "dtype: float64"
      ]
     },
     "execution_count": 106,
     "metadata": {},
     "output_type": "execute_result"
    }
   ],
   "source": [
    "x[5] = 1.2\n",
    "x"
   ]
  },
  {
   "cell_type": "markdown",
   "id": "aad32fe6",
   "metadata": {},
   "source": [
    "기존의 원소는 정수형이고, 새롭게 추가되는 원소가 `float64`일 때, 결과는 dtype이 `float64`로 변경되었다."
   ]
  },
  {
   "cell_type": "markdown",
   "id": "d645986b",
   "metadata": {},
   "source": [
    "그렇다면 이제 dtype을 보존하면서 새로운 원소를 추가하려면 어떻게 해야 할까? 복잡해보이지만 `pd.concat()`을 활용하면 다음과 같다."
   ]
  },
  {
   "cell_type": "code",
   "execution_count": 107,
   "id": "c366e490",
   "metadata": {},
   "outputs": [
    {
     "data": {
      "text/plain": [
       "0    a\n",
       "1    b\n",
       "2    b\n",
       "3    a\n",
       "4    b\n",
       "0    b\n",
       "dtype: category\n",
       "Categories (2, object): ['a', 'b']"
      ]
     },
     "execution_count": 107,
     "metadata": {},
     "output_type": "execute_result"
    }
   ],
   "source": [
    "pd.concat([s, pd.Series(['b'], dtype=unordered(['a', 'b']))])"
   ]
  },
  {
   "cell_type": "markdown",
   "id": "9357ffc0",
   "metadata": {},
   "source": [
    "이때 추가하는 시리즈의 dtype에 유의해야 한다. 동일한 dtype끼리 합칠 때에는 dtype에 변화가 없다. 하지만 그렇지 않다면?"
   ]
  },
  {
   "cell_type": "code",
   "execution_count": 108,
   "id": "77d98afe",
   "metadata": {},
   "outputs": [
    {
     "data": {
      "text/plain": [
       "0    a\n",
       "1    b\n",
       "2    b\n",
       "3    a\n",
       "4    b\n",
       "0    b\n",
       "dtype: object"
      ]
     },
     "execution_count": 108,
     "metadata": {},
     "output_type": "execute_result"
    }
   ],
   "source": [
    "pd.concat([s, pd.Series(['b'], dtype=unordered(['b']))])"
   ]
  },
  {
   "cell_type": "markdown",
   "id": "e5eaf102",
   "metadata": {},
   "source": [
    "범주가 많건 적던 dtype이 다르다면 dtype은 `object`로 변경된다. 물론 `.astype('category')`로 다시 범주형으로 변환하거나 다음과 같이 `union_categorical()` 함수를 사용할 수 있다(순위형인 경우, 범주는 같은데 순위가 다르다면 에러가 발생한다. 만약 순위를 무시하고 싶다면 `ignore_order=True`로 설정한다.)"
   ]
  },
  {
   "cell_type": "code",
   "execution_count": 109,
   "id": "ab36371e",
   "metadata": {
    "lines_to_next_cell": 2
   },
   "outputs": [
    {
     "data": {
      "text/plain": [
       "0    a\n",
       "1    b\n",
       "2    b\n",
       "3    a\n",
       "4    b\n",
       "dtype: category\n",
       "Categories (2, object): ['a', 'b']"
      ]
     },
     "execution_count": 109,
     "metadata": {},
     "output_type": "execute_result"
    }
   ],
   "source": [
    "from pandas.api.types import union_categoricals\n",
    "union_categoricals([s, pd.Series(['b'], dtype=unordered(['b']))])\n",
    "s"
   ]
  },
  {
   "cell_type": "markdown",
   "id": "9a439210",
   "metadata": {},
   "source": [
    "한 가지 아쉬운 점은 판다스 시리즈의 경우 인덱스가 보존되지 않는다는 점이다. 인덱스를 보존하고자 한다면 다음과 같이 사용할 수 있다."
   ]
  },
  {
   "cell_type": "code",
   "execution_count": 110,
   "id": "2b4fa2d3",
   "metadata": {
    "lines_to_next_cell": 2
   },
   "outputs": [
    {
     "data": {
      "text/plain": [
       "0    a\n",
       "1    b\n",
       "2    b\n",
       "3    a\n",
       "4    b\n",
       "0    b\n",
       "dtype: category\n",
       "Categories (2, object): ['a', 'b']"
      ]
     },
     "execution_count": 110,
     "metadata": {},
     "output_type": "execute_result"
    }
   ],
   "source": [
    "s2 = pd.Series(['b'], dtype=unordered(['b']))\n",
    "pd.Series(union_categoricals([s, s2]),\n",
    "          index = s.index.tolist() + s2.index.tolist())"
   ]
  },
  {
   "cell_type": "markdown",
   "id": "50c56f78",
   "metadata": {},
   "source": [
    "### 범주형 시리즈의 dtype"
   ]
  },
  {
   "cell_type": "code",
   "execution_count": 111,
   "id": "df826132",
   "metadata": {},
   "outputs": [
    {
     "data": {
      "text/plain": [
       "dtype('float64')"
      ]
     },
     "execution_count": 111,
     "metadata": {},
     "output_type": "execute_result"
    }
   ],
   "source": [
    "x.dtype"
   ]
  },
  {
   "cell_type": "markdown",
   "id": "d9b8b6fe",
   "metadata": {},
   "source": [
    "범주형의 `dtype`은 다른 `dtype`(예. `dtype('int8')`, `dtype('float')` 등. 아래 참조.)과 달리 상당히 길다."
   ]
  },
  {
   "cell_type": "code",
   "execution_count": 112,
   "id": "e2f61223",
   "metadata": {},
   "outputs": [
    {
     "data": {
      "text/plain": [
       "dtype('int64')"
      ]
     },
     "execution_count": 112,
     "metadata": {},
     "output_type": "execute_result"
    }
   ],
   "source": [
    "y = np.array([1,2,3])\n",
    "y.dtype"
   ]
  },
  {
   "cell_type": "markdown",
   "id": "19161ce3",
   "metadata": {},
   "source": [
    "두 범주형 데이터의 `dtype`이 같으려면, 범주가 같아야 하고, 그리고 순위형이라면 순위도 같아야 한다. 다음을 보자."
   ]
  },
  {
   "cell_type": "code",
   "execution_count": 114,
   "id": "ef6618b1",
   "metadata": {},
   "outputs": [],
   "source": [
    "#from mypack.utils import ordered, unordered"
   ]
  },
  {
   "cell_type": "code",
   "execution_count": 115,
   "id": "8e16722c",
   "metadata": {},
   "outputs": [],
   "source": [
    "x1 = pd.Series(['c', 'b', 'b', 'a'], dtype=ordered(['a', 'b', 'c']))\n",
    "x2 = pd.Series(['c', 'b', 'b', 'a', 'c', 'a'], dtype=ordered(['a', 'b', 'c']))\n",
    "x3 = pd.Series(['c', 'b', 'b', 'a'], dtype=ordered(['c', 'b', 'a']))\n",
    "x4 = pd.Series(['c', 'b', 'b', 'a'], dtype=ordered(['a', 'b']))\n",
    "u1 = pd.Series(['c', 'b', 'b', 'a'], dtype=unordered(['a', 'b', 'c']))\n",
    "u2 = pd.Series(['c', 'b', 'b', 'a', 'c', 'a'], dtype=unordered(['a', 'b', 'c']))\n",
    "u3 = pd.Series(['c', 'b', 'b', 'a'], dtype=unordered(['c', 'b', 'a']))\n",
    "u4 = pd.Series(['c', 'b', 'b', 'a'], dtype=unordered(['a', 'b']))\n",
    "s1 = pd.Series(['c', 'b', 'b', 'a'])"
   ]
  },
  {
   "cell_type": "code",
   "execution_count": 116,
   "id": "406e6505",
   "metadata": {},
   "outputs": [
    {
     "data": {
      "text/plain": [
       "(CategoricalDtype(categories=['a', 'b', 'c'], ordered=True),\n",
       " CategoricalDtype(categories=['a', 'b', 'c'], ordered=True),\n",
       " CategoricalDtype(categories=['c', 'b', 'a'], ordered=True),\n",
       " CategoricalDtype(categories=['a', 'b'], ordered=True))"
      ]
     },
     "execution_count": 116,
     "metadata": {},
     "output_type": "execute_result"
    }
   ],
   "source": [
    "x1.dtype, x2.dtype, x3.dtype, x4.dtype"
   ]
  },
  {
   "cell_type": "code",
   "execution_count": 117,
   "id": "e74d78e5",
   "metadata": {},
   "outputs": [
    {
     "data": {
      "text/plain": [
       "(CategoricalDtype(categories=['a', 'b', 'c'], ordered=False),\n",
       " CategoricalDtype(categories=['a', 'b', 'c'], ordered=False),\n",
       " CategoricalDtype(categories=['c', 'b', 'a'], ordered=False),\n",
       " CategoricalDtype(categories=['a', 'b'], ordered=False))"
      ]
     },
     "execution_count": 117,
     "metadata": {},
     "output_type": "execute_result"
    }
   ],
   "source": [
    "u1.dtype, u2.dtype, u3.dtype, u4.dtype"
   ]
  },
  {
   "cell_type": "code",
   "execution_count": 118,
   "id": "d4144f87",
   "metadata": {},
   "outputs": [
    {
     "data": {
      "text/plain": [
       "(True, False, False, False, False, False)"
      ]
     },
     "execution_count": 118,
     "metadata": {},
     "output_type": "execute_result"
    }
   ],
   "source": [
    "x1.dtype == x2.dtype, x1.dtype == x3.dtype, x1.dtype == x4.dtype, \\\n",
    "x2.dtype == x3.dtype, x2.dtype == x4.dtype, x3.dtype == x4.dtype"
   ]
  },
  {
   "cell_type": "markdown",
   "id": "fd2ba813",
   "metadata": {},
   "source": [
    "순위형 데이터타입(`dtype`)의 경우는 앞에서 얘기했듯이 **범주와 순위**가 모두 같아야 데이터 타입이 같다."
   ]
  },
  {
   "cell_type": "code",
   "execution_count": 119,
   "id": "1c54cf63",
   "metadata": {},
   "outputs": [
    {
     "data": {
      "text/plain": [
       "True"
      ]
     },
     "execution_count": 119,
     "metadata": {},
     "output_type": "execute_result"
    }
   ],
   "source": [
    "x1.dtype == ordered(['a', 'b', 'c'])"
   ]
  },
  {
   "cell_type": "markdown",
   "id": "1451a178",
   "metadata": {},
   "source": [
    "다음 결과를 보면 명목형의 경우 **범주의 순서는 상관없다**는 것을 확인할 수 있다."
   ]
  },
  {
   "cell_type": "code",
   "execution_count": 120,
   "id": "c28a5fdb",
   "metadata": {},
   "outputs": [
    {
     "data": {
      "text/plain": [
       "(True, True, False, True, False, False)"
      ]
     },
     "execution_count": 120,
     "metadata": {},
     "output_type": "execute_result"
    }
   ],
   "source": [
    "u1.dtype == u2.dtype, u1.dtype == u3.dtype, u1.dtype == x4.dtype, \\\n",
    "u2.dtype == u3.dtype, u2.dtype == u4.dtype, u3.dtype == x4.dtype"
   ]
  },
  {
   "cell_type": "markdown",
   "id": "5bb45521",
   "metadata": {},
   "source": [
    "예외적으로 모든 범주형 dtype은 \"category\"와 `==`이다."
   ]
  },
  {
   "cell_type": "code",
   "execution_count": 121,
   "id": "1e24a096",
   "metadata": {},
   "outputs": [
    {
     "data": {
      "text/plain": [
       "(True, True, True, True)"
      ]
     },
     "execution_count": 121,
     "metadata": {},
     "output_type": "execute_result"
    }
   ],
   "source": [
    "u1.dtype == \"category\", u2.dtype == \"category\", u3.dtype == \"category\", u4.dtype == \"category\""
   ]
  },
  {
   "cell_type": "code",
   "execution_count": 122,
   "id": "babb62cc",
   "metadata": {},
   "outputs": [
    {
     "data": {
      "text/plain": [
       "False"
      ]
     },
     "execution_count": 122,
     "metadata": {},
     "output_type": "execute_result"
    }
   ],
   "source": [
    "u1.dtype == 'cat' # 'category'로 적어줄 경우만 True로 출력된다."
   ]
  },
  {
   "cell_type": "markdown",
   "id": "95b53de2",
   "metadata": {},
   "source": [
    "다음과 같은 방식도 유용하다."
   ]
  },
  {
   "cell_type": "code",
   "execution_count": 123,
   "id": "74d57577",
   "metadata": {},
   "outputs": [
    {
     "data": {
      "text/plain": [
       "(True, True, True, True)"
      ]
     },
     "execution_count": 123,
     "metadata": {},
     "output_type": "execute_result"
    }
   ],
   "source": [
    "isinstance(x1.dtype, CategoricalDtype), isinstance(x2.dtype, CategoricalDtype), \\\n",
    "isinstance(x3.dtype, CategoricalDtype), isinstance(x4.dtype, CategoricalDtype)"
   ]
  },
  {
   "cell_type": "code",
   "execution_count": 124,
   "id": "b6fd6975",
   "metadata": {},
   "outputs": [
    {
     "data": {
      "text/plain": [
       "(True, True, True, True)"
      ]
     },
     "execution_count": 124,
     "metadata": {},
     "output_type": "execute_result"
    }
   ],
   "source": [
    "isinstance(u1.dtype, CategoricalDtype), isinstance(u2.dtype, CategoricalDtype), \\\n",
    "isinstance(u3.dtype, CategoricalDtype), isinstance(u4.dtype, CategoricalDtype)"
   ]
  },
  {
   "cell_type": "markdown",
   "id": "6c132ee7",
   "metadata": {},
   "source": [
    "아래에서 보듯이 `x1`은 `pd.Series`이고, `x1.values`는 `pd.Categorical`이다"
   ]
  },
  {
   "cell_type": "code",
   "execution_count": 125,
   "id": "c916b6a0",
   "metadata": {},
   "outputs": [
    {
     "data": {
      "text/plain": [
       "(True, False)"
      ]
     },
     "execution_count": 125,
     "metadata": {},
     "output_type": "execute_result"
    }
   ],
   "source": [
    "isinstance(x1.values, pd.Categorical), isinstance(s1.values, pd.Categorical)"
   ]
  },
  {
   "cell_type": "code",
   "execution_count": 126,
   "id": "855c3fdd",
   "metadata": {},
   "outputs": [
    {
     "data": {
      "text/plain": [
       "(True, True)"
      ]
     },
     "execution_count": 126,
     "metadata": {},
     "output_type": "execute_result"
    }
   ],
   "source": [
    "isinstance(x1, pd.Series), isinstance(s1, pd.Series)"
   ]
  },
  {
   "cell_type": "code",
   "execution_count": null,
   "id": "9a0833e2",
   "metadata": {},
   "outputs": [],
   "source": []
  },
  {
   "cell_type": "code",
   "execution_count": null,
   "id": "0eaacec4",
   "metadata": {},
   "outputs": [],
   "source": []
  },
  {
   "cell_type": "code",
   "execution_count": null,
   "id": "0e1a36af",
   "metadata": {},
   "outputs": [],
   "source": []
  },
  {
   "cell_type": "code",
   "execution_count": null,
   "id": "0186e196",
   "metadata": {},
   "outputs": [],
   "source": []
  },
  {
   "cell_type": "code",
   "execution_count": null,
   "id": "39fd9481",
   "metadata": {},
   "outputs": [],
   "source": []
  }
 ],
 "metadata": {
  "jupytext": {
   "cell_metadata_filter": "-all",
   "encoding": "# -*- coding: utf-8 -*-",
   "formats": "ipynb,py:percent"
  },
  "kernelspec": {
   "display_name": "rtopython4-pip",
   "language": "python",
   "name": "rtopython4-pip"
  },
  "language_info": {
   "codemirror_mode": {
    "name": "ipython",
    "version": 3
   },
   "file_extension": ".py",
   "mimetype": "text/x-python",
   "name": "python",
   "nbconvert_exporter": "python",
   "pygments_lexer": "ipython3",
   "version": "3.9.18"
  }
 },
 "nbformat": 4,
 "nbformat_minor": 5
}
